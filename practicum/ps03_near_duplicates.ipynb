{
  "cells": [
    {
      "cell_type": "markdown",
      "source": [
        "<font size=\"+2\" color=\"blue\">Additional results: various ngram sizes</font>"
      ],
      "metadata": {
        "id": "g0VA-xRLKFEM"
      }
    },
    {
      "cell_type": "markdown",
      "metadata": {
        "id": "T4wVKyBe0t7H"
      },
      "source": [
        "# Practice Session 03: Find near-duplicates using shingling"
      ]
    },
    {
      "cell_type": "markdown",
      "metadata": {
        "id": "YQAA_0h00t7K"
      },
      "source": [
        "In this session we will take a large corpus of tweets and detect near-duplicates on this corpus using a technique known as *shingling*.\n",
        "\n",
        "Two documents are considered near-duplicates if they share a large amount of ngrams. The *ngrams* of a phrase are overlapping sequences of words of length *n*. For instance, the phrase '*There is no call we do not answer.*' has the following 3-grams:\n",
        "\n",
        "* 'there is no'\n",
        "* 'is no call'\n",
        "* 'no call we'\n",
        "* 'call we do'\n",
        "* 'we do not'\n",
        "* 'do not answer'\n",
        "\n",
        "To measure the similarity between two sets, we will use the [Jaccard index](https://en.wikipedia.org/wiki/Jaccard_index), which is the size of the intersection of the two sets divided by their union. This values goes between 0.0 (meaning the documents have no ngrams in common) to 1.0 (meaning the documents have the same ngrams).\n",
        "\n",
        "To speed up things, instead of comparing the set of shingles of two documents which can be large, we will derive a fixed-length *signature* or *sketch* for each document. This will be obtained by (1) applying a random permutation to the list of possible ngrams, and (2) pick the ngram that appears first in the permuted list. The Jaccard index between these signatures will be a good approximation of the Jaccard index between the original sets of ngrams.\n",
        "\n",
        "<font size=\"-1\" color=\"gray\">(Remove this cell when delivering.)</font>"
      ]
    },
    {
      "cell_type": "markdown",
      "metadata": {
        "id": "Xp_8fgN90t7L"
      },
      "source": [
        "# 0. Dataset\n",
        "\n",
        "The corpus you will use contains about 35,500 messages (\"tweets\") posted between March 13th, 2020, and March 14th, 2020, containing a hashtag or keyword related to COVID-19, and posted by a user declaring a location in Catalonia.\n",
        "\n",
        "The tweets are in a format known as [JSON](https://en.wikipedia.org/wiki/JSON#Example). Python's JSON library takes care of translating it into a dictionary.\n",
        "\n",
        "Then, the file is compressed using `gzip`, and can be compressed with the `gunzip` command, although we will read it in compressed form. The file is named `CovidLockdownCatalonia.json.gz`.\n",
        "\n",
        "<font size=\"-1\" color=\"gray\">(Remove this cell when delivering.)</font>"
      ]
    },
    {
      "cell_type": "code",
      "execution_count": null,
      "metadata": {
        "id": "VsYqHQ6t0t7M"
      },
      "outputs": [],
      "source": [
        "import io\n",
        "import json\n",
        "import gzip\n",
        "import re\n",
        "import random\n",
        "import numpy as np\n",
        "import matplotlib.pyplot as plt\n",
        "from timeit import default_timer as timer\n",
        "\n",
        "import datetime"
      ]
    },
    {
      "cell_type": "code",
      "source": [
        "from google.colab import drive\n",
        "drive.mount('/content/drive')"
      ],
      "metadata": {
        "colab": {
          "base_uri": "https://localhost:8080/"
        },
        "id": "J1ltaYr62Usr",
        "outputId": "da910c4f-5ab1-4a99-e7d8-b29856d3a99d"
      },
      "execution_count": null,
      "outputs": [
        {
          "output_type": "stream",
          "name": "stdout",
          "text": [
            "Drive already mounted at /content/drive; to attempt to forcibly remount, call drive.mount(\"/content/drive\", force_remount=True).\n"
          ]
        }
      ]
    },
    {
      "cell_type": "code",
      "execution_count": null,
      "metadata": {
        "colab": {
          "base_uri": "https://localhost:8080/"
        },
        "id": "M2DNPvms0t7N",
        "outputId": "618763af-fc0a-451d-caab-3c08b145564d"
      },
      "outputs": [
        {
          "output_type": "stream",
          "name": "stdout",
          "text": [
            "Read 1000 documents\n"
          ]
        }
      ],
      "source": [
        "# KEEP AS-IS\n",
        "\n",
        "# Input file\n",
        "INPUT_FILENAME = \"CovidLockdownCatalonia.json.gz\"\n",
        "\n",
        "# Array for storing messages\n",
        "messages = []\n",
        "\n",
        "# IMPORTANT:\n",
        "# 1. Set this to 1000 during development\n",
        "# 2. Set this to 10000 once you have completed the development, and answer part 5 with 10000\n",
        "# 3. Set this back to 1000 for delivering your code\n",
        "MAX_MESSAGES = 1000\n",
        "\n",
        "with gzip.open(INPUT_FILENAME, \"rt\", encoding=\"utf-8\") as input_file:\n",
        "\n",
        "    messages_read = 0\n",
        "    for line in input_file:\n",
        "\n",
        "        # Read message\n",
        "        tweet = json.loads(line)\n",
        "\n",
        "        # Keep only messages in Catalan\n",
        "        if tweet[\"lang\"] == \"ca\":\n",
        "\n",
        "            messages_read += 1\n",
        "\n",
        "            if messages_read <= MAX_MESSAGES:\n",
        "                author = tweet[\"user\"][\"screen_name\"]\n",
        "                message = tweet[\"full_text\"]\n",
        "                messages.append(message)\n",
        "\n",
        "print(\"Read %d documents\" % len(messages))"
      ]
    },
    {
      "cell_type": "markdown",
      "metadata": {
        "id": "khc_Jlt80t7N"
      },
      "source": [
        "# 1. Auxiliary functions"
      ]
    },
    {
      "cell_type": "markdown",
      "metadata": {
        "id": "Vxap1RLK0t7N"
      },
      "source": [
        "<font size=\"+1\" color=\"red\">Replace this cell with your code for function \"jaccard_similarity\"</font>"
      ]
    },
    {
      "cell_type": "code",
      "source": [
        "def jaccard_similarity(set1,set2):\n",
        "  set1, set2=set(set1), set(set2)\n",
        "  union=len(set1.union(set2))\n",
        "  return len(set1.intersection(set2))/union if union!=0 else 0"
      ],
      "metadata": {
        "id": "mkqvcuB94N1p"
      },
      "execution_count": null,
      "outputs": []
    },
    {
      "cell_type": "markdown",
      "metadata": {
        "id": "SvQfAlUP0t7N"
      },
      "source": [
        "Write code to test your function. Your tests cases should be:\n",
        "\n",
        "1. Two arrays for which the jaccard similarity is 0.5\n",
        "1. Two arrays for which the jaccard similarity is 0.75\n",
        "1. Two empty arrays should have jaccard similarity 0.0\n",
        "1. Two arrays for which the jaccard similarity is 1.0\n",
        "\n",
        "<font size=\"-1\" color=\"gray\">(Remove this cell when delivering.)</font>"
      ]
    },
    {
      "cell_type": "markdown",
      "metadata": {
        "id": "WyCNXagG0t7O"
      },
      "source": [
        "<font size=\"+1\" color=\"red\">Replace this cell with your code testing \"jaccard_similarity\"</font>"
      ]
    },
    {
      "cell_type": "code",
      "source": [
        "test_cases = [\n",
        "        ({\"a\", \"b\", \"c\"}, {\"b\", \"c\", \"d\"}),\n",
        "        ({\"a\", \"b\", \"c\", \"d\"}, {\"b\", \"c\", \"d\"}),\n",
        "        ({\"a\", \"b\"}, {\"c\", \"d\"}),\n",
        "        ({\"a\", \"b\", \"c\"}, {\"a\", \"b\", \"c\"})\n",
        "    ]\n",
        "\n",
        "for i, (set1, set2) in enumerate(test_cases, 1):\n",
        "    result = jaccard_similarity(set1, set2)\n",
        "    print(f\"Test {i} - We get: {result:.2f}\")"
      ],
      "metadata": {
        "colab": {
          "base_uri": "https://localhost:8080/"
        },
        "id": "hbJTVRcM7Ire",
        "outputId": "3ebc812a-b7c5-4c11-9670-6b5ccb9920a9"
      },
      "execution_count": null,
      "outputs": [
        {
          "output_type": "stream",
          "name": "stdout",
          "text": [
            "Test 1 - We get: 0.50\n",
            "Test 2 - We get: 0.75\n",
            "Test 3 - We get: 0.00\n",
            "Test 4 - We get: 1.00\n"
          ]
        }
      ]
    },
    {
      "cell_type": "markdown",
      "metadata": {
        "id": "PDqLAfQF0t7O"
      },
      "source": [
        "<font size=\"+1\" color=\"red\">Replace this cell with your code for function \"clean\"</font>"
      ]
    },
    {
      "cell_type": "code",
      "source": [
        "def clean(text):\n",
        "    # 1. Delete \"RT \"\n",
        "    text = re.sub(r'\\bRT\\b\\s*', '', text).lower()\n",
        "\n",
        "    # 3. Romanization\n",
        "    text = text.replace('ñ', 'n')\n",
        "    text = text.replace('ó', 'o').replace('ò', 'o').replace('ö', 'o')\n",
        "    text = text.replace('à', 'a').replace('á', 'a').replace('ä', 'a')\n",
        "    text = text.replace('è', 'e').replace('é', 'e').replace('ë', 'e')\n",
        "    text = text.replace('ì', 'i').replace('í', 'i').replace('ï', 'i')\n",
        "    text = text.replace('ù', 'u').replace('ú', 'u').replace('ü', 'u')\n",
        "    text = text.replace('l·l', 'll')\n",
        "\n",
        "    # 4. Remove URLs (http y https)\n",
        "    text = re.sub(r'http[s]?://\\S+', '', text)\n",
        "\n",
        "    # 6. Remove very no letter or number\n",
        "    text = re.sub(r'[^a-zA-Z0-9\\s]', '', text)\n",
        "\n",
        "    # 7. Replace double space to one space\n",
        "    text = re.sub(r'\\s+', ' ', text)\n",
        "\n",
        "    return text.strip()"
      ],
      "metadata": {
        "id": "FSL_-5pBfdGu"
      },
      "execution_count": null,
      "outputs": []
    },
    {
      "cell_type": "markdown",
      "metadata": {
        "id": "I8994Yg60t7O"
      },
      "source": [
        "<font size=\"+1\" color=\"red\">Replace this cell with your code testing function \"clean\"</font>"
      ]
    },
    {
      "cell_type": "code",
      "source": [
        "# Print results\n",
        "for i in range(0,5):\n",
        "    cleaned_text = clean(messages[i])\n",
        "    print(f\"Test {i}:\")\n",
        "    print(f\"Original: {messages[i]}\")\n",
        "    print(f\"Cleaned:  {cleaned_text}\")\n",
        "    print()"
      ],
      "metadata": {
        "colab": {
          "base_uri": "https://localhost:8080/"
        },
        "id": "4Sv41z61Akzp",
        "outputId": "a6def621-f019-47cb-cd52-65263fe94847"
      },
      "execution_count": null,
      "outputs": [
        {
          "output_type": "stream",
          "name": "stdout",
          "text": [
            "Test 0:\n",
            "Original: RT @aramateix: La gestió del telèfon d'atenció 061 depèn de Ferrovial. La decisió del @govern NO modifica això. La gent no pagarà de manera…\n",
            "Cleaned:  aramateix la gestio del telefon datencio 061 depen de ferrovial la decisio del govern no modifica aixo la gent no pagara de manera\n",
            "\n",
            "Test 1:\n",
            "Original: RT @Totbadalona: 🦠Els restaurants han de reduir el seu aforament en un 66% per garantir la seguretat davant del coronavirus #Badalona https…\n",
            "Cleaned:  totbadalona els restaurants han de reduir el seu aforament en un 66 per garantir la seguretat davant del coronavirus badalona https\n",
            "\n",
            "Test 2:\n",
            "Original: RT @XSalaimartin: Fa temps que sabem que aquest tal Garcia-Page és un miserable. Però amb això se supera fins i tot a sí mateix. https://t.…\n",
            "Cleaned:  xsalaimartin fa temps que sabem que aquest tal garciapage es un miserable pero amb aixo se supera fins i tot a si mateix\n",
            "\n",
            "Test 3:\n",
            "Original: RT @marctarinmarti: 2. La transmissió de la #COVID19 és per gotes. Per tant, raó de més de recloure's a casa si presenteu tos, febre, mucos…\n",
            "Cleaned:  marctarinmarti 2 la transmissio de la covid19 es per gotes per tant rao de mes de recloures a casa si presenteu tos febre mucos\n",
            "\n",
            "Test 4:\n",
            "Original: RT @MACanadell: Heu vist algun ministre danès, corea, itàlia o xinès plorant en roda de premsa pel #COVID19 ?\n",
            "\n",
            "No. Perquè els ministres no…\n",
            "Cleaned:  macanadell heu vist algun ministre danes corea italia o xines plorant en roda de premsa pel covid19 no perque els ministres no\n",
            "\n"
          ]
        }
      ]
    },
    {
      "cell_type": "markdown",
      "metadata": {
        "id": "JiVAriAa0t7O"
      },
      "source": [
        "# 2. Implement an n-gram extractor"
      ]
    },
    {
      "cell_type": "markdown",
      "metadata": {
        "id": "Po-CrpGJ0t7O"
      },
      "source": [
        "<font size=\"+1\" color=\"red\">Replace this cell with your code implementing function \"ngrams(text,size)\"</font>"
      ]
    },
    {
      "cell_type": "code",
      "source": [
        "MIN_TOKEN_LENGTH = 3\n",
        "\n",
        "def ngrams(text, size):\n",
        "    tokens = clean(text).split()\n",
        "    ngrams = []\n",
        "    # your code here\n",
        "    list1=[i for i in tokens if len(i)>=MIN_TOKEN_LENGTH]\n",
        "    for i in range(0,len(list1)-size+1):\n",
        "        ngrams.append(\" \".join(list1[i:i+size]))\n",
        "\n",
        "    return ngrams"
      ],
      "metadata": {
        "id": "-SbeCNuiAx10"
      },
      "execution_count": null,
      "outputs": []
    },
    {
      "cell_type": "markdown",
      "metadata": {
        "id": "9-61qUIf0t7O"
      },
      "source": [
        "<font size=\"+1\" color=\"red\">Replace this cell with your code testing function \"ngrams\"</font>"
      ]
    },
    {
      "cell_type": "code",
      "source": [
        "print(messages[990])\n",
        "print(ngrams(messages[990], 3))"
      ],
      "metadata": {
        "colab": {
          "base_uri": "https://localhost:8080/"
        },
        "id": "ESC3NU4dCPXC",
        "outputId": "669022f1-6f68-48aa-cebd-3e1633617c1f"
      },
      "execution_count": null,
      "outputs": [
        {
          "output_type": "stream",
          "name": "stdout",
          "text": [
            "Clam per la suspensió dels desnonaments en plena crisi pel coronavirus https://t.co/0g1AtSELwl\n",
            "['clam per suspensio', 'per suspensio dels', 'suspensio dels desnonaments', 'dels desnonaments plena', 'desnonaments plena crisi', 'plena crisi pel', 'crisi pel coronavirus']\n"
          ]
        }
      ]
    },
    {
      "cell_type": "markdown",
      "metadata": {
        "id": "ruUfsoUj0t7O"
      },
      "source": [
        "# 3. Estimation of brute force all-pairs method"
      ]
    },
    {
      "cell_type": "code",
      "execution_count": null,
      "metadata": {
        "id": "tGt08Fe00t7O"
      },
      "outputs": [],
      "source": [
        "# LEAVE AS-IS\n",
        "\n",
        "def time_brute_force_similarities(messages, limit, ngram_size):\n",
        "    if limit > len(messages):\n",
        "        raise ValueError(\"Limit should be less than or equal than the number of messages\")\n",
        "\n",
        "    # Start a timer\n",
        "    start = timer()\n",
        "\n",
        "    # Iterate through document identifiers\n",
        "    for docid1 in range(np.min([len(messages), limit])):\n",
        "\n",
        "        # Clean document 1 and extract ngrams\n",
        "        doc1 = clean(messages[docid1])\n",
        "        ngrams1 = ngrams(doc1, ngram_size)\n",
        "\n",
        "        # Iterate through document identifiers larger than doc2\n",
        "        for docid2 in range(docid1+1, np.min([len(messages), limit])):\n",
        "\n",
        "            # Clean document 2 and extract ngrams\n",
        "            doc2 = clean(messages[docid2])\n",
        "            ngrams2 = ngrams(doc2, ngram_size)\n",
        "\n",
        "            # Compute similarity\n",
        "            similarity = jaccard_similarity(ngrams1, ngrams2)\n",
        "\n",
        "    end = timer()\n",
        "    return(end - start)"
      ]
    },
    {
      "cell_type": "markdown",
      "metadata": {
        "id": "F2X-dqIQ0t7P"
      },
      "source": [
        "<font size=\"+1\" color=\"red\">Replace this cell with your code for generating the requested plot. Remember to add a title and label for the x and y axis.</font>"
      ]
    },
    {
      "cell_type": "code",
      "source": [
        "x_values = range(1, 1001, 200)\n",
        "y_values = [time_brute_force_similarities(messages, limit, 5) for limit in x_values]\n",
        "\n",
        "plt.figure(figsize=(10, 6))\n",
        "plt.plot(x_values, y_values, marker='o', linestyle='-', color='b')\n",
        "\n",
        "# Labels and title\n",
        "plt.title(\"Message Comparison Time using n-grams of size 5\")\n",
        "plt.xlabel(\"Number of Messages Compared\")\n",
        "plt.ylabel(\"Time (seconds)\")\n",
        "plt.show()"
      ],
      "metadata": {
        "id": "56Rw5awbFRuu",
        "colab": {
          "base_uri": "https://localhost:8080/",
          "height": 564
        },
        "outputId": "81971fbd-0083-4649-bebb-7b89df6a32ce"
      },
      "execution_count": null,
      "outputs": [
        {
          "output_type": "display_data",
          "data": {
            "text/plain": [
              "<Figure size 1000x600 with 1 Axes>"
            ],
            "image/png": "[encoded data removed]"
          },
          "metadata": {}
        }
      ]
    },
    {
      "cell_type": "markdown",
      "metadata": {
        "id": "Mmm9ASm10t7P"
      },
      "source": [
        "<font size=\"+1\" color=\"red\">Replace this cell with (1) a brief commmentary about what you see in this plot, and (2) your estimate for how long it would take to run the brute force similarity computations for the entire input matrix. Express your estimation in hours, minutes, and seconds. Justify precisely your calculations.</font>"
      ]
    },
    {
      "cell_type": "markdown",
      "source": [
        "### Commentary on the Plot:\n",
        "\n",
        "1. **Linear Growth**:\n",
        "   The curve suggests that the time complexity is quadratic, as both axes are linear, and the line slopes upwards steadily.\n",
        "\n",
        "2. **Exponential Escalation**:\n",
        "   After around 600 messages, the time increase becomes more significant, suggesting that larger datasets result in considerably more computational overhead as the number of comparisons grows.\n",
        "\n",
        "---\n",
        "\n",
        "### Estimation for the Full Input Matrix:\n",
        "\n",
        "Given that it took approximately **23 seconds** to compare **800 messages**, we can estimate the time for the full input matrix based on a proportional extrapolation.\n",
        "\n",
        "#### Formula to Estimate Total Time:\n",
        "The brute force approach typically compares each document with every other document, so the number of comparisons for `n` messages is given by the formula for combinations: $ \\frac {n(n+1)}{2}$\n",
        "\n",
        "\n",
        "For 800 messages, we already know it took 23 seconds, so let’s extrapolate this time for the full dataset size.\n",
        "\n",
        "---\n",
        "\n",
        "#### Estimation Steps:\n",
        "\n",
        "1. **Assume dataset size = 1000** (since the code mentions scanning documents up to `docid 1000`).\n",
        "2. Total comparisons for 1000 messages:\n",
        "   $ \\frac{1000 \\times 999}{2} = 499500 \\text{ comparisons}$\n",
        "3. Total comparisons for 800 messages:\n",
        "   $\\frac{800 \\times 799}{2} = 319,600 \\text{ comparisons}$\n",
        "4. Time for 800 messages = **23 seconds**, so we use the ratio:\n",
        "   $\\frac{\\text{Time for 1000 messages}}{\\text{Time for 800 messages}} = \\frac{499,500}{319,600}$\n",
        "   $\\text{Time for 1000 messages} = 23 \\times \\frac{499,500}{319,600} \\approx 35.9 \\text{ seconds}$\n",
        "\n",
        "Then, it would take about **36 seconds**, **0.6 minuts** or **0.01 hours**  for the entire input matrix.\n",
        "\n"
      ],
      "metadata": {
        "id": "JWlgrb2fhqSm"
      }
    },
    {
      "cell_type": "markdown",
      "metadata": {
        "id": "JEarVXoL0t7P"
      },
      "source": [
        "# 4. Computing the doc-ngram matrix"
      ]
    },
    {
      "cell_type": "markdown",
      "metadata": {
        "id": "yeDIpbLL0t7P"
      },
      "source": [
        "## 4.1 Create list of all ngrams"
      ]
    },
    {
      "cell_type": "markdown",
      "metadata": {
        "id": "rzjoRf2_0t7P"
      },
      "source": [
        "<font size=\"+1\" color=\"red\">Replace this cell with your code for creating the ngram_to_index dictionary.</font>"
      ]
    },
    {
      "cell_type": "code",
      "source": [
        "NGRAM_SIZE = 4\n",
        "\n",
        "ngram_to_index = {}\n",
        "index_to_ngram = {}\n",
        "next_index = 0\n",
        "\n",
        "for message in messages:\n",
        "    all_ngrams = ngrams(message, NGRAM_SIZE)\n",
        "\n",
        "    for ngram in all_ngrams:\n",
        "        # YOUR CODE HERE\n",
        "        if ngram not in ngram_to_index:\n",
        "            ngram_to_index[ngram] = next_index\n",
        "            index_to_ngram[next_index] = ngram\n",
        "            next_index += 1\n",
        "\n",
        "num_distinct_ngrams = next_index\n",
        "print(\"There are %d distinct ngrams in the %d documents\" % (num_distinct_ngrams, len(messages)))"
      ],
      "metadata": {
        "colab": {
          "base_uri": "https://localhost:8080/"
        },
        "id": "cOM8WCw8pqZC",
        "outputId": "65312f40-e6c8-42b4-be05-bba6d7a0c9c2"
      },
      "execution_count": null,
      "outputs": [
        {
          "output_type": "stream",
          "name": "stdout",
          "text": [
            "There are 8082 distinct ngrams in the 1000 documents\n"
          ]
        }
      ]
    },
    {
      "cell_type": "markdown",
      "metadata": {
        "id": "bfnVPCKs0t7P"
      },
      "source": [
        "<font size=\"+1\" color=\"red\">Replace this cell with your code for testing the ngram_to_index structure.</font>"
      ]
    },
    {
      "cell_type": "code",
      "source": [
        "test = [\"els restaurants han reduir\", \"supera fins tot mateix\"]\n",
        "\n",
        "# Iterate over the test strings\n",
        "for test_string in test:\n",
        "    # Clean the test string and extract n-grams\n",
        "    cleaned_string = clean(test_string)\n",
        "    extracted_ngrams = ngrams(cleaned_string, NGRAM_SIZE)\n",
        "\n",
        "    print(f\"Testing string: '{test_string}'\")\n",
        "\n",
        "    for ngram in extracted_ngrams:\n",
        "        index = ngram_to_index.get(ngram)\n",
        "\n",
        "        if index is not None:\n",
        "            # Print the n-gram and its corresponding index\n",
        "            print(f\"N-gram: '{ngram}' | Index: {index}\")\n",
        "\n",
        "            # Verify that index_to_ngram returns the same n-gram\n",
        "            retrieved_ngram = index_to_ngram.get(index)\n",
        "            assert retrieved_ngram == ngram, f\"Error: Index {index} does not map back to '{ngram}'\"\n",
        "            print(f\"Index {index} maps back to the same n-gram: '{retrieved_ngram}'\")\n",
        "        else:\n",
        "            print(f\"N-gram: '{ngram}' not found in ngram_to_index.\")\n",
        "\n",
        "    print()\n"
      ],
      "metadata": {
        "colab": {
          "base_uri": "https://localhost:8080/"
        },
        "id": "ZNPLAUiiqWod",
        "outputId": "101f1cf0-93ea-43f9-e87d-08f980daea33"
      },
      "execution_count": null,
      "outputs": [
        {
          "output_type": "stream",
          "name": "stdout",
          "text": [
            "Testing string: 'els restaurants han reduir'\n",
            "N-gram: 'els restaurants han reduir' | Index: 14\n",
            "Index 14 maps back to the same n-gram: 'els restaurants han reduir'\n",
            "\n",
            "Testing string: 'supera fins tot mateix'\n",
            "N-gram: 'supera fins tot mateix' | Index: 37\n",
            "Index 37 maps back to the same n-gram: 'supera fins tot mateix'\n",
            "\n"
          ]
        }
      ]
    },
    {
      "cell_type": "markdown",
      "metadata": {
        "id": "b_nbEUdh0t7Q"
      },
      "source": [
        "## 2.2 Create table ngrams x documents"
      ]
    },
    {
      "cell_type": "code",
      "execution_count": null,
      "metadata": {
        "id": "GK1CAf0r0t7Q",
        "colab": {
          "base_uri": "https://localhost:8080/"
        },
        "outputId": "9e17c2b9-c99c-45e5-8024-caecbdd63b04"
      },
      "outputs": [
        {
          "output_type": "stream",
          "name": "stdout",
          "text": [
            "Matrix dimensions: 8082 rows (distinct shingles) x 1000 columns (distinct documents)\n"
          ]
        }
      ],
      "source": [
        "# LEAVE AS-IS\n",
        "\n",
        "# Create dense matrix in which every cell contains the value \"False\"\n",
        "M_ngram_doc = np.full((num_distinct_ngrams, len(messages)), False)\n",
        "\n",
        "# Print the number of rows and columns of this matrix\n",
        "# numpy.matrix.shape is a tuple, shape[0] is the number of rows, shape[1] the number of columns\n",
        "print(\"Matrix dimensions: %d rows (distinct shingles) x %d columns (distinct documents)\" % M_ngram_doc.shape)"
      ]
    },
    {
      "cell_type": "markdown",
      "metadata": {
        "id": "Ez9jovQ_0t7Q"
      },
      "source": [
        "<font size=\"+1\" color=\"red\">Replace this cell with your code for filling the M_ngram_doc matrix.</font>"
      ]
    },
    {
      "cell_type": "code",
      "source": [
        "# Size n-gram\n",
        "ngram_size = NGRAM_SIZE\n",
        "\n",
        "for docid in range(len(messages)):\n",
        "    message = messages[docid]\n",
        "    all_ngrams = ngrams(message, ngram_size)\n",
        "\n",
        "    for ngram in all_ngrams:\n",
        "        if ngram in ngram_to_index:\n",
        "            index = ngram_to_index[ngram]\n",
        "            M_ngram_doc[index, docid] = True"
      ],
      "metadata": {
        "id": "ZM9hZBbz7xxD"
      },
      "execution_count": null,
      "outputs": []
    },
    {
      "cell_type": "markdown",
      "metadata": {
        "id": "AmEJZFdk0t7U"
      },
      "source": [
        "<font size=\"+1\" color=\"red\">Replace this cell with your code for printing the density of the M_ngram_doc matrix as a percentage. Use 4 decimals.</font>"
      ]
    },
    {
      "cell_type": "code",
      "source": [
        "# Count number of True\n",
        "non_zero_count = sum(sum(row) for row in M_ngram_doc)  # Sumar los valores True en cada fila\n",
        "\n",
        "# Calculate the total size\n",
        "total_cells = len(M_ngram_doc) * len(messages)\n",
        "\n",
        "# Calculate the density percentage\n",
        "density_percentage = (non_zero_count / total_cells) * 100\n",
        "\n",
        "# Print the probability\n",
        "print(f\"Densidad de la matriz M_ngram_doc: {density_percentage:.4f}%\")\n"
      ],
      "metadata": {
        "colab": {
          "base_uri": "https://localhost:8080/"
        },
        "id": "r4GVYt3s_PRg",
        "outputId": "2972bab9-1f4c-48a2-a273-0c82ba4da90c"
      },
      "execution_count": null,
      "outputs": [
        {
          "output_type": "stream",
          "name": "stdout",
          "text": [
            "Densidad de la matriz M_ngram_doc: 0.1395%\n"
          ]
        }
      ]
    },
    {
      "cell_type": "markdown",
      "metadata": {
        "id": "oBMsb1Fo0t7U"
      },
      "source": [
        "<font size=\"+1\" color=\"red\">Replace this cell with your code for printing rows 9602 and 941 of the M_ngram_doc matrix.</font>"
      ]
    },
    {
      "cell_type": "code",
      "source": [
        "docids_to_print = [16, 941]\n",
        "\n",
        "for docid in docids_to_print:\n",
        "    print(f\"\\nPositions of non-zeros in column of docid {docid} of M_ngram_doc\")\n",
        "\n",
        "    # Get the clean message\n",
        "    clean_message = clean(messages[docid])\n",
        "    print(f\"Clean message:\\n {clean_message}\")\n",
        "\n",
        "    # Find n-grams no zero in the column\n",
        "    non_zero_ngrams = []\n",
        "    for ngram_index, row in enumerate(M_ngram_doc):\n",
        "        if row[docid]:  # Find a true in that row\n",
        "            # Find the n-gram using index_to_ngram\n",
        "            ngram = index_to_ngram[ngram_index]\n",
        "            non_zero_ngrams.append(f\"{ngram_index} ({ngram})\")\n",
        "\n",
        "    # Print non zero n-grams\n",
        "    print(\"Non-zeros in corresponding row:\")\n",
        "    print(non_zero_ngrams)"
      ],
      "metadata": {
        "colab": {
          "base_uri": "https://localhost:8080/"
        },
        "id": "BXKHevRjEfY8",
        "outputId": "c5f34731-2dde-49f1-db29-7133b94e9a7b"
      },
      "execution_count": null,
      "outputs": [
        {
          "output_type": "stream",
          "name": "stdout",
          "text": [
            "\n",
            "Positions of non-zeros in column of docid 16 of M_ngram_doc\n",
            "Clean message:\n",
            " emergenciescat es demana a la ciutadania limitar al maxim i si es pot evitar desplaaments de cap de setmana tot el que sigui ma\n",
            "Non-zeros in corresponding row:\n",
            "['179 (emergenciescat demana ciutadania limitar)', '180 (demana ciutadania limitar maxim)', '181 (ciutadania limitar maxim pot)', '182 (limitar maxim pot evitar)', '183 (maxim pot evitar desplaaments)', '184 (pot evitar desplaaments cap)', '185 (evitar desplaaments cap setmana)', '186 (desplaaments cap setmana tot)', '187 (cap setmana tot que)', '188 (setmana tot que sigui)']\n",
            "\n",
            "Positions of non-zeros in column of docid 941 of M_ngram_doc\n",
            "Clean message:\n",
            " hospiolot usem de forma responsable els recursos sanitaris 061 urgencies per coronavirus i sanitaries 012 consultes general\n",
            "Non-zeros in corresponding row:\n",
            "['1067 (usem forma responsable els)', '1068 (forma responsable els recursos)', '1069 (responsable els recursos sanitaris)', '1070 (els recursos sanitaris 061)', '1071 (recursos sanitaris 061 urgencies)', '1072 (sanitaris 061 urgencies per)', '1073 (061 urgencies per coronavirus)', '1074 (urgencies per coronavirus sanitaries)', '1075 (per coronavirus sanitaries 012)', '1076 (coronavirus sanitaries 012 consultes)', '7808 (hospiolot usem forma responsable)', '7809 (sanitaries 012 consultes general)']\n"
          ]
        }
      ]
    },
    {
      "cell_type": "markdown",
      "metadata": {
        "id": "g3qfOD-T0t7U"
      },
      "source": [
        "# 3. Implement a permutation generator"
      ]
    },
    {
      "cell_type": "markdown",
      "metadata": {
        "id": "LcpT6G-i0t7V"
      },
      "source": [
        "<font size=\"+1\" color=\"red\">Replace this cell with your code for \"random_permutation\"</font>"
      ]
    },
    {
      "cell_type": "code",
      "source": [
        "import random\n",
        "\n",
        "def random_permutation(k):\n",
        "    # Create the array from 0 to k-1\n",
        "    array = list(range(k))\n",
        "    # Shuffle the array to create a random permutation\n",
        "    random.shuffle(array)\n",
        "    return array"
      ],
      "metadata": {
        "id": "ajOGEETN9mO3"
      },
      "execution_count": null,
      "outputs": []
    },
    {
      "cell_type": "code",
      "execution_count": null,
      "metadata": {
        "id": "6SQlGnRi0t7V",
        "colab": {
          "base_uri": "https://localhost:8080/"
        },
        "outputId": "f2bb2305-fa63-458b-f257-e79e7aab1f56"
      },
      "outputs": [
        {
          "output_type": "stream",
          "name": "stdout",
          "text": [
            "Test one permutation:\n",
            "['5 (test5)', '3 (test3)', '2 (test2)', '4 (test4)', '1 (test1)']\n",
            "['5 (epsilon)', '3 (beta)', '2 (gamma)', '4 (delta)', '1 (alpha)']\n",
            "\n",
            "Test another permutation\n",
            "['3 (test3)', '2 (test2)', '4 (test4)', '1 (test1)', '5 (test5)']\n",
            "['3 (beta)', '2 (gamma)', '4 (delta)', '1 (alpha)', '5 (epsilon)']\n"
          ]
        }
      ],
      "source": [
        "# LEAVE AS-IS\n",
        "\n",
        "# Permute a list according to a permutation\n",
        "def permuter(original_list, permutation):\n",
        "    permuted_list = []\n",
        "    for index in permutation:\n",
        "        permuted_list.append(original_list[index])\n",
        "    return permuted_list\n",
        "\n",
        "# Code for testing permutations\n",
        "original_list_1 = [\"1 (test1)\", \"2 (test2)\", \"3 (test3)\", \"4 (test4)\", \"5 (test5)\"]\n",
        "original_list_2 = [\"1 (alpha)\", \"2 (gamma)\", \"3 (beta)\", \"4 (delta)\", \"5 (epsilon)\"]\n",
        "\n",
        "print(\"Test one permutation:\")\n",
        "permutation_1 = random_permutation(5)\n",
        "print(permuter(original_list_1, permutation_1))\n",
        "print(permuter(original_list_2, permutation_1))\n",
        "\n",
        "print()\n",
        "\n",
        "print(\"Test another permutation\")\n",
        "permutation_2 = random_permutation(5)\n",
        "print(permuter(original_list_1, permutation_2))\n",
        "print(permuter(original_list_2, permutation_2))"
      ]
    },
    {
      "cell_type": "markdown",
      "metadata": {
        "id": "RDxgExqL0t7V"
      },
      "source": [
        "# 4. Compute the signature of each document"
      ]
    },
    {
      "cell_type": "code",
      "execution_count": null,
      "metadata": {
        "id": "8Qtk9at10t7V",
        "colab": {
          "base_uri": "https://localhost:8080/"
        },
        "outputId": "6a80ed3d-51d4-40fa-b2a0-69041c8730ae"
      },
      "outputs": [
        {
          "output_type": "stream",
          "name": "stdout",
          "text": [
            "Permutation 0: 7996, 5385, 2168, 1242, ...\n",
            "Permutation 1: 5, 5314, 2355, 847, ...\n",
            "Permutation 2: 1112, 5380, 7509, 2605, ...\n",
            "Permutation 3: 3023, 2420, 7173, 2962, ...\n",
            "Permutation 4: 6510, 602, 6886, 1517, ...\n"
          ]
        }
      ],
      "source": [
        "# Leave this code as-is\n",
        "\n",
        "NUM_PERMUTATIONS = 5\n",
        "\n",
        "permutations = []\n",
        "\n",
        "# Create the permutations\n",
        "for i in range(NUM_PERMUTATIONS):\n",
        "    permutation = random_permutation(num_distinct_ngrams)\n",
        "    permutations.append(random_permutation(num_distinct_ngrams))\n",
        "\n",
        "# Visualize the permutations by printing their first 4 elements\n",
        "for i in range(len(permutations)):\n",
        "    permutation = permutations[i]\n",
        "    print(\"Permutation %d: %d, %d, %d, %d, ...\" % (i,\n",
        "                permutation[0], permutation[1], permutation[2], permutation[3] ))"
      ]
    },
    {
      "cell_type": "code",
      "execution_count": null,
      "metadata": {
        "id": "pGmdWhJD0t7V"
      },
      "outputs": [],
      "source": [
        "# LEAVE AS-IS\n",
        "\n",
        "# Find the first ngram in a document, according to a permutation\n",
        "def find_first_one(docid, permutation):\n",
        "    for shingle_id in permutation:\n",
        "        if M_ngram_doc[shingle_id, docid] == True:\n",
        "            return shingle_id\n",
        "    return -1"
      ]
    },
    {
      "cell_type": "markdown",
      "metadata": {
        "id": "NhEaPhXd0t7V"
      },
      "source": [
        "<font size=\"+1\" color=\"red\">Replace this cell with your code for creating M_signature_doc</font>"
      ]
    },
    {
      "cell_type": "code",
      "source": [
        "M_signature_doc = np.full((NUM_PERMUTATIONS, len(messages)), np.nan)\n",
        "\n",
        "# Create permutations\n",
        "for permutation_num in range(NUM_PERMUTATIONS):\n",
        "    print(\"Creating signatures for permutation %d/%d\" % (permutation_num+1, NUM_PERMUTATIONS))\n",
        "    permutation = permutations[permutation_num]\n",
        "    for docid in range(len(messages)):\n",
        "        if docid % 1000 == 0:\n",
        "            print(\"- Scanning document %d of %d\" % (docid, len(messages)))\n",
        "        # replace this comment with your code\n",
        "        # Find the first n-gram according to the permutation\n",
        "        first_ngram = find_first_one(docid, permutation)\n",
        "\n",
        "        # Store the result in the signature matrix\n",
        "        M_signature_doc[permutation_num, docid] = first_ngram"
      ],
      "metadata": {
        "colab": {
          "base_uri": "https://localhost:8080/"
        },
        "id": "FPh84_xdnBQV",
        "outputId": "3fa4d7c9-2a1a-4399-df4b-4814732df47e"
      },
      "execution_count": null,
      "outputs": [
        {
          "output_type": "stream",
          "name": "stdout",
          "text": [
            "Creating signatures for permutation 1/5\n",
            "- Scanning document 0 of 1000\n",
            "Creating signatures for permutation 2/5\n",
            "- Scanning document 0 of 1000\n",
            "Creating signatures for permutation 3/5\n",
            "- Scanning document 0 of 1000\n",
            "Creating signatures for permutation 4/5\n",
            "- Scanning document 0 of 1000\n",
            "Creating signatures for permutation 5/5\n",
            "- Scanning document 0 of 1000\n"
          ]
        }
      ]
    },
    {
      "cell_type": "code",
      "execution_count": null,
      "metadata": {
        "id": "e1NJX33D0t7V",
        "colab": {
          "base_uri": "https://localhost:8080/"
        },
        "outputId": "9771b8f4-6636-4cd6-dbd0-63e800dc5b23"
      },
      "outputs": [
        {
          "output_type": "stream",
          "name": "stdout",
          "text": [
            "Document #21\n",
            "Message       : El problema és económic... ja no és només que primi lo económic a lo personal, és que fins i tot en això el @govern s'equivoca, doncs al final la factura que s'haurà de pagar serà més gran.... ja és més gran del que hauria sigut de fer les coses bé i a temps. https://t.co/jFXHAMZHO0\n",
            "Clean message : el problema es economic ja no es nomes que primi lo economic a lo personal es que fins i tot en aixo el govern sequivoca doncs al final la factura que shaura de pagar sera mes gran ja es mes gran del que hauria sigut de fer les coses be i a temps\n",
            "Ngrams        : [232, 233, 234, 235, 236, 237, 238, 239, 240, 241, 242, 243, 244, 245, 246, 247, 248, 249, 250, 251, 252, 253, 254, 255, 256, 257, 258, 259, 260]\n",
            "Signature     : [258.0, 243.0, 254.0, 257.0, 235.0]\n",
            "\n",
            "Document #24\n",
            "Message       : RT @QuimTorraiPla: Seguiu les recomanacions: eviteu qualsevol desplaçament al màxim\n",
            "Clean message : quimtorraipla seguiu les recomanacions eviteu qualsevol desplaament al maxim\n",
            "Ngrams        : [280, 281, 282, 283, 284]\n",
            "Signature     : [282.0, 284.0, 281.0, 281.0, 280.0]\n"
          ]
        }
      ],
      "source": [
        "# Leave this code as-is\n",
        "\n",
        "def extract_ngrams(docid):\n",
        "    return [x for x in range(num_distinct_ngrams) if M_ngram_doc[x, docid] == True]\n",
        "\n",
        "def extract_signature(docid):\n",
        "    return [M_signature_doc[x, docid] for x in range(NUM_PERMUTATIONS)]\n",
        "\n",
        "def print_sig(messages, M_ngram_doc, M_signature_doc, i):\n",
        "    print(\"Document #%d\" % i)\n",
        "    print(\"Message       : %s\" % messages[i])\n",
        "    print(\"Clean message : %s\" % clean(messages[i]))\n",
        "    print(\"Ngrams        : %s\" % extract_ngrams(i))\n",
        "    print(\"Signature     : %s\" % extract_signature(i))\n",
        "\n",
        "# Print two messages and their signatures\n",
        "\n",
        "print_sig(messages, M_ngram_doc, M_signature_doc, 21 )\n",
        "print()\n",
        "print_sig(messages, M_ngram_doc, M_signature_doc, 24 )"
      ]
    },
    {
      "cell_type": "markdown",
      "metadata": {
        "id": "LLAHMw4N0t7W"
      },
      "source": [
        "# 5. Compare all pairs of signatures"
      ]
    },
    {
      "cell_type": "markdown",
      "metadata": {
        "id": "jMYszyrq0t7W"
      },
      "source": [
        "<font size=\"+1\" color=\"red\">Replace this cell with your code for comparing all signatures; print all documents that have at least X signature matches, considering both full matches and partial matches. X should be 0.5% of the  number of documents.</font>"
      ]
    },
    {
      "cell_type": "code",
      "source": [
        "is_possible_duplicate = {}\n",
        "dict_full={}\n",
        "dict_partial={}\n",
        "for docid in range(len(messages)):\n",
        "    dict_full[docid] = []\n",
        "    dict_partial[docid] = []\n",
        "\n",
        "X = int(0.005 * len(messages))\n",
        "\n",
        "# Iterate through all documents\n",
        "for docid1 in range(len(messages)):\n",
        "\n",
        "    # Do not examine again a document that is a possible duplicate\n",
        "    if docid1 not in is_possible_duplicate:\n",
        "\n",
        "        # Counters for full and partial signature matches\n",
        "        count_sig_full_matches = 0\n",
        "        count_sig_partial_matches = 0\n",
        "\n",
        "        # Extract the signature of the doc1\n",
        "        signature1 = extract_signature(docid1)\n",
        "        if docid1 % 500 == 0:\n",
        "            print(\"%d/%d documents scanned\" % (docid1, len(messages)))\n",
        "\n",
        "        # Iterate through documents with docid larger than doc1\n",
        "        for docid2 in range(docid1 + 1, len(messages)):\n",
        "\n",
        "            # If this has not already been marked as duplicate of another document\n",
        "            if docid2 not in is_possible_duplicate:\n",
        "\n",
        "                # Extract the signature of the doc2\n",
        "                signature2 = extract_signature(docid2)\n",
        "\n",
        "                # Calculate the jaccard similarity\n",
        "                similarity = jaccard_similarity(signature1, signature2)\n",
        "\n",
        "                # Verify the type of match\n",
        "                if similarity == 1.0:\n",
        "                    count_sig_full_matches += 1\n",
        "                    is_possible_duplicate[docid2] = True\n",
        "                    dict_full[docid1].append(docid2)\n",
        "                elif 0.2 < similarity < 1.0:\n",
        "                    count_sig_partial_matches += 1\n",
        "                    dict_partial[docid1].append(docid2)\n",
        "        # Print the document\n",
        "        if count_sig_full_matches + count_sig_partial_matches >= X:\n",
        "          print(f\"Document {docid1}: {count_sig_full_matches} full matches, {count_sig_partial_matches} partial matches\")\n",
        "          print(messages[docid1])\n",
        "          print()\n"
      ],
      "metadata": {
        "colab": {
          "base_uri": "https://localhost:8080/"
        },
        "id": "lD5VD-6HJxvc",
        "outputId": "c898a05d-af22-492e-a935-ad7bcc366d40"
      },
      "execution_count": null,
      "outputs": [
        {
          "output_type": "stream",
          "name": "stdout",
          "text": [
            "0/10000 documents scanned\n",
            "Document 16: 71 full matches, 1 partial matches\n",
            "RT @emergenciescat: ⚠️ Es demana a la ciutadania limitar al màxim i, si es pot, EVITAR DESPLAÇAMENTS de cap de setmana. Tot el que sigui ma…\n",
            "\n",
            "Document 19: 11 full matches, 51 partial matches\n",
            "RT @emergenciescat: El comitè tècnic del Pla #PROCICAT  per evitar la propagació del #coronavirus ha proposat al Govern que ordeni el cessa…\n",
            "\n",
            "Document 20: 28 full matches, 29 partial matches\n",
            "RT @salutcat: Quines mesures de prevenció cal seguir per evitar la propagació del 🦠 #coronavirus SARS-CoV-2 👇\n",
            "\n",
            "🔗 https://t.co/NS41dWDi9O ht…\n",
            "\n",
            "Document 53: 57 full matches, 0 partial matches\n",
            "RT @Oriol_Pintos: Sóc advocat laboralista. Davant aquesta situació d'incertesa jurídica generalitzada pel #Coronavirus que afecta i afectar…\n",
            "\n",
            "Document 83: 119 full matches, 0 partial matches\n",
            "RT @MainatJM: Imbècil total...\n",
            "\n",
            "Document 166: 56 full matches, 0 partial matches\n",
            "RT @yeyaboya: Les imatges de cues de cotxes sortint de Madrid són demencials. Quina irresponsabilitat. Quina mala gestió #COVID19\n",
            "\n",
            "Document 328: 65 full matches, 0 partial matches\n",
            "RT @QuimTorraiPla: Estem preparats per fer-ho. Cal que l’Estat accedeixi a aturar entrades i sortides als ports, aeroports i vies ferroviàr…\n",
            "\n",
            "500/10000 documents scanned\n",
            "1000/10000 documents scanned\n",
            "2000/10000 documents scanned\n",
            "4000/10000 documents scanned\n",
            "4500/10000 documents scanned\n",
            "5000/10000 documents scanned\n",
            "Document 5077: 176 full matches, 0 partial matches\n",
            "RT @emergenciescat: Què puc fer i que no? FAQs del #coronavirus a 14 de març. si us plau, demanem difusió. https://t.co/D5HNxwYjwK\n",
            "\n",
            "Document 5109: 66 full matches, 0 partial matches\n",
            "RT @CarlesHeredia: ⚠️ Namíbia, un país amb un sistema sanitari molt dèbil, anuncia els 2 primers casos de #coronavirus.\n",
            "\n",
            "Són 2 turistes esp…\n",
            "\n",
            "Document 5117: 71 full matches, 0 partial matches\n",
            "RT @QuimTorraiPla: He trucat el Lehendakari Urkullu per valorar l'avenç de la pandèmia del coronavirus i la resposta que cal donar-hi. Coin…\n",
            "\n",
            "Document 5129: 54 full matches, 0 partial matches\n",
            "RT @epaluzie: Una vergonya. 155 a Interior, Sanitat, Transports. Els qui no han fet el que calia quan tocava, ara a donar ordres perquè \"no…\n",
            "\n",
            "Document 5271: 54 full matches, 0 partial matches\n",
            "RT @QuimTorraiPla: Màxima difusió - i seguiment- a les recomanacions d’ @emergenciescat :\n",
            "\n",
            "5500/10000 documents scanned\n",
            "Document 5636: 80 full matches, 0 partial matches\n",
            "RT @Antoni_Gelonch: Com a sanitari he d dir q el discurs i les mesures d @sanchezcastejon no tenen res a veure ni amb la lluita contra la p…\n",
            "\n",
            "7500/10000 documents scanned\n",
            "9500/10000 documents scanned\n"
          ]
        }
      ]
    },
    {
      "cell_type": "markdown",
      "metadata": {
        "id": "YoRHl7Ne0t7W"
      },
      "source": [
        "<font size=\"+1\" color=\"red\">Replace this cell with a brief commentary, based on the results above, about one tweet that has a substantial number of complete matches, but few partial matches. Include the full text of the original tweet. Comment on why you believe this tweet is not being changed much when copied or re-tweeted.</font>"
      ]
    },
    {
      "cell_type": "markdown",
      "source": [
        "One tweet of high number of full matches is:\n",
        "\n",
        "**Original Tweet:**\n",
        "\n",
        "RT @MainatJM: Imbècil total...\n",
        "\n",
        "**Results:**\n",
        "\n",
        "Full Matches: 119\n",
        "\n",
        "Partial Matches: 0\n",
        "\n",
        "This tweet has generated a significant number of complete matches when retweeted. The main reason it shows no partial matches could be attributed to its concise and impactful sentence. As an expression of discontent or criticism, users likely retained the original text without modifications. Additionally, short tweets with a clear message tend to be more susceptible to being copied and pasted as is.\n",
        "\n"
      ],
      "metadata": {
        "id": "qh3bjw6XzYII"
      }
    },
    {
      "cell_type": "markdown",
      "metadata": {
        "id": "uWMlb6XB0t7W"
      },
      "source": [
        "<font size=\"+1\" color=\"red\">Replace this cell with a brief commentary, based on the results above, about one tweet that has a substantial number of partial matches, but fewer complete matches. Include the full text of the original tweet and one near duplicate (that cannot be identical to the original tweet).</font>"
      ]
    },
    {
      "cell_type": "markdown",
      "source": [
        "One tweet that has a big number of partial matches but fewer complete matches is:\n",
        "\n",
        "**Original Tweet:**\n",
        "\n",
        "RT @emergenciescat: El comitè tècnic del Pla #PROCICAT per evitar la propagació del #coronavirus ha proposat al Govern que ordeni el cessa…\n",
        "\n",
        "**Results:**\n",
        "\n",
        "Full Matches: 11\n",
        "\n",
        "Partial Matches: 51\n",
        "\n",
        "\n",
        "This tweet has a considerable number of partial matches, indicating that while many users are retweeting the message, they are also making slight modifications. The presence of only 11 full matches suggests that the content is being adapted to fit different contexts or personal styles/opinions.\n",
        "\n",
        "If we use the code ```messages[dict_partial[19][0]] ``` where 19 is ocid of original tweet, we get this near duplicate:\n",
        "\n",
        "RT @salutcat: Quines mesures de prevenció cal seguir per evitar la propagació del 🦠 #coronavirus SARS-CoV-2 👇\n",
        "\n",
        "🔗 https://t.co/NS41dWDi9O ht…"
      ],
      "metadata": {
        "id": "PJkA0RQy3aYt"
      }
    },
    {
      "cell_type": "code",
      "source": [
        "import time\n",
        "import matplotlib.pyplot as plt\n",
        "import time\n",
        "import matplotlib.pyplot as plt\n",
        "\n",
        "# Compare sizes of n-grams\n",
        "def compare_ngram_sizes(texts, sizes):\n",
        "    time_results = {}\n",
        "    ngram_results = {}\n",
        "\n",
        "    for size in sizes:\n",
        "        start_time = time.time()\n",
        "\n",
        "        ngram_results[size] = [ngrams(text, size) for text in texts]\n",
        "\n",
        "        end_time = time.time()\n",
        "        time_results[size] = end_time - start_time\n",
        "\n",
        "    return time_results, ngram_results\n",
        "\n",
        "# Execute the comparition for n-grams of size 2, 3 y 4\n",
        "ngram_sizes = [2, 3, 4]\n",
        "time_results, ngram_results = compare_ngram_sizes(messages, ngram_sizes)\n",
        "\n",
        "plt.figure(figsize=(10,6))\n",
        "plt.plot(time_results.keys(), time_results.values(), marker='o', linestyle='-', color='b')\n",
        "plt.xlabel('N-gram size')\n",
        "plt.ylabel('Time (seconds)')\n",
        "plt.title('Efficiency: Time taken to extract N-grams')\n",
        "plt.show()\n",
        "\n",
        "\n",
        "def compare_accuracy(ngram_results):\n",
        "    accuracy_results = {}\n",
        "\n",
        "    for size, ngram_lists in ngram_results.items():\n",
        "        similarities = []\n",
        "        # Compare every text\n",
        "        for i in range(len(ngram_lists)):\n",
        "            for j in range(i + 1, len(ngram_lists)):\n",
        "                similarity = jaccard_similarity(ngram_lists[i], ngram_lists[j])\n",
        "                similarities.append(similarity)\n",
        "        # Calculate average jaccard similarity\n",
        "        accuracy_results[size] = sum(similarities) / len(similarities) if similarities else 0\n",
        "\n",
        "    return accuracy_results\n",
        "\n",
        "accuracy_results = compare_accuracy(ngram_results)\n",
        "\n",
        "# Print the results\n",
        "print(\"Accuracy:\")\n",
        "for size, accuracy in accuracy_results.items():\n",
        "    print(f\"{size}-grams: {accuracy:.4f}\")"
      ],
      "metadata": {
        "colab": {
          "base_uri": "https://localhost:8080/",
          "height": 633
        },
        "id": "jbcmxmOk2Wel",
        "outputId": "9e35d9d2-af3e-495f-b664-cdc6d59d9e79"
      },
      "execution_count": null,
      "outputs": [
        {
          "output_type": "display_data",
          "data": {
            "text/plain": [
              "<Figure size 1000x600 with 1 Axes>"
            ],
            "image/png": "[encoded data removed]"
          },
          "metadata": {}
        },
        {
          "output_type": "stream",
          "name": "stdout",
          "text": [
            "Accuracy:\n",
            "2-grams: 0.0028\n",
            "3-grams: 0.0016\n",
            "4-grams: 0.0015\n"
          ]
        }
      ]
    },
    {
      "cell_type": "markdown",
      "source": [
        "**Efficiency:**\n",
        "We can see 3-gram and 4-gram are faster than 2-gram. It makes sense because 2-gram has to do more combinations of 2 words. Meanwhile there are not so many mixed words with 4-gram to calculate. When n-gram size increases, there are not available so many word combinations than a small n-gram size.\n",
        "\n",
        "**Accuracy:**´\n",
        "We can see 4-grams is more efectiveness than 2 and 3-grams size because of number of grams"
      ],
      "metadata": {
        "id": "60CImpc8EMd5"
      }
    },
    {
      "cell_type": "markdown",
      "metadata": {
        "id": "4uN3WX1o0t7X"
      },
      "source": [
        "<font size=\"+2\" color=\"#003300\">I hereby declare that, except for the code provided by the course instructors, all of my code, report, and figures were produced by myself.</font>"
      ]
    }
  ],
  "metadata": {
    "kernelspec": {
      "display_name": "Python 3",
      "language": "python",
      "name": "python3"
    },
    "language_info": {
      "codemirror_mode": {
        "name": "ipython",
        "version": 3
      },
      "file_extension": ".py",
      "mimetype": "text/x-python",
      "name": "python",
      "nbconvert_exporter": "python",
      "pygments_lexer": "ipython3",
      "version": "3.10.12"
    },
    "colab": {
      "provenance": []
    }
  },
  "nbformat": 4,
  "nbformat_minor": 0
}