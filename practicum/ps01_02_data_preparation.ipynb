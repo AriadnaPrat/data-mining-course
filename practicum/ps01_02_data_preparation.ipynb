{
  "cells": [
    {
      "cell_type": "markdown",
      "metadata": {
        "id": "3bEG7_DgKCdm"
      },
      "source": [
        "# Practice Session 01+02: Data preparation"
      ]
    },
    {
      "cell_type": "markdown",
      "source": [
        "<font size=\"+2\" color=\"blue\">Additional results: model purchased device</font>"
      ],
      "metadata": {
        "id": "Rzraf8z1BXcQ"
      }
    },
    {
      "cell_type": "markdown",
      "metadata": {
        "id": "Xp-hUvFRKCdq"
      },
      "source": [
        "Data scientists [spend a big chunk of their time preparing data](https://blog.ldodds.com/2020/01/31/do-data-scientists-spend-80-of-their-time-cleaning-data-turns-out-no/) and this is one of the first steps in any data mining project. This step is normally called **data preparation**.\n",
        "\n",
        "The processes of getting an initial understanding of a dataset and preparing it usually go hand-in-hand, and it is critical to perform them well to obtain valid results later. Plus, you can save time and effort by learning how to do proper data preparation.\n",
        "\n",
        "In this session, we will assume you just received a new dataset and need to do some initial steps with it:\n",
        "\n",
        "1) Exploratory Data Analysis\n",
        "\n",
        "* Calculate basis statistics as mean, median, variance, maximum and minimum\n",
        "* Look at distributions, identify outliers\n",
        "* Calculate correlations between variables\n",
        "\n",
        "2) Feature engineering:\n",
        "\n",
        "* Deal with missing values\n",
        "* Standardize all numerical columns\n",
        "* Convert categorical columns to dummy binary variables\n",
        "* Date and period management\n",
        "* Feature generation\n",
        "\n",
        "*Tip*: This process has several steps. It is tempting to maintain a single variable throughout the entire cleaning process, and do something like `x = x.step1()` then `x = x.step2()`. This will create problems for you because if you go back and re-execute a cell it might fail to operate on already transformed data. A better approach in cases like this where you do not have memory problems, is to do `x1 = x.step1()`, `x2 = x1.step2()` and so on, i.e., create a new variable after each transformation or set of transformations.\n",
        "\n",
        "<font size=\"-1\" color=\"gray\">(Remove this cell when delivering.)</font>"
      ]
    },
    {
      "cell_type": "markdown",
      "metadata": {
        "id": "ZZnefOF5KCdu"
      },
      "source": [
        "# 0. The dataset\n",
        "\n",
        "The dataset, contained in `device_db.csv` is a 10000 registers of mobile device purchases around 2019. **Each record in the dataset describes a customer that buys a new mobile telephone**. The attributes are defined as follows:\n",
        "\n",
        "0. PURCHASED_DEVICE: the mobile phone bought by the customer\n",
        "1. DEVICE_VALUE: the cost of the mobile phone bought by the customer\n",
        "2. LAST_DEVICE_DATE: the date of the previous mobile device purchase\n",
        "3. DATA\\_TRAFFIC\\_MONTH_(1..6): The Mbps of data traffic in the month (-1...-6) used by the customer previous to the mobile device purchase\n",
        "4. VOICE\\_TRAFFIC\\_MONTH_(1..6): The minutes of voice traffic in the month (-1...-6) used by the customer previous to the mobile device purchase\n",
        "5. BILLING\\_MONTH\\_(1..6): Billing (USD) in the month (-1...-6) paid by the customer previous to the mobile device purchase\n",
        "6. DEVICE\\_COST\\_MONTH_(1..6): Monthly cost (USD) associated to the mobile device finance in the month (-1...-6) paid by the customer previous to the mobile device purchase: proportion of owner-occupied units built prior to 1940\n",
        "7. LINE\\_ACTIVATION\\_DATE: Date of the activation of the mobile line by the customer\n",
        "8. MONTHS\\_LAST\\_DEVICE: Number of months of the previous mobile device\n",
        "9. DURATION\\_LINE: Number of months since the customer contracted the mobile line\n",
        "10. PREVIOUS\\_DEVICE\\_MODEL: Model of the previous mobile phone\n",
        "11. PREVIOUS\\_DEVICE\\_MANUF: Manufacturer of the previous mobile phone\n",
        "12. PREVIOUS\\_DEVICE\\_BRAND: Brand of the previous mobile phone\n",
        "\n",
        "This dataset will be used in next practices as recommendation engines.\n",
        "\n",
        "<font size=\"-1\" color=\"gray\">(Remove this cell when delivering.)</font>"
      ]
    },
    {
      "cell_type": "markdown",
      "metadata": {
        "id": "g576jHo7KCdu"
      },
      "source": [
        "# 1. Exploratory data analysis"
      ]
    },
    {
      "cell_type": "markdown",
      "metadata": {
        "id": "s5CKZ8xLKCdv"
      },
      "source": [
        "Exploratory Data Analysis (EDA) allows to us to have an understanding of the dataset from a stadistics perspective, i.e., data distribution and correlation between variables. This is crucial to select the most relevant variables for some purpose.\n",
        "\n",
        "<font size=\"-1\" color=\"gray\">(Remove this cell when delivering.)</font>"
      ]
    },
    {
      "cell_type": "code",
      "execution_count": null,
      "metadata": {
        "id": "lwSvycXJKCdw"
      },
      "outputs": [],
      "source": [
        "import pandas as pd\n",
        "import seaborn as sns\n",
        "import datetime\n",
        "\n",
        "import numpy as np\n",
        "from numpy import array\n",
        "from numpy import argmax\n",
        "\n",
        "import matplotlib.pyplot as plt\n",
        "from matplotlib import pyplot\n",
        "\n",
        "import sklearn\n",
        "from sklearn.preprocessing import StandardScaler\n",
        "from sklearn.preprocessing import Normalizer\n",
        "from sklearn.preprocessing import MinMaxScaler\n",
        "from sklearn.preprocessing import LabelEncoder\n",
        "from sklearn.preprocessing import OneHotEncoder\n",
        "from sklearn.model_selection import train_test_split"
      ]
    },
    {
      "cell_type": "markdown",
      "metadata": {
        "id": "YDbC34rVKCdx"
      },
      "source": [
        "We open the csv file contaning the data using separator \";\" and assign to a dataframe (use `read_csv` from the Pandas library).\n",
        "\n",
        "<font size=\"-1\" color=\"gray\">(Remove this cell when delivering.)</font>"
      ]
    },
    {
      "cell_type": "code",
      "execution_count": null,
      "metadata": {
        "id": "uOU_5_osKCdy"
      },
      "outputs": [],
      "source": [
        "# LEAVE AS-IS\n",
        "\n",
        "input_dataset = pd.read_csv(\"device_db.csv\", sep=\";\")"
      ]
    },
    {
      "cell_type": "markdown",
      "metadata": {
        "id": "br2egeQCKCdz"
      },
      "source": [
        "## 1.1. Data types and simple statistics"
      ]
    },
    {
      "cell_type": "markdown",
      "metadata": {
        "id": "zyVNLckOKCdz"
      },
      "source": [
        "<font size=\"+1\" color=\"red\">Replace this cell with your code to print the dataset header (column names) and the first five rows of data.</font>"
      ]
    },
    {
      "cell_type": "code",
      "source": [
        "print(\"Dataset columns:\")\n",
        "print(input_dataset.columns)\n",
        "\n",
        "print(\"\\nTop 5 rows from the dataset:\")\n",
        "print(input_dataset.head(5))"
      ],
      "metadata": {
        "colab": {
          "base_uri": "https://localhost:8080/"
        },
        "id": "iWE39jgfUSiD",
        "outputId": "a14bd760-1dc5-4dbb-9f4b-86afac9ec3c4"
      },
      "execution_count": null,
      "outputs": [
        {
          "output_type": "stream",
          "name": "stdout",
          "text": [
            "Dataset columns:\n",
            "Index(['PURCHASED_DEVICE,DEVICE_VALUE,LAST_DEVICE_CHANGE,DATA_TRAFFIC_MONTH_1,DATA_TRAFFIC_MONTH_2,DATA_TRAFFIC_MONTH_3,DATA_TRAFFIC_MONTH_4,DATA_TRAFFIC_MONTH_5,DATA_TRAFFIC_MONTH_6,VOICE_TRAFFIC_MONTH_1,VOICE_TRAFFIC_MONTH_2,VOICE_TRAFFIC_MONTH_3,VOICE_TRAFFIC_MONTH_4,VOICE_TRAFFIC_MONTH_5,VOICE_TRAFFIC_MONTH_6,BILLING_MONTH_1,BILLING_MONTH_2,BILLING_MONTH_3,BILLING_MONTH_4,BILLING_MONTH_5,BILLING_MONTH_6,DEVICE_COST_MONTH_1,DEVICE_COST_MONTH_2,DEVICE_COST_MONTH_3,DEVICE_COST_MONTH_4,DEVICE_COST_MONTH_5,DEVICE_COST_MONTH_6,LINE_ACTIVATION_DATE,MONTHS_LAST_DEVICE,DURATION_LINE,PREVIOUS_DEVICE_MODEL,PREVIOUS_DEVICE_MANUF,PREVIOUS_DEVICE_BRAND'], dtype='object')\n",
            "\n",
            "Top 5 rows from the dataset:\n",
            "  PURCHASED_DEVICE,DEVICE_VALUE,LAST_DEVICE_CHANGE,DATA_TRAFFIC_MONTH_1,DATA_TRAFFIC_MONTH_2,DATA_TRAFFIC_MONTH_3,DATA_TRAFFIC_MONTH_4,DATA_TRAFFIC_MONTH_5,DATA_TRAFFIC_MONTH_6,VOICE_TRAFFIC_MONTH_1,VOICE_TRAFFIC_MONTH_2,VOICE_TRAFFIC_MONTH_3,VOICE_TRAFFIC_MONTH_4,VOICE_TRAFFIC_MONTH_5,VOICE_TRAFFIC_MONTH_6,BILLING_MONTH_1,BILLING_MONTH_2,BILLING_MONTH_3,BILLING_MONTH_4,BILLING_MONTH_5,BILLING_MONTH_6,DEVICE_COST_MONTH_1,DEVICE_COST_MONTH_2,DEVICE_COST_MONTH_3,DEVICE_COST_MONTH_4,DEVICE_COST_MONTH_5,DEVICE_COST_MONTH_6,LINE_ACTIVATION_DATE,MONTHS_LAST_DEVICE,DURATION_LINE,PREVIOUS_DEVICE_MODEL,PREVIOUS_DEVICE_MANUF,PREVIOUS_DEVICE_BRAND\n",
            "0  TGLG29162000_LG X210BMW SMARTPHONE PRETO PPB/P...                                                                                                                                                                                                                                                                                                                                                                                                                                                                                                                                                                                                                \n",
            "1  TGLG29162000_LG X210BMW SMARTPHONE PRETO PPB/P...                                                                                                                                                                                                                                                                                                                                                                                                                                                                                                                                                                                                                \n",
            "2  TGMO35912000_MOTOROLA XT1922 SMARTPHONE INDIGO...                                                                                                                                                                                                                                                                                                                                                                                                                                                                                                                                                                                                                \n",
            "3  TGLG29162000_LG X210BMW SMARTPHONE PRETO PPB/P...                                                                                                                                                                                                                                                                                                                                                                                                                                                                                                                                                                                                                \n",
            "4  TGMO35912000_MOTOROLA XT1922 SMARTPHONE INDIGO...                                                                                                                                                                                                                                                                                                                                                                                                                                                                                                                                                                                                                \n"
          ]
        }
      ]
    },
    {
      "cell_type": "markdown",
      "metadata": {
        "id": "pY7iz6w5KCd0"
      },
      "source": [
        "There are many ways of creating a data frame. Above, we created it by reading a file, but one can also create a dataframe from scratch, using an array of dictionaries. Example:\n",
        "\n",
        "```python\n",
        "countries = []\n",
        "countries.append({'capital': 'Београд', 'country': 'Република Србија'})\n",
        "countries.append({'capital': 'Nairobi', 'country': 'Jamhuri ya Kenya'})\n",
        "countries_df = pd.DataFrame(countries, columns=['country', 'capital'])\n",
        "display(countries_df)\n",
        "```\n",
        "\n",
        "<font size=\"-1\" color=\"gray\">(Remove this cell when delivering.)</font>"
      ]
    },
    {
      "cell_type": "markdown",
      "metadata": {
        "id": "6Tox1YW_KCd0"
      },
      "source": [
        "Create a dataframe named `column_type_df` containing the name of each column, its type and the number of distinct elements in that column. To iterate through the columns of dataframe `df`, use `for column in df.columns`; to determine the type of a column, use `df[column].dtype`; to retrieve the number of distinct elements of that column, use `df[column].nunique()`; to retrieve the size of a column, use `df[column].size`.\n",
        "\n",
        "<font size=\"-1\" color=\"gray\">(Remove this cell when delivering.)</font>"
      ]
    },
    {
      "cell_type": "markdown",
      "metadata": {
        "id": "aE0jk8PEKCd1"
      },
      "source": [
        "<font size=\"+1\" color=\"red\">Replace this cell with your code to create and display a dataframe containing one row per column, and with the following fields: name of the column, type, number of distinct elements, and size. The size of all columns should be equal.</font>"
      ]
    },
    {
      "cell_type": "code",
      "source": [
        "#We create the structure\n",
        "data = {\n",
        "    \"Column_Name\": [],\n",
        "    \"Data_Type\": [],\n",
        "    \"Distinct_Elements\": [],\n",
        "    \"Size\": []\n",
        "}\n",
        "#We store the results in every column\n",
        "for column in input_dataset.columns:\n",
        "    data[\"Column_Name\"].append(column)\n",
        "    data[\"Data_Type\"].append(input_dataset[column].dtype)\n",
        "    data[\"Distinct_Elements\"].append(input_dataset[column].nunique())\n",
        "    data[\"Size\"].append(input_dataset[column].size)\n",
        "\n",
        "#We create the Dataframe\n",
        "column_type_df = pd.DataFrame(data)\n",
        "column_type_df"
      ],
      "metadata": {
        "colab": {
          "base_uri": "https://localhost:8080/",
          "height": 89
        },
        "id": "XnoQnjB5V26F",
        "outputId": "a9a0e0f1-8d35-422d-9f16-341df07c2d8e"
      },
      "execution_count": null,
      "outputs": [
        {
          "output_type": "execute_result",
          "data": {
            "text/plain": [
              "                                         Column_Name Data_Type  \\\n",
              "0  PURCHASED_DEVICE,DEVICE_VALUE,LAST_DEVICE_CHAN...    object   \n",
              "\n",
              "   Distinct_Elements  Size  \n",
              "0               7914  8021  "
            ],
            "text/html": [
              "\n",
              "  <div id=\"df-6b9ec02e-55ba-4a4c-ae05-56f32046badf\" class=\"colab-df-container\">\n",
              "    <div>\n",
              "<style scoped>\n",
              "    .dataframe tbody tr th:only-of-type {\n",
              "        vertical-align: middle;\n",
              "    }\n",
              "\n",
              "    .dataframe tbody tr th {\n",
              "        vertical-align: top;\n",
              "    }\n",
              "\n",
              "    .dataframe thead th {\n",
              "        text-align: right;\n",
              "    }\n",
              "</style>\n",
              "<table border=\"1\" class=\"dataframe\">\n",
              "  <thead>\n",
              "    <tr style=\"text-align: right;\">\n",
              "      <th></th>\n",
              "      <th>Column_Name</th>\n",
              "      <th>Data_Type</th>\n",
              "      <th>Distinct_Elements</th>\n",
              "      <th>Size</th>\n",
              "    </tr>\n",
              "  </thead>\n",
              "  <tbody>\n",
              "    <tr>\n",
              "      <th>0</th>\n",
              "      <td>PURCHASED_DEVICE,DEVICE_VALUE,LAST_DEVICE_CHAN...</td>\n",
              "      <td>object</td>\n",
              "      <td>7914</td>\n",
              "      <td>8021</td>\n",
              "    </tr>\n",
              "  </tbody>\n",
              "</table>\n",
              "</div>\n",
              "    <div class=\"colab-df-buttons\">\n",
              "\n",
              "  <div class=\"colab-df-container\">\n",
              "    <button class=\"colab-df-convert\" onclick=\"convertToInteractive('df-6b9ec02e-55ba-4a4c-ae05-56f32046badf')\"\n",
              "            title=\"Convert this dataframe to an interactive table.\"\n",
              "            style=\"display:none;\">\n",
              "\n",
              "  <svg xmlns=\"http://www.w3.org/2000/svg\" height=\"24px\" viewBox=\"0 -960 960 960\">\n",
              "    <path d=\"M120-120v-720h720v720H120Zm60-500h600v-160H180v160Zm220 220h160v-160H400v160Zm0 220h160v-160H400v160ZM180-400h160v-160H180v160Zm440 0h160v-160H620v160ZM180-180h160v-160H180v160Zm440 0h160v-160H620v160Z\"/>\n",
              "  </svg>\n",
              "    </button>\n",
              "\n",
              "  <style>\n",
              "    .colab-df-container {\n",
              "      display:flex;\n",
              "      gap: 12px;\n",
              "    }\n",
              "\n",
              "    .colab-df-convert {\n",
              "      background-color: #E8F0FE;\n",
              "      border: none;\n",
              "      border-radius: 50%;\n",
              "      cursor: pointer;\n",
              "      display: none;\n",
              "      fill: #1967D2;\n",
              "      height: 32px;\n",
              "      padding: 0 0 0 0;\n",
              "      width: 32px;\n",
              "    }\n",
              "\n",
              "    .colab-df-convert:hover {\n",
              "      background-color: #E2EBFA;\n",
              "      box-shadow: 0px 1px 2px rgba(60, 64, 67, 0.3), 0px 1px 3px 1px rgba(60, 64, 67, 0.15);\n",
              "      fill: #174EA6;\n",
              "    }\n",
              "\n",
              "    .colab-df-buttons div {\n",
              "      margin-bottom: 4px;\n",
              "    }\n",
              "\n",
              "    [theme=dark] .colab-df-convert {\n",
              "      background-color: #3B4455;\n",
              "      fill: #D2E3FC;\n",
              "    }\n",
              "\n",
              "    [theme=dark] .colab-df-convert:hover {\n",
              "      background-color: #434B5C;\n",
              "      box-shadow: 0px 1px 3px 1px rgba(0, 0, 0, 0.15);\n",
              "      filter: drop-shadow(0px 1px 2px rgba(0, 0, 0, 0.3));\n",
              "      fill: #FFFFFF;\n",
              "    }\n",
              "  </style>\n",
              "\n",
              "    <script>\n",
              "      const buttonEl =\n",
              "        document.querySelector('#df-6b9ec02e-55ba-4a4c-ae05-56f32046badf button.colab-df-convert');\n",
              "      buttonEl.style.display =\n",
              "        google.colab.kernel.accessAllowed ? 'block' : 'none';\n",
              "\n",
              "      async function convertToInteractive(key) {\n",
              "        const element = document.querySelector('#df-6b9ec02e-55ba-4a4c-ae05-56f32046badf');\n",
              "        const dataTable =\n",
              "          await google.colab.kernel.invokeFunction('convertToInteractive',\n",
              "                                                    [key], {});\n",
              "        if (!dataTable) return;\n",
              "\n",
              "        const docLinkHtml = 'Like what you see? Visit the ' +\n",
              "          '<a target=\"_blank\" href=https://colab.research.google.com/notebooks/data_table.ipynb>data table notebook</a>'\n",
              "          + ' to learn more about interactive tables.';\n",
              "        element.innerHTML = '';\n",
              "        dataTable['output_type'] = 'display_data';\n",
              "        await google.colab.output.renderOutput(dataTable, element);\n",
              "        const docLink = document.createElement('div');\n",
              "        docLink.innerHTML = docLinkHtml;\n",
              "        element.appendChild(docLink);\n",
              "      }\n",
              "    </script>\n",
              "  </div>\n",
              "\n",
              "\n",
              "  <div id=\"id_675d88b7-2416-4d7e-934a-30491581ddc2\">\n",
              "    <style>\n",
              "      .colab-df-generate {\n",
              "        background-color: #E8F0FE;\n",
              "        border: none;\n",
              "        border-radius: 50%;\n",
              "        cursor: pointer;\n",
              "        display: none;\n",
              "        fill: #1967D2;\n",
              "        height: 32px;\n",
              "        padding: 0 0 0 0;\n",
              "        width: 32px;\n",
              "      }\n",
              "\n",
              "      .colab-df-generate:hover {\n",
              "        background-color: #E2EBFA;\n",
              "        box-shadow: 0px 1px 2px rgba(60, 64, 67, 0.3), 0px 1px 3px 1px rgba(60, 64, 67, 0.15);\n",
              "        fill: #174EA6;\n",
              "      }\n",
              "\n",
              "      [theme=dark] .colab-df-generate {\n",
              "        background-color: #3B4455;\n",
              "        fill: #D2E3FC;\n",
              "      }\n",
              "\n",
              "      [theme=dark] .colab-df-generate:hover {\n",
              "        background-color: #434B5C;\n",
              "        box-shadow: 0px 1px 3px 1px rgba(0, 0, 0, 0.15);\n",
              "        filter: drop-shadow(0px 1px 2px rgba(0, 0, 0, 0.3));\n",
              "        fill: #FFFFFF;\n",
              "      }\n",
              "    </style>\n",
              "    <button class=\"colab-df-generate\" onclick=\"generateWithVariable('column_type_df')\"\n",
              "            title=\"Generate code using this dataframe.\"\n",
              "            style=\"display:none;\">\n",
              "\n",
              "  <svg xmlns=\"http://www.w3.org/2000/svg\" height=\"24px\"viewBox=\"0 0 24 24\"\n",
              "       width=\"24px\">\n",
              "    <path d=\"M7,19H8.4L18.45,9,17,7.55,7,17.6ZM5,21V16.75L18.45,3.32a2,2,0,0,1,2.83,0l1.4,1.43a1.91,1.91,0,0,1,.58,1.4,1.91,1.91,0,0,1-.58,1.4L9.25,21ZM18.45,9,17,7.55Zm-12,3A5.31,5.31,0,0,0,4.9,8.1,5.31,5.31,0,0,0,1,6.5,5.31,5.31,0,0,0,4.9,4.9,5.31,5.31,0,0,0,6.5,1,5.31,5.31,0,0,0,8.1,4.9,5.31,5.31,0,0,0,12,6.5,5.46,5.46,0,0,0,6.5,12Z\"/>\n",
              "  </svg>\n",
              "    </button>\n",
              "    <script>\n",
              "      (() => {\n",
              "      const buttonEl =\n",
              "        document.querySelector('#id_675d88b7-2416-4d7e-934a-30491581ddc2 button.colab-df-generate');\n",
              "      buttonEl.style.display =\n",
              "        google.colab.kernel.accessAllowed ? 'block' : 'none';\n",
              "\n",
              "      buttonEl.onclick = () => {\n",
              "        google.colab.notebook.generateWithVariable('column_type_df');\n",
              "      }\n",
              "      })();\n",
              "    </script>\n",
              "  </div>\n",
              "\n",
              "    </div>\n",
              "  </div>\n"
            ],
            "application/vnd.google.colaboratory.intrinsic+json": {
              "type": "dataframe",
              "variable_name": "column_type_df",
              "summary": "{\n  \"name\": \"column_type_df\",\n  \"rows\": 1,\n  \"fields\": [\n    {\n      \"column\": \"Column_Name\",\n      \"properties\": {\n        \"dtype\": \"string\",\n        \"num_unique_values\": 1,\n        \"samples\": [\n          \"PURCHASED_DEVICE,DEVICE_VALUE,LAST_DEVICE_CHANGE,DATA_TRAFFIC_MONTH_1,DATA_TRAFFIC_MONTH_2,DATA_TRAFFIC_MONTH_3,DATA_TRAFFIC_MONTH_4,DATA_TRAFFIC_MONTH_5,DATA_TRAFFIC_MONTH_6,VOICE_TRAFFIC_MONTH_1,VOICE_TRAFFIC_MONTH_2,VOICE_TRAFFIC_MONTH_3,VOICE_TRAFFIC_MONTH_4,VOICE_TRAFFIC_MONTH_5,VOICE_TRAFFIC_MONTH_6,BILLING_MONTH_1,BILLING_MONTH_2,BILLING_MONTH_3,BILLING_MONTH_4,BILLING_MONTH_5,BILLING_MONTH_6,DEVICE_COST_MONTH_1,DEVICE_COST_MONTH_2,DEVICE_COST_MONTH_3,DEVICE_COST_MONTH_4,DEVICE_COST_MONTH_5,DEVICE_COST_MONTH_6,LINE_ACTIVATION_DATE,MONTHS_LAST_DEVICE,DURATION_LINE,PREVIOUS_DEVICE_MODEL,PREVIOUS_DEVICE_MANUF,PREVIOUS_DEVICE_BRAND\"\n        ],\n        \"semantic_type\": \"\",\n        \"description\": \"\"\n      }\n    },\n    {\n      \"column\": \"Data_Type\",\n      \"properties\": {\n        \"dtype\": \"string\",\n        \"num_unique_values\": 1,\n        \"samples\": [\n          \"object\"\n        ],\n        \"semantic_type\": \"\",\n        \"description\": \"\"\n      }\n    },\n    {\n      \"column\": \"Distinct_Elements\",\n      \"properties\": {\n        \"dtype\": \"number\",\n        \"std\": null,\n        \"min\": 7914,\n        \"max\": 7914,\n        \"num_unique_values\": 1,\n        \"samples\": [\n          7914\n        ],\n        \"semantic_type\": \"\",\n        \"description\": \"\"\n      }\n    },\n    {\n      \"column\": \"Size\",\n      \"properties\": {\n        \"dtype\": \"number\",\n        \"std\": null,\n        \"min\": 8021,\n        \"max\": 8021,\n        \"num_unique_values\": 1,\n        \"samples\": [\n          8021\n        ],\n        \"semantic_type\": \"\",\n        \"description\": \"\"\n      }\n    }\n  ]\n}"
            }
          },
          "metadata": {},
          "execution_count": 4
        }
      ]
    },
    {
      "cell_type": "markdown",
      "metadata": {
        "id": "g08vVY-1KCd1"
      },
      "source": [
        "To obtain a **series** (column) from a dataframe you can reference an attribute by name, e.g., `input_dataset.DEVICE_VALUE` returns the series of all device values.\n",
        "\n",
        "On a series, you can use functions from [numpy](https://numpy.org/doc/) such as `np.mean`, `np.median`, `np.std`, `np.min` and `np.max`; meanings are self-explanatory. These functions have equivalents `np.nanmean`, `np.nanmedian`, and so on that ignore NaN (not-a-number) values.\n",
        "\n",
        "To display floats using two decimals, you can use:\n",
        "\n",
        "```python\n",
        "pd.options.display.float_format = '{:.2f}'.format\n",
        "```\n",
        "\n",
        "\n",
        "<font size=\"-1\" color=\"gray\">(Remove this cell when delivering.)</font>"
      ]
    },
    {
      "cell_type": "markdown",
      "metadata": {
        "id": "itRIv7MEKCd1"
      },
      "source": [
        "<font size=\"+1\" color=\"red\">Replace this cell with code to create and display a dataframe containing one row per each column of type ``float64`` in the input data, and with the following fields: name of the column, mean, median, min, max -- all computed ignoring NaN values.</font>"
      ]
    },
    {
      "cell_type": "code",
      "source": [
        "pd.options.display.float_format = '{:.2f}'.format\n",
        "\n",
        "# Load dataset\n",
        "input_dataset = pd.read_csv(\"device_db.csv\", sep=\",\")\n",
        "\n",
        "# Filter columns of type float64\n",
        "float_cols = input_dataset.select_dtypes(include=['float64']).columns\n",
        "\n",
        "# Initialize a dictionary to store statistics\n",
        "float_stats = {\n",
        "    \"Column_Name\": [],\n",
        "    \"Mean\": [],\n",
        "    \"Median\": [],\n",
        "    \"Min\": [],\n",
        "    \"Max\": []\n",
        "}\n",
        "\n",
        "# Calculate the statistics for each column\n",
        "for column in float_cols:\n",
        "    float_stats[\"Column_Name\"].append(column)\n",
        "    float_stats[\"Mean\"].append(np.nanmean(input_dataset[column]))\n",
        "    float_stats[\"Median\"].append(np.nanmedian(input_dataset[column]))\n",
        "    float_stats[\"Min\"].append(np.nanmin(input_dataset[column]))\n",
        "    float_stats[\"Max\"].append(np.nanmax(input_dataset[column]))\n",
        "\n",
        "# Create a dataframe to display the results\n",
        "float_stats_df = pd.DataFrame(float_stats)\n",
        "\n",
        "# Display the statistics\n",
        "float_stats_df\n"
      ],
      "metadata": {
        "colab": {
          "base_uri": "https://localhost:8080/",
          "height": 958
        },
        "id": "9ZoZnnkfS_D2",
        "outputId": "1b9bc6b4-cf54-416d-ee0d-11dca04c7b07"
      },
      "execution_count": null,
      "outputs": [
        {
          "output_type": "execute_result",
          "data": {
            "text/plain": [
              "              Column_Name        Mean      Median         Min         Max\n",
              "0            DEVICE_VALUE      750.48      393.00       15.00     9057.00\n",
              "1      LAST_DEVICE_CHANGE 20166984.77 20170601.00 20121001.00 20190501.00\n",
              "2    DATA_TRAFFIC_MONTH_1     3481.83     1208.73        0.00   127017.59\n",
              "3    DATA_TRAFFIC_MONTH_2     3649.96     1294.95        0.00   111948.84\n",
              "4    DATA_TRAFFIC_MONTH_3     3653.43     1310.67        0.00   111948.84\n",
              "5    DATA_TRAFFIC_MONTH_4     3269.44     1176.54        0.00    87856.41\n",
              "6    DATA_TRAFFIC_MONTH_5     3673.37     1287.09        0.00   121834.81\n",
              "7    DATA_TRAFFIC_MONTH_6     3427.69     1277.12        0.00    90550.61\n",
              "8   VOICE_TRAFFIC_MONTH_1      154.85       84.05        0.00     4220.10\n",
              "9   VOICE_TRAFFIC_MONTH_2      142.57       74.90        0.00     3132.10\n",
              "10  VOICE_TRAFFIC_MONTH_3      141.71       74.40        0.00     2992.50\n",
              "11  VOICE_TRAFFIC_MONTH_4      143.15       75.10        0.00     3163.30\n",
              "12  VOICE_TRAFFIC_MONTH_5      154.28       82.85        0.00     3429.10\n",
              "13  VOICE_TRAFFIC_MONTH_6       84.03        6.20        0.00     2129.50\n",
              "14        BILLING_MONTH_1      102.34       94.99     -128.01     1569.10\n",
              "15        BILLING_MONTH_2      104.98       96.43        0.00     2032.12\n",
              "16        BILLING_MONTH_3      102.68       96.25        0.00     1741.21\n",
              "17        BILLING_MONTH_4      101.99       94.89        0.00     1084.82\n",
              "18        BILLING_MONTH_5      102.21       95.29        0.00      911.72\n",
              "19        BILLING_MONTH_6      102.27       94.99        0.00     1187.30\n",
              "20    DEVICE_COST_MONTH_1       10.81        0.00        0.00     6440.00\n",
              "21    DEVICE_COST_MONTH_2       10.59        0.00        0.00     1360.00\n",
              "22    DEVICE_COST_MONTH_3       11.71        0.00        0.00     2466.00\n",
              "23    DEVICE_COST_MONTH_4       11.55        0.00        0.00      455.00\n",
              "24    DEVICE_COST_MONTH_5       12.51        0.00        0.00     1258.00\n",
              "25    DEVICE_COST_MONTH_6       12.98        0.00        0.00     1000.00\n",
              "26   LINE_ACTIVATION_DATE 20136051.57 20150324.00 19920804.00 20190416.00\n",
              "27     MONTHS_LAST_DEVICE       25.34       22.00       -5.00       78.00\n",
              "28          DURATION_LINE       62.37       48.00        0.00      320.00"
            ],
            "text/html": [
              "\n",
              "  <div id=\"df-5eeaab58-bccd-4cff-8ebf-42ccbd14564c\" class=\"colab-df-container\">\n",
              "    <div>\n",
              "<style scoped>\n",
              "    .dataframe tbody tr th:only-of-type {\n",
              "        vertical-align: middle;\n",
              "    }\n",
              "\n",
              "    .dataframe tbody tr th {\n",
              "        vertical-align: top;\n",
              "    }\n",
              "\n",
              "    .dataframe thead th {\n",
              "        text-align: right;\n",
              "    }\n",
              "</style>\n",
              "<table border=\"1\" class=\"dataframe\">\n",
              "  <thead>\n",
              "    <tr style=\"text-align: right;\">\n",
              "      <th></th>\n",
              "      <th>Column_Name</th>\n",
              "      <th>Mean</th>\n",
              "      <th>Median</th>\n",
              "      <th>Min</th>\n",
              "      <th>Max</th>\n",
              "    </tr>\n",
              "  </thead>\n",
              "  <tbody>\n",
              "    <tr>\n",
              "      <th>0</th>\n",
              "      <td>DEVICE_VALUE</td>\n",
              "      <td>750.48</td>\n",
              "      <td>393.00</td>\n",
              "      <td>15.00</td>\n",
              "      <td>9057.00</td>\n",
              "    </tr>\n",
              "    <tr>\n",
              "      <th>1</th>\n",
              "      <td>LAST_DEVICE_CHANGE</td>\n",
              "      <td>20166984.77</td>\n",
              "      <td>20170601.00</td>\n",
              "      <td>20121001.00</td>\n",
              "      <td>20190501.00</td>\n",
              "    </tr>\n",
              "    <tr>\n",
              "      <th>2</th>\n",
              "      <td>DATA_TRAFFIC_MONTH_1</td>\n",
              "      <td>3481.83</td>\n",
              "      <td>1208.73</td>\n",
              "      <td>0.00</td>\n",
              "      <td>127017.59</td>\n",
              "    </tr>\n",
              "    <tr>\n",
              "      <th>3</th>\n",
              "      <td>DATA_TRAFFIC_MONTH_2</td>\n",
              "      <td>3649.96</td>\n",
              "      <td>1294.95</td>\n",
              "      <td>0.00</td>\n",
              "      <td>111948.84</td>\n",
              "    </tr>\n",
              "    <tr>\n",
              "      <th>4</th>\n",
              "      <td>DATA_TRAFFIC_MONTH_3</td>\n",
              "      <td>3653.43</td>\n",
              "      <td>1310.67</td>\n",
              "      <td>0.00</td>\n",
              "      <td>111948.84</td>\n",
              "    </tr>\n",
              "    <tr>\n",
              "      <th>5</th>\n",
              "      <td>DATA_TRAFFIC_MONTH_4</td>\n",
              "      <td>3269.44</td>\n",
              "      <td>1176.54</td>\n",
              "      <td>0.00</td>\n",
              "      <td>87856.41</td>\n",
              "    </tr>\n",
              "    <tr>\n",
              "      <th>6</th>\n",
              "      <td>DATA_TRAFFIC_MONTH_5</td>\n",
              "      <td>3673.37</td>\n",
              "      <td>1287.09</td>\n",
              "      <td>0.00</td>\n",
              "      <td>121834.81</td>\n",
              "    </tr>\n",
              "    <tr>\n",
              "      <th>7</th>\n",
              "      <td>DATA_TRAFFIC_MONTH_6</td>\n",
              "      <td>3427.69</td>\n",
              "      <td>1277.12</td>\n",
              "      <td>0.00</td>\n",
              "      <td>90550.61</td>\n",
              "    </tr>\n",
              "    <tr>\n",
              "      <th>8</th>\n",
              "      <td>VOICE_TRAFFIC_MONTH_1</td>\n",
              "      <td>154.85</td>\n",
              "      <td>84.05</td>\n",
              "      <td>0.00</td>\n",
              "      <td>4220.10</td>\n",
              "    </tr>\n",
              "    <tr>\n",
              "      <th>9</th>\n",
              "      <td>VOICE_TRAFFIC_MONTH_2</td>\n",
              "      <td>142.57</td>\n",
              "      <td>74.90</td>\n",
              "      <td>0.00</td>\n",
              "      <td>3132.10</td>\n",
              "    </tr>\n",
              "    <tr>\n",
              "      <th>10</th>\n",
              "      <td>VOICE_TRAFFIC_MONTH_3</td>\n",
              "      <td>141.71</td>\n",
              "      <td>74.40</td>\n",
              "      <td>0.00</td>\n",
              "      <td>2992.50</td>\n",
              "    </tr>\n",
              "    <tr>\n",
              "      <th>11</th>\n",
              "      <td>VOICE_TRAFFIC_MONTH_4</td>\n",
              "      <td>143.15</td>\n",
              "      <td>75.10</td>\n",
              "      <td>0.00</td>\n",
              "      <td>3163.30</td>\n",
              "    </tr>\n",
              "    <tr>\n",
              "      <th>12</th>\n",
              "      <td>VOICE_TRAFFIC_MONTH_5</td>\n",
              "      <td>154.28</td>\n",
              "      <td>82.85</td>\n",
              "      <td>0.00</td>\n",
              "      <td>3429.10</td>\n",
              "    </tr>\n",
              "    <tr>\n",
              "      <th>13</th>\n",
              "      <td>VOICE_TRAFFIC_MONTH_6</td>\n",
              "      <td>84.03</td>\n",
              "      <td>6.20</td>\n",
              "      <td>0.00</td>\n",
              "      <td>2129.50</td>\n",
              "    </tr>\n",
              "    <tr>\n",
              "      <th>14</th>\n",
              "      <td>BILLING_MONTH_1</td>\n",
              "      <td>102.34</td>\n",
              "      <td>94.99</td>\n",
              "      <td>-128.01</td>\n",
              "      <td>1569.10</td>\n",
              "    </tr>\n",
              "    <tr>\n",
              "      <th>15</th>\n",
              "      <td>BILLING_MONTH_2</td>\n",
              "      <td>104.98</td>\n",
              "      <td>96.43</td>\n",
              "      <td>0.00</td>\n",
              "      <td>2032.12</td>\n",
              "    </tr>\n",
              "    <tr>\n",
              "      <th>16</th>\n",
              "      <td>BILLING_MONTH_3</td>\n",
              "      <td>102.68</td>\n",
              "      <td>96.25</td>\n",
              "      <td>0.00</td>\n",
              "      <td>1741.21</td>\n",
              "    </tr>\n",
              "    <tr>\n",
              "      <th>17</th>\n",
              "      <td>BILLING_MONTH_4</td>\n",
              "      <td>101.99</td>\n",
              "      <td>94.89</td>\n",
              "      <td>0.00</td>\n",
              "      <td>1084.82</td>\n",
              "    </tr>\n",
              "    <tr>\n",
              "      <th>18</th>\n",
              "      <td>BILLING_MONTH_5</td>\n",
              "      <td>102.21</td>\n",
              "      <td>95.29</td>\n",
              "      <td>0.00</td>\n",
              "      <td>911.72</td>\n",
              "    </tr>\n",
              "    <tr>\n",
              "      <th>19</th>\n",
              "      <td>BILLING_MONTH_6</td>\n",
              "      <td>102.27</td>\n",
              "      <td>94.99</td>\n",
              "      <td>0.00</td>\n",
              "      <td>1187.30</td>\n",
              "    </tr>\n",
              "    <tr>\n",
              "      <th>20</th>\n",
              "      <td>DEVICE_COST_MONTH_1</td>\n",
              "      <td>10.81</td>\n",
              "      <td>0.00</td>\n",
              "      <td>0.00</td>\n",
              "      <td>6440.00</td>\n",
              "    </tr>\n",
              "    <tr>\n",
              "      <th>21</th>\n",
              "      <td>DEVICE_COST_MONTH_2</td>\n",
              "      <td>10.59</td>\n",
              "      <td>0.00</td>\n",
              "      <td>0.00</td>\n",
              "      <td>1360.00</td>\n",
              "    </tr>\n",
              "    <tr>\n",
              "      <th>22</th>\n",
              "      <td>DEVICE_COST_MONTH_3</td>\n",
              "      <td>11.71</td>\n",
              "      <td>0.00</td>\n",
              "      <td>0.00</td>\n",
              "      <td>2466.00</td>\n",
              "    </tr>\n",
              "    <tr>\n",
              "      <th>23</th>\n",
              "      <td>DEVICE_COST_MONTH_4</td>\n",
              "      <td>11.55</td>\n",
              "      <td>0.00</td>\n",
              "      <td>0.00</td>\n",
              "      <td>455.00</td>\n",
              "    </tr>\n",
              "    <tr>\n",
              "      <th>24</th>\n",
              "      <td>DEVICE_COST_MONTH_5</td>\n",
              "      <td>12.51</td>\n",
              "      <td>0.00</td>\n",
              "      <td>0.00</td>\n",
              "      <td>1258.00</td>\n",
              "    </tr>\n",
              "    <tr>\n",
              "      <th>25</th>\n",
              "      <td>DEVICE_COST_MONTH_6</td>\n",
              "      <td>12.98</td>\n",
              "      <td>0.00</td>\n",
              "      <td>0.00</td>\n",
              "      <td>1000.00</td>\n",
              "    </tr>\n",
              "    <tr>\n",
              "      <th>26</th>\n",
              "      <td>LINE_ACTIVATION_DATE</td>\n",
              "      <td>20136051.57</td>\n",
              "      <td>20150324.00</td>\n",
              "      <td>19920804.00</td>\n",
              "      <td>20190416.00</td>\n",
              "    </tr>\n",
              "    <tr>\n",
              "      <th>27</th>\n",
              "      <td>MONTHS_LAST_DEVICE</td>\n",
              "      <td>25.34</td>\n",
              "      <td>22.00</td>\n",
              "      <td>-5.00</td>\n",
              "      <td>78.00</td>\n",
              "    </tr>\n",
              "    <tr>\n",
              "      <th>28</th>\n",
              "      <td>DURATION_LINE</td>\n",
              "      <td>62.37</td>\n",
              "      <td>48.00</td>\n",
              "      <td>0.00</td>\n",
              "      <td>320.00</td>\n",
              "    </tr>\n",
              "  </tbody>\n",
              "</table>\n",
              "</div>\n",
              "    <div class=\"colab-df-buttons\">\n",
              "\n",
              "  <div class=\"colab-df-container\">\n",
              "    <button class=\"colab-df-convert\" onclick=\"convertToInteractive('df-5eeaab58-bccd-4cff-8ebf-42ccbd14564c')\"\n",
              "            title=\"Convert this dataframe to an interactive table.\"\n",
              "            style=\"display:none;\">\n",
              "\n",
              "  <svg xmlns=\"http://www.w3.org/2000/svg\" height=\"24px\" viewBox=\"0 -960 960 960\">\n",
              "    <path d=\"M120-120v-720h720v720H120Zm60-500h600v-160H180v160Zm220 220h160v-160H400v160Zm0 220h160v-160H400v160ZM180-400h160v-160H180v160Zm440 0h160v-160H620v160ZM180-180h160v-160H180v160Zm440 0h160v-160H620v160Z\"/>\n",
              "  </svg>\n",
              "    </button>\n",
              "\n",
              "  <style>\n",
              "    .colab-df-container {\n",
              "      display:flex;\n",
              "      gap: 12px;\n",
              "    }\n",
              "\n",
              "    .colab-df-convert {\n",
              "      background-color: #E8F0FE;\n",
              "      border: none;\n",
              "      border-radius: 50%;\n",
              "      cursor: pointer;\n",
              "      display: none;\n",
              "      fill: #1967D2;\n",
              "      height: 32px;\n",
              "      padding: 0 0 0 0;\n",
              "      width: 32px;\n",
              "    }\n",
              "\n",
              "    .colab-df-convert:hover {\n",
              "      background-color: #E2EBFA;\n",
              "      box-shadow: 0px 1px 2px rgba(60, 64, 67, 0.3), 0px 1px 3px 1px rgba(60, 64, 67, 0.15);\n",
              "      fill: #174EA6;\n",
              "    }\n",
              "\n",
              "    .colab-df-buttons div {\n",
              "      margin-bottom: 4px;\n",
              "    }\n",
              "\n",
              "    [theme=dark] .colab-df-convert {\n",
              "      background-color: #3B4455;\n",
              "      fill: #D2E3FC;\n",
              "    }\n",
              "\n",
              "    [theme=dark] .colab-df-convert:hover {\n",
              "      background-color: #434B5C;\n",
              "      box-shadow: 0px 1px 3px 1px rgba(0, 0, 0, 0.15);\n",
              "      filter: drop-shadow(0px 1px 2px rgba(0, 0, 0, 0.3));\n",
              "      fill: #FFFFFF;\n",
              "    }\n",
              "  </style>\n",
              "\n",
              "    <script>\n",
              "      const buttonEl =\n",
              "        document.querySelector('#df-5eeaab58-bccd-4cff-8ebf-42ccbd14564c button.colab-df-convert');\n",
              "      buttonEl.style.display =\n",
              "        google.colab.kernel.accessAllowed ? 'block' : 'none';\n",
              "\n",
              "      async function convertToInteractive(key) {\n",
              "        const element = document.querySelector('#df-5eeaab58-bccd-4cff-8ebf-42ccbd14564c');\n",
              "        const dataTable =\n",
              "          await google.colab.kernel.invokeFunction('convertToInteractive',\n",
              "                                                    [key], {});\n",
              "        if (!dataTable) return;\n",
              "\n",
              "        const docLinkHtml = 'Like what you see? Visit the ' +\n",
              "          '<a target=\"_blank\" href=https://colab.research.google.com/notebooks/data_table.ipynb>data table notebook</a>'\n",
              "          + ' to learn more about interactive tables.';\n",
              "        element.innerHTML = '';\n",
              "        dataTable['output_type'] = 'display_data';\n",
              "        await google.colab.output.renderOutput(dataTable, element);\n",
              "        const docLink = document.createElement('div');\n",
              "        docLink.innerHTML = docLinkHtml;\n",
              "        element.appendChild(docLink);\n",
              "      }\n",
              "    </script>\n",
              "  </div>\n",
              "\n",
              "\n",
              "<div id=\"df-1ccc637f-b58b-42ed-bc92-8ee887e2142e\">\n",
              "  <button class=\"colab-df-quickchart\" onclick=\"quickchart('df-1ccc637f-b58b-42ed-bc92-8ee887e2142e')\"\n",
              "            title=\"Suggest charts\"\n",
              "            style=\"display:none;\">\n",
              "\n",
              "<svg xmlns=\"http://www.w3.org/2000/svg\" height=\"24px\"viewBox=\"0 0 24 24\"\n",
              "     width=\"24px\">\n",
              "    <g>\n",
              "        <path d=\"M19 3H5c-1.1 0-2 .9-2 2v14c0 1.1.9 2 2 2h14c1.1 0 2-.9 2-2V5c0-1.1-.9-2-2-2zM9 17H7v-7h2v7zm4 0h-2V7h2v10zm4 0h-2v-4h2v4z\"/>\n",
              "    </g>\n",
              "</svg>\n",
              "  </button>\n",
              "\n",
              "<style>\n",
              "  .colab-df-quickchart {\n",
              "      --bg-color: #E8F0FE;\n",
              "      --fill-color: #1967D2;\n",
              "      --hover-bg-color: #E2EBFA;\n",
              "      --hover-fill-color: #174EA6;\n",
              "      --disabled-fill-color: #AAA;\n",
              "      --disabled-bg-color: #DDD;\n",
              "  }\n",
              "\n",
              "  [theme=dark] .colab-df-quickchart {\n",
              "      --bg-color: #3B4455;\n",
              "      --fill-color: #D2E3FC;\n",
              "      --hover-bg-color: #434B5C;\n",
              "      --hover-fill-color: #FFFFFF;\n",
              "      --disabled-bg-color: #3B4455;\n",
              "      --disabled-fill-color: #666;\n",
              "  }\n",
              "\n",
              "  .colab-df-quickchart {\n",
              "    background-color: var(--bg-color);\n",
              "    border: none;\n",
              "    border-radius: 50%;\n",
              "    cursor: pointer;\n",
              "    display: none;\n",
              "    fill: var(--fill-color);\n",
              "    height: 32px;\n",
              "    padding: 0;\n",
              "    width: 32px;\n",
              "  }\n",
              "\n",
              "  .colab-df-quickchart:hover {\n",
              "    background-color: var(--hover-bg-color);\n",
              "    box-shadow: 0 1px 2px rgba(60, 64, 67, 0.3), 0 1px 3px 1px rgba(60, 64, 67, 0.15);\n",
              "    fill: var(--button-hover-fill-color);\n",
              "  }\n",
              "\n",
              "  .colab-df-quickchart-complete:disabled,\n",
              "  .colab-df-quickchart-complete:disabled:hover {\n",
              "    background-color: var(--disabled-bg-color);\n",
              "    fill: var(--disabled-fill-color);\n",
              "    box-shadow: none;\n",
              "  }\n",
              "\n",
              "  .colab-df-spinner {\n",
              "    border: 2px solid var(--fill-color);\n",
              "    border-color: transparent;\n",
              "    border-bottom-color: var(--fill-color);\n",
              "    animation:\n",
              "      spin 1s steps(1) infinite;\n",
              "  }\n",
              "\n",
              "  @keyframes spin {\n",
              "    0% {\n",
              "      border-color: transparent;\n",
              "      border-bottom-color: var(--fill-color);\n",
              "      border-left-color: var(--fill-color);\n",
              "    }\n",
              "    20% {\n",
              "      border-color: transparent;\n",
              "      border-left-color: var(--fill-color);\n",
              "      border-top-color: var(--fill-color);\n",
              "    }\n",
              "    30% {\n",
              "      border-color: transparent;\n",
              "      border-left-color: var(--fill-color);\n",
              "      border-top-color: var(--fill-color);\n",
              "      border-right-color: var(--fill-color);\n",
              "    }\n",
              "    40% {\n",
              "      border-color: transparent;\n",
              "      border-right-color: var(--fill-color);\n",
              "      border-top-color: var(--fill-color);\n",
              "    }\n",
              "    60% {\n",
              "      border-color: transparent;\n",
              "      border-right-color: var(--fill-color);\n",
              "    }\n",
              "    80% {\n",
              "      border-color: transparent;\n",
              "      border-right-color: var(--fill-color);\n",
              "      border-bottom-color: var(--fill-color);\n",
              "    }\n",
              "    90% {\n",
              "      border-color: transparent;\n",
              "      border-bottom-color: var(--fill-color);\n",
              "    }\n",
              "  }\n",
              "</style>\n",
              "\n",
              "  <script>\n",
              "    async function quickchart(key) {\n",
              "      const quickchartButtonEl =\n",
              "        document.querySelector('#' + key + ' button');\n",
              "      quickchartButtonEl.disabled = true;  // To prevent multiple clicks.\n",
              "      quickchartButtonEl.classList.add('colab-df-spinner');\n",
              "      try {\n",
              "        const charts = await google.colab.kernel.invokeFunction(\n",
              "            'suggestCharts', [key], {});\n",
              "      } catch (error) {\n",
              "        console.error('Error during call to suggestCharts:', error);\n",
              "      }\n",
              "      quickchartButtonEl.classList.remove('colab-df-spinner');\n",
              "      quickchartButtonEl.classList.add('colab-df-quickchart-complete');\n",
              "    }\n",
              "    (() => {\n",
              "      let quickchartButtonEl =\n",
              "        document.querySelector('#df-1ccc637f-b58b-42ed-bc92-8ee887e2142e button');\n",
              "      quickchartButtonEl.style.display =\n",
              "        google.colab.kernel.accessAllowed ? 'block' : 'none';\n",
              "    })();\n",
              "  </script>\n",
              "</div>\n",
              "\n",
              "  <div id=\"id_d388c0ab-9b26-42d2-9a0c-60fc3617bd8a\">\n",
              "    <style>\n",
              "      .colab-df-generate {\n",
              "        background-color: #E8F0FE;\n",
              "        border: none;\n",
              "        border-radius: 50%;\n",
              "        cursor: pointer;\n",
              "        display: none;\n",
              "        fill: #1967D2;\n",
              "        height: 32px;\n",
              "        padding: 0 0 0 0;\n",
              "        width: 32px;\n",
              "      }\n",
              "\n",
              "      .colab-df-generate:hover {\n",
              "        background-color: #E2EBFA;\n",
              "        box-shadow: 0px 1px 2px rgba(60, 64, 67, 0.3), 0px 1px 3px 1px rgba(60, 64, 67, 0.15);\n",
              "        fill: #174EA6;\n",
              "      }\n",
              "\n",
              "      [theme=dark] .colab-df-generate {\n",
              "        background-color: #3B4455;\n",
              "        fill: #D2E3FC;\n",
              "      }\n",
              "\n",
              "      [theme=dark] .colab-df-generate:hover {\n",
              "        background-color: #434B5C;\n",
              "        box-shadow: 0px 1px 3px 1px rgba(0, 0, 0, 0.15);\n",
              "        filter: drop-shadow(0px 1px 2px rgba(0, 0, 0, 0.3));\n",
              "        fill: #FFFFFF;\n",
              "      }\n",
              "    </style>\n",
              "    <button class=\"colab-df-generate\" onclick=\"generateWithVariable('float_stats_df')\"\n",
              "            title=\"Generate code using this dataframe.\"\n",
              "            style=\"display:none;\">\n",
              "\n",
              "  <svg xmlns=\"http://www.w3.org/2000/svg\" height=\"24px\"viewBox=\"0 0 24 24\"\n",
              "       width=\"24px\">\n",
              "    <path d=\"M7,19H8.4L18.45,9,17,7.55,7,17.6ZM5,21V16.75L18.45,3.32a2,2,0,0,1,2.83,0l1.4,1.43a1.91,1.91,0,0,1,.58,1.4,1.91,1.91,0,0,1-.58,1.4L9.25,21ZM18.45,9,17,7.55Zm-12,3A5.31,5.31,0,0,0,4.9,8.1,5.31,5.31,0,0,0,1,6.5,5.31,5.31,0,0,0,4.9,4.9,5.31,5.31,0,0,0,6.5,1,5.31,5.31,0,0,0,8.1,4.9,5.31,5.31,0,0,0,12,6.5,5.46,5.46,0,0,0,6.5,12Z\"/>\n",
              "  </svg>\n",
              "    </button>\n",
              "    <script>\n",
              "      (() => {\n",
              "      const buttonEl =\n",
              "        document.querySelector('#id_d388c0ab-9b26-42d2-9a0c-60fc3617bd8a button.colab-df-generate');\n",
              "      buttonEl.style.display =\n",
              "        google.colab.kernel.accessAllowed ? 'block' : 'none';\n",
              "\n",
              "      buttonEl.onclick = () => {\n",
              "        google.colab.notebook.generateWithVariable('float_stats_df');\n",
              "      }\n",
              "      })();\n",
              "    </script>\n",
              "  </div>\n",
              "\n",
              "    </div>\n",
              "  </div>\n"
            ],
            "application/vnd.google.colaboratory.intrinsic+json": {
              "type": "dataframe",
              "variable_name": "float_stats_df",
              "summary": "{\n  \"name\": \"float_stats_df\",\n  \"rows\": 29,\n  \"fields\": [\n    {\n      \"column\": \"Column_Name\",\n      \"properties\": {\n        \"dtype\": \"string\",\n        \"num_unique_values\": 29,\n        \"samples\": [\n          \"MONTHS_LAST_DEVICE\",\n          \"BILLING_MONTH_3\",\n          \"VOICE_TRAFFIC_MONTH_5\"\n        ],\n        \"semantic_type\": \"\",\n        \"description\": \"\"\n      }\n    },\n    {\n      \"column\": \"Mean\",\n      \"properties\": {\n        \"dtype\": \"number\",\n        \"std\": 5196465.279711559,\n        \"min\": 10.587317463492699,\n        \"max\": 20166984.767248113,\n        \"num_unique_values\": 29,\n        \"samples\": [\n          25.338323353293415,\n          102.67676941553243,\n          154.27731784479133\n        ],\n        \"semantic_type\": \"\",\n        \"description\": \"\"\n      }\n    },\n    {\n      \"column\": \"Median\",\n      \"properties\": {\n        \"dtype\": \"number\",\n        \"std\": 5198909.359334827,\n        \"min\": 0.0,\n        \"max\": 20170601.0,\n        \"num_unique_values\": 23,\n        \"samples\": [\n          96.43,\n          74.900002,\n          393.0\n        ],\n        \"semantic_type\": \"\",\n        \"description\": \"\"\n      }\n    },\n    {\n      \"column\": \"Min\",\n      \"properties\": {\n        \"dtype\": \"number\",\n        \"std\": 5163075.0836884715,\n        \"min\": -128.01,\n        \"max\": 20121001.0,\n        \"num_unique_values\": 6,\n        \"samples\": [\n          15.0,\n          20121001.0,\n          -5.0\n        ],\n        \"semantic_type\": \"\",\n        \"description\": \"\"\n      }\n    },\n    {\n      \"column\": \"Max\",\n      \"properties\": {\n        \"dtype\": \"number\",\n        \"std\": 5200218.066559549,\n        \"min\": 78.0,\n        \"max\": 20190501.0,\n        \"num_unique_values\": 28,\n        \"samples\": [\n          2992.5,\n          20190416.0,\n          3132.1001\n        ],\n        \"semantic_type\": \"\",\n        \"description\": \"\"\n      }\n    }\n  ]\n}"
            }
          },
          "metadata": {},
          "execution_count": 5
        }
      ]
    },
    {
      "cell_type": "markdown",
      "metadata": {
        "id": "fcrZyU2dKCd1"
      },
      "source": [
        "The `describe` function can be used to describe a series. To invoke it simply do `input_dataset.DEVICE_VALUE.describe()`\n",
        "\n",
        "<font size=\"-1\" color=\"gray\">(Remove this cell when delivering.)</font>"
      ]
    },
    {
      "cell_type": "markdown",
      "metadata": {
        "id": "HqkVubP6KCd1"
      },
      "source": [
        "<font size=\"+1\" color=\"red\">Replace this cell with code to print each column name and then use the `describe` function to print statistics for that column. Include a blank line after each description.</font>"
      ]
    },
    {
      "cell_type": "code",
      "source": [
        "# Loop through all columns and print the description\n",
        "for column in input_dataset.columns:\n",
        "    print(f\"Statistics for column: {column}\")\n",
        "    print(input_dataset[column].describe())\n",
        "    print(\"\\n\")  # Blank line after each description"
      ],
      "metadata": {
        "colab": {
          "base_uri": "https://localhost:8080/"
        },
        "id": "QZ1ncgxAatnw",
        "outputId": "0e675880-57b3-430b-db2a-c237a95a533f"
      },
      "execution_count": null,
      "outputs": [
        {
          "output_type": "stream",
          "name": "stdout",
          "text": [
            "Statistics for column: PURCHASED_DEVICE\n",
            "count                                                  9853\n",
            "unique                                                  101\n",
            "top       TGLG29162000_LG X210BMW SMARTPHONE PRETO PPB/P...\n",
            "freq                                                   5379\n",
            "Name: PURCHASED_DEVICE, dtype: object\n",
            "\n",
            "\n",
            "Statistics for column: DEVICE_VALUE\n",
            "count   9690.00\n",
            "mean     750.48\n",
            "std      979.71\n",
            "min       15.00\n",
            "25%      297.00\n",
            "50%      393.00\n",
            "75%      609.00\n",
            "max     9057.00\n",
            "Name: DEVICE_VALUE, dtype: float64\n",
            "\n",
            "\n",
            "Statistics for column: LAST_DEVICE_CHANGE\n",
            "count       7682.00\n",
            "mean    20166984.77\n",
            "std        10925.77\n",
            "min     20121001.00\n",
            "25%     20160801.00\n",
            "50%     20170601.00\n",
            "75%     20171001.00\n",
            "max     20190501.00\n",
            "Name: LAST_DEVICE_CHANGE, dtype: float64\n",
            "\n",
            "\n",
            "Statistics for column: DATA_TRAFFIC_MONTH_1\n",
            "count     8868.00\n",
            "mean      3481.83\n",
            "std       6364.54\n",
            "min          0.00\n",
            "25%         51.92\n",
            "50%       1208.73\n",
            "75%       4249.16\n",
            "max     127017.59\n",
            "Name: DATA_TRAFFIC_MONTH_1, dtype: float64\n",
            "\n",
            "\n",
            "Statistics for column: DATA_TRAFFIC_MONTH_2\n",
            "count     8841.00\n",
            "mean      3649.96\n",
            "std       6444.36\n",
            "min          0.00\n",
            "25%         46.54\n",
            "50%       1294.95\n",
            "75%       4546.06\n",
            "max     111948.84\n",
            "Name: DATA_TRAFFIC_MONTH_2, dtype: float64\n",
            "\n",
            "\n",
            "Statistics for column: DATA_TRAFFIC_MONTH_3\n",
            "count     8846.00\n",
            "mean      3653.43\n",
            "std       6382.60\n",
            "min          0.00\n",
            "25%         44.90\n",
            "50%       1310.67\n",
            "75%       4579.45\n",
            "max     111948.84\n",
            "Name: DATA_TRAFFIC_MONTH_3, dtype: float64\n",
            "\n",
            "\n",
            "Statistics for column: DATA_TRAFFIC_MONTH_4\n",
            "count    8817.00\n",
            "mean     3269.44\n",
            "std      5675.55\n",
            "min         0.00\n",
            "25%        35.69\n",
            "50%      1176.54\n",
            "75%      3983.98\n",
            "max     87856.41\n",
            "Name: DATA_TRAFFIC_MONTH_4, dtype: float64\n",
            "\n",
            "\n",
            "Statistics for column: DATA_TRAFFIC_MONTH_5\n",
            "count     8866.00\n",
            "mean      3673.37\n",
            "std       6589.40\n",
            "min          0.00\n",
            "25%         45.36\n",
            "50%       1287.09\n",
            "75%       4541.87\n",
            "max     121834.81\n",
            "Name: DATA_TRAFFIC_MONTH_5, dtype: float64\n",
            "\n",
            "\n",
            "Statistics for column: DATA_TRAFFIC_MONTH_6\n",
            "count    8535.00\n",
            "mean     3427.69\n",
            "std      5885.42\n",
            "min         0.00\n",
            "25%        75.26\n",
            "50%      1277.12\n",
            "75%      4278.35\n",
            "max     90550.61\n",
            "Name: DATA_TRAFFIC_MONTH_6, dtype: float64\n",
            "\n",
            "\n",
            "Statistics for column: VOICE_TRAFFIC_MONTH_1\n",
            "count   8868.00\n",
            "mean     154.85\n",
            "std      218.25\n",
            "min        0.00\n",
            "25%       26.70\n",
            "50%       84.05\n",
            "75%      199.22\n",
            "max     4220.10\n",
            "Name: VOICE_TRAFFIC_MONTH_1, dtype: float64\n",
            "\n",
            "\n",
            "Statistics for column: VOICE_TRAFFIC_MONTH_2\n",
            "count   8841.00\n",
            "mean     142.57\n",
            "std      200.57\n",
            "min        0.00\n",
            "25%       20.00\n",
            "50%       74.90\n",
            "75%      186.20\n",
            "max     3132.10\n",
            "Name: VOICE_TRAFFIC_MONTH_2, dtype: float64\n",
            "\n",
            "\n",
            "Statistics for column: VOICE_TRAFFIC_MONTH_3\n",
            "count   8846.00\n",
            "mean     141.71\n",
            "std      198.54\n",
            "min        0.00\n",
            "25%       19.63\n",
            "50%       74.40\n",
            "75%      183.90\n",
            "max     2992.50\n",
            "Name: VOICE_TRAFFIC_MONTH_3, dtype: float64\n",
            "\n",
            "\n",
            "Statistics for column: VOICE_TRAFFIC_MONTH_4\n",
            "count   8817.00\n",
            "mean     143.15\n",
            "std      200.51\n",
            "min        0.00\n",
            "25%       20.00\n",
            "50%       75.10\n",
            "75%      187.60\n",
            "max     3163.30\n",
            "Name: VOICE_TRAFFIC_MONTH_4, dtype: float64\n",
            "\n",
            "\n",
            "Statistics for column: VOICE_TRAFFIC_MONTH_5\n",
            "count   8866.00\n",
            "mean     154.28\n",
            "std      210.54\n",
            "min        0.00\n",
            "25%       21.90\n",
            "50%       82.85\n",
            "75%      200.05\n",
            "max     3429.10\n",
            "Name: VOICE_TRAFFIC_MONTH_5, dtype: float64\n",
            "\n",
            "\n",
            "Statistics for column: VOICE_TRAFFIC_MONTH_6\n",
            "count   8535.00\n",
            "mean      84.03\n",
            "std      161.34\n",
            "min        0.00\n",
            "25%        0.00\n",
            "50%        6.20\n",
            "75%      105.75\n",
            "max     2129.50\n",
            "Name: VOICE_TRAFFIC_MONTH_6, dtype: float64\n",
            "\n",
            "\n",
            "Statistics for column: BILLING_MONTH_1\n",
            "count   9999.00\n",
            "mean     102.34\n",
            "std       67.79\n",
            "min     -128.01\n",
            "25%       66.00\n",
            "50%       94.99\n",
            "75%      121.47\n",
            "max     1569.10\n",
            "Name: BILLING_MONTH_1, dtype: float64\n",
            "\n",
            "\n",
            "Statistics for column: BILLING_MONTH_2\n",
            "count   9998.00\n",
            "mean     104.98\n",
            "std       76.95\n",
            "min        0.00\n",
            "25%       68.00\n",
            "50%       96.43\n",
            "75%      123.24\n",
            "max     2032.12\n",
            "Name: BILLING_MONTH_2, dtype: float64\n",
            "\n",
            "\n",
            "Statistics for column: BILLING_MONTH_3\n",
            "count   9992.00\n",
            "mean     102.68\n",
            "std       66.63\n",
            "min        0.00\n",
            "25%       67.99\n",
            "50%       96.25\n",
            "75%      122.08\n",
            "max     1741.21\n",
            "Name: BILLING_MONTH_3, dtype: float64\n",
            "\n",
            "\n",
            "Statistics for column: BILLING_MONTH_4\n",
            "count   9989.00\n",
            "mean     101.99\n",
            "std       64.39\n",
            "min        0.00\n",
            "25%       67.19\n",
            "50%       94.89\n",
            "75%      121.44\n",
            "max     1084.82\n",
            "Name: BILLING_MONTH_4, dtype: float64\n",
            "\n",
            "\n",
            "Statistics for column: BILLING_MONTH_5\n",
            "count   9987.00\n",
            "mean     102.21\n",
            "std       64.02\n",
            "min        0.00\n",
            "25%       66.99\n",
            "50%       95.29\n",
            "75%      121.85\n",
            "max      911.72\n",
            "Name: BILLING_MONTH_5, dtype: float64\n",
            "\n",
            "\n",
            "Statistics for column: BILLING_MONTH_6\n",
            "count   9979.00\n",
            "mean     102.27\n",
            "std       65.46\n",
            "min        0.00\n",
            "25%       66.94\n",
            "50%       94.99\n",
            "75%      121.14\n",
            "max     1187.30\n",
            "Name: BILLING_MONTH_6, dtype: float64\n",
            "\n",
            "\n",
            "Statistics for column: DEVICE_COST_MONTH_1\n",
            "count   9999.00\n",
            "mean      10.81\n",
            "std       75.83\n",
            "min        0.00\n",
            "25%        0.00\n",
            "50%        0.00\n",
            "75%        0.62\n",
            "max     6440.00\n",
            "Name: DEVICE_COST_MONTH_1, dtype: float64\n",
            "\n",
            "\n",
            "Statistics for column: DEVICE_COST_MONTH_2\n",
            "count   9998.00\n",
            "mean      10.59\n",
            "std       37.00\n",
            "min        0.00\n",
            "25%        0.00\n",
            "50%        0.00\n",
            "75%        0.62\n",
            "max     1360.00\n",
            "Name: DEVICE_COST_MONTH_2, dtype: float64\n",
            "\n",
            "\n",
            "Statistics for column: DEVICE_COST_MONTH_3\n",
            "count   9992.00\n",
            "mean      11.71\n",
            "std       44.43\n",
            "min        0.00\n",
            "25%        0.00\n",
            "50%        0.00\n",
            "75%        7.00\n",
            "max     2466.00\n",
            "Name: DEVICE_COST_MONTH_3, dtype: float64\n",
            "\n",
            "\n",
            "Statistics for column: DEVICE_COST_MONTH_4\n",
            "count   9989.00\n",
            "mean      11.55\n",
            "std       34.18\n",
            "min        0.00\n",
            "25%        0.00\n",
            "50%        0.00\n",
            "75%        9.00\n",
            "max      455.00\n",
            "Name: DEVICE_COST_MONTH_4, dtype: float64\n",
            "\n",
            "\n",
            "Statistics for column: DEVICE_COST_MONTH_5\n",
            "count   9987.00\n",
            "mean      12.51\n",
            "std       38.88\n",
            "min        0.00\n",
            "25%        0.00\n",
            "50%        0.00\n",
            "75%        9.31\n",
            "max     1258.00\n",
            "Name: DEVICE_COST_MONTH_5, dtype: float64\n",
            "\n",
            "\n",
            "Statistics for column: DEVICE_COST_MONTH_6\n",
            "count   9979.00\n",
            "mean      12.98\n",
            "std       39.53\n",
            "min        0.00\n",
            "25%        0.00\n",
            "50%        0.00\n",
            "75%       11.66\n",
            "max     1000.00\n",
            "Name: DEVICE_COST_MONTH_6, dtype: float64\n",
            "\n",
            "\n",
            "Statistics for column: LINE_ACTIVATION_DATE\n",
            "count       9179.00\n",
            "mean    20136051.57\n",
            "std        43469.58\n",
            "min     19920804.00\n",
            "25%     20120329.00\n",
            "50%     20150324.00\n",
            "75%     20170629.00\n",
            "max     20190416.00\n",
            "Name: LINE_ACTIVATION_DATE, dtype: float64\n",
            "\n",
            "\n",
            "Statistics for column: MONTHS_LAST_DEVICE\n",
            "count   7682.00\n",
            "mean      25.34\n",
            "std       12.82\n",
            "min       -5.00\n",
            "25%       17.00\n",
            "50%       22.00\n",
            "75%       31.00\n",
            "max       78.00\n",
            "Name: MONTHS_LAST_DEVICE, dtype: float64\n",
            "\n",
            "\n",
            "Statistics for column: DURATION_LINE\n",
            "count   9179.00\n",
            "mean      62.37\n",
            "std       52.07\n",
            "min        0.00\n",
            "25%       21.00\n",
            "50%       48.00\n",
            "75%       84.00\n",
            "max      320.00\n",
            "Name: DURATION_LINE, dtype: float64\n",
            "\n",
            "\n",
            "Statistics for column: PREVIOUS_DEVICE_MODEL\n",
            "count         6169\n",
            "unique         580\n",
            "top       iPhone 7\n",
            "freq           425\n",
            "Name: PREVIOUS_DEVICE_MODEL, dtype: object\n",
            "\n",
            "\n",
            "Statistics for column: PREVIOUS_DEVICE_MANUF\n",
            "count              6169\n",
            "unique               68\n",
            "top       Samsung Korea\n",
            "freq               1928\n",
            "Name: PREVIOUS_DEVICE_MANUF, dtype: object\n",
            "\n",
            "\n",
            "Statistics for column: PREVIOUS_DEVICE_BRAND\n",
            "count        6169\n",
            "unique          5\n",
            "top       Samsung\n",
            "freq         1877\n",
            "Name: PREVIOUS_DEVICE_BRAND, dtype: object\n",
            "\n",
            "\n"
          ]
        }
      ]
    },
    {
      "cell_type": "markdown",
      "metadata": {
        "id": "1kELTY6eKCd2"
      },
      "source": [
        "<font size=\"+1\" color=\"red\">Replace this cell with a brief commentary comparing the previous results for **DURATION_LINE** (time that the customer has had a line) with the ones from the `describe` function.</font>\n",
        "\n",
        "<font size=\"+1\" color=\"red\">Indicate all the differences between the statistics that `describe` computed, and the statistics you computed (e.g., missing or extra computations).</font>"
      ]
    },
    {
      "cell_type": "markdown",
      "source": [
        "We can see the next features:\n",
        "\n",
        "- **Mean:** In both cases the mean is 62.37. There are not differences.\n",
        "- **Median:** Computed median by describe() is 48.00, the same result of my computed median. Median is the same concept that 50% from describe()\n",
        "- **Min:** In both cases the minimum is 0.00. There is not differences here.\n",
        "- **Max:** In both cases the maximum is 320.00. There is not differences here.\n",
        "- **Standard Deviation:** In the describe() case, Std calculated is 52.07. In my stadistics, I didn't compute this operation. So std is  missing computation from my part.\n",
        "- **25%:** In the describe() case, 25% calculated is 21.00. In my stadistics, I didn't compute this operation. So 25% is a missing computation from my part.\n",
        "- **75%:** In the describe() case, 75% calculated is 84.00. In my stadistics, I didn't compute this operation. So 75% is a missing computation from my part.\n",
        "\n"
      ],
      "metadata": {
        "id": "HQ7MrRpXFgDR"
      }
    },
    {
      "cell_type": "markdown",
      "metadata": {
        "id": "UbRA0MpiKCd2"
      },
      "source": [
        "## 1.2. Inventory of device models"
      ]
    },
    {
      "cell_type": "markdown",
      "metadata": {
        "id": "8pFmntrGKCd2"
      },
      "source": [
        "In exploratory data analysis, it is very useful to do an **inventory** or **census** of the possible values of a variable. For us, a census will be a frequency table in which you show the possible values of a variable, and their frequency, in decreasing order of frequency.\n",
        "\n",
        "\n",
        "\n",
        "<font size=\"-1\" color=\"gray\">(Remove this cell when delivering.)</font>"
      ]
    },
    {
      "cell_type": "markdown",
      "metadata": {
        "id": "wpCfVyXhKCd2"
      },
      "source": [
        "<font size=\"+1\" color=\"red\">Replace this cell with code to display a census of PREVIOUS_DEVICE_MODEL and PREVIOUS_DEVICE_BRAND. You should create and display a dataframe in each case.</font>"
      ]
    },
    {
      "cell_type": "code",
      "source": [
        "# Census of PREVIOUS_DEVICE_MODEL\n",
        "model_census = input_dataset['PREVIOUS_DEVICE_MODEL'].value_counts().reset_index()\n",
        "model_census.columns = ['PREVIOUS_DEVICE_MODEL', 'FREQUENCY']\n",
        "\n",
        "# Display census of PREVIOUS_DEVICE_MODEL\n",
        "print(\"Census of PREVIOUS_DEVICE_MODEL:\")\n",
        "print(model_census)\n",
        "\n",
        "# Census of PREVIOUS_DEVICE_BRAND\n",
        "brand_census = input_dataset['PREVIOUS_DEVICE_BRAND'].value_counts().reset_index()\n",
        "brand_census.columns = ['PREVIOUS_DEVICE_BRAND', 'FREQUENCY']\n",
        "\n",
        "# Display census of PREVIOUS_DEVICE_BRAND\n",
        "print(\"\\nCensus of PREVIOUS_DEVICE_BRAND:\")\n",
        "print(brand_census)\n"
      ],
      "metadata": {
        "colab": {
          "base_uri": "https://localhost:8080/"
        },
        "collapsed": true,
        "id": "L8AU90bVNJGR",
        "outputId": "d0f377b0-b562-4824-e24f-ad4b5eea07a0"
      },
      "execution_count": null,
      "outputs": [
        {
          "output_type": "stream",
          "name": "stdout",
          "text": [
            "Census of PREVIOUS_DEVICE_MODEL:\n",
            "       PREVIOUS_DEVICE_MODEL  FREQUENCY\n",
            "0                   iPhone 7        425\n",
            "1                   iPhone 6        250\n",
            "2          Samsung Galaxy J5        243\n",
            "3                  iPhone 6S        212\n",
            "4     Samsung Galaxy J1 Mini        204\n",
            "..                       ...        ...\n",
            "575         LG Optimus L3 II          1\n",
            "576  Lenovo S930,Lenovo S939          1\n",
            "577         Samsung Corby II          1\n",
            "578                 SGH-U600          1\n",
            "579               Nokia 1100          1\n",
            "\n",
            "[580 rows x 2 columns]\n",
            "\n",
            "Census of PREVIOUS_DEVICE_BRAND:\n",
            "  PREVIOUS_DEVICE_BRAND  FREQUENCY\n",
            "0               Samsung       1877\n",
            "1                Outros       1592\n",
            "2                 Apple       1548\n",
            "3              Motorola        638\n",
            "4                    LG        514\n"
          ]
        }
      ]
    },
    {
      "cell_type": "markdown",
      "metadata": {
        "id": "v3f4b6mfKCd2"
      },
      "source": [
        "<font size=\"+1\" color=\"red\">The most common device model and the most common device brand do not match, why do you think it is so? Replace this cell with an explanation.</font>"
      ]
    },
    {
      "cell_type": "markdown",
      "source": [
        "It could be because of iPhone 7 was the model most sold and the other advices of the brand wasn't a lot of purchased by customers. Meanwhile, every model of Samsung was not so sold compared to iPhone 7 but the sum of total purchases was bigger than the brand iPhone."
      ],
      "metadata": {
        "id": "ooprQBtxKdaA"
      }
    },
    {
      "cell_type": "markdown",
      "metadata": {
        "id": "-mr_gMJAKCd3"
      },
      "source": [
        "# 2. Feature engineering"
      ]
    },
    {
      "cell_type": "markdown",
      "metadata": {
        "id": "j07kXozaKCd3"
      },
      "source": [
        "Feature engineering is the process of extracting valuable features from the data. This requires pre-processing, combining, normalizing, and performing other operations on the values of some features.\n",
        "\n",
        "<font size=\"-1\" color=\"gray\">(Remove this cell when delivering.)</font>"
      ]
    },
    {
      "cell_type": "markdown",
      "metadata": {
        "id": "kY7l3r1RKCd3"
      },
      "source": [
        "## 2.1. Missing values management"
      ]
    },
    {
      "cell_type": "markdown",
      "metadata": {
        "id": "m8b9X5h3KCd3"
      },
      "source": [
        "**Not A Number** (NaN) is a generic term to refer to *something that should be a number, but is not*. Usually, the value is either missing completely (\"null\") or contains the wrong type of object, such as a string or a concept such as infinity.\n",
        "\n",
        "To find which columns contain NaN values, you can use the [isna()](https://pandas.pydata.org/pandas-docs/stable/reference/api/pandas.DataFrame.isna.html) function, as explained, e.g., [here](https://medium.com/dunder-data/finding-the-percentage-of-missing-values-in-a-pandas-dataframe-a04fa00f84ab).\n",
        "\n",
        "To display a column as percentages in a dataframe, you can use:\n",
        "\n",
        "```python\n",
        "df['column_name'] = df['column_name'].map('{:,.2%}'.format)\n",
        "```\n",
        "\n",
        "<font size=\"-1\" color=\"gray\">(Remove this cell when delivering.)</font>"
      ]
    },
    {
      "cell_type": "markdown",
      "metadata": {
        "id": "ngytpd53KCd3"
      },
      "source": [
        "<font size=\"+1\" color=\"red\">Replace this cell with your code to print all columns that contain at least one NaN value, and what is the percentage of NaN values in that column. (Create a dataframe with this information, and then display it.)</font>"
      ]
    },
    {
      "cell_type": "code",
      "source": [
        "# Calculate the percentage of NaN values in each column\n",
        "nan_percentage = input_dataset.isna().mean() * 100\n",
        "\n",
        "# Filter columns that contain at least one NaN value\n",
        "nan_columns = nan_percentage[nan_percentage > 0].reset_index()\n",
        "nan_columns.columns = ['Column Name', 'Percentage of NaN Values']\n",
        "\n",
        "# Format the percentage column to show as percentages\n",
        "nan_columns['Percentage of NaN Values'] = nan_columns['Percentage of NaN Values'].map('{:,.2f}%'.format)\n",
        "nan_columns"
      ],
      "metadata": {
        "colab": {
          "base_uri": "https://localhost:8080/",
          "height": 1000
        },
        "id": "v1PnkYe4Leu_",
        "outputId": "ba3f0d43-097b-4b79-d87b-4cddafa4eb75"
      },
      "execution_count": null,
      "outputs": [
        {
          "output_type": "execute_result",
          "data": {
            "text/plain": [
              "              Column Name Percentage of NaN Values\n",
              "0        PURCHASED_DEVICE                    1.47%\n",
              "1            DEVICE_VALUE                    3.10%\n",
              "2      LAST_DEVICE_CHANGE                   23.18%\n",
              "3    DATA_TRAFFIC_MONTH_1                   11.32%\n",
              "4    DATA_TRAFFIC_MONTH_2                   11.59%\n",
              "5    DATA_TRAFFIC_MONTH_3                   11.54%\n",
              "6    DATA_TRAFFIC_MONTH_4                   11.83%\n",
              "7    DATA_TRAFFIC_MONTH_5                   11.34%\n",
              "8    DATA_TRAFFIC_MONTH_6                   14.65%\n",
              "9   VOICE_TRAFFIC_MONTH_1                   11.32%\n",
              "10  VOICE_TRAFFIC_MONTH_2                   11.59%\n",
              "11  VOICE_TRAFFIC_MONTH_3                   11.54%\n",
              "12  VOICE_TRAFFIC_MONTH_4                   11.83%\n",
              "13  VOICE_TRAFFIC_MONTH_5                   11.34%\n",
              "14  VOICE_TRAFFIC_MONTH_6                   14.65%\n",
              "15        BILLING_MONTH_1                    0.01%\n",
              "16        BILLING_MONTH_2                    0.02%\n",
              "17        BILLING_MONTH_3                    0.08%\n",
              "18        BILLING_MONTH_4                    0.11%\n",
              "19        BILLING_MONTH_5                    0.13%\n",
              "20        BILLING_MONTH_6                    0.21%\n",
              "21    DEVICE_COST_MONTH_1                    0.01%\n",
              "22    DEVICE_COST_MONTH_2                    0.02%\n",
              "23    DEVICE_COST_MONTH_3                    0.08%\n",
              "24    DEVICE_COST_MONTH_4                    0.11%\n",
              "25    DEVICE_COST_MONTH_5                    0.13%\n",
              "26    DEVICE_COST_MONTH_6                    0.21%\n",
              "27   LINE_ACTIVATION_DATE                    8.21%\n",
              "28     MONTHS_LAST_DEVICE                   23.18%\n",
              "29          DURATION_LINE                    8.21%\n",
              "30  PREVIOUS_DEVICE_MODEL                   38.31%\n",
              "31  PREVIOUS_DEVICE_MANUF                   38.31%\n",
              "32  PREVIOUS_DEVICE_BRAND                   38.31%"
            ],
            "text/html": [
              "\n",
              "  <div id=\"df-abe80723-52b3-4192-aed1-a42160a1a47f\" class=\"colab-df-container\">\n",
              "    <div>\n",
              "<style scoped>\n",
              "    .dataframe tbody tr th:only-of-type {\n",
              "        vertical-align: middle;\n",
              "    }\n",
              "\n",
              "    .dataframe tbody tr th {\n",
              "        vertical-align: top;\n",
              "    }\n",
              "\n",
              "    .dataframe thead th {\n",
              "        text-align: right;\n",
              "    }\n",
              "</style>\n",
              "<table border=\"1\" class=\"dataframe\">\n",
              "  <thead>\n",
              "    <tr style=\"text-align: right;\">\n",
              "      <th></th>\n",
              "      <th>Column Name</th>\n",
              "      <th>Percentage of NaN Values</th>\n",
              "    </tr>\n",
              "  </thead>\n",
              "  <tbody>\n",
              "    <tr>\n",
              "      <th>0</th>\n",
              "      <td>PURCHASED_DEVICE</td>\n",
              "      <td>1.47%</td>\n",
              "    </tr>\n",
              "    <tr>\n",
              "      <th>1</th>\n",
              "      <td>DEVICE_VALUE</td>\n",
              "      <td>3.10%</td>\n",
              "    </tr>\n",
              "    <tr>\n",
              "      <th>2</th>\n",
              "      <td>LAST_DEVICE_CHANGE</td>\n",
              "      <td>23.18%</td>\n",
              "    </tr>\n",
              "    <tr>\n",
              "      <th>3</th>\n",
              "      <td>DATA_TRAFFIC_MONTH_1</td>\n",
              "      <td>11.32%</td>\n",
              "    </tr>\n",
              "    <tr>\n",
              "      <th>4</th>\n",
              "      <td>DATA_TRAFFIC_MONTH_2</td>\n",
              "      <td>11.59%</td>\n",
              "    </tr>\n",
              "    <tr>\n",
              "      <th>5</th>\n",
              "      <td>DATA_TRAFFIC_MONTH_3</td>\n",
              "      <td>11.54%</td>\n",
              "    </tr>\n",
              "    <tr>\n",
              "      <th>6</th>\n",
              "      <td>DATA_TRAFFIC_MONTH_4</td>\n",
              "      <td>11.83%</td>\n",
              "    </tr>\n",
              "    <tr>\n",
              "      <th>7</th>\n",
              "      <td>DATA_TRAFFIC_MONTH_5</td>\n",
              "      <td>11.34%</td>\n",
              "    </tr>\n",
              "    <tr>\n",
              "      <th>8</th>\n",
              "      <td>DATA_TRAFFIC_MONTH_6</td>\n",
              "      <td>14.65%</td>\n",
              "    </tr>\n",
              "    <tr>\n",
              "      <th>9</th>\n",
              "      <td>VOICE_TRAFFIC_MONTH_1</td>\n",
              "      <td>11.32%</td>\n",
              "    </tr>\n",
              "    <tr>\n",
              "      <th>10</th>\n",
              "      <td>VOICE_TRAFFIC_MONTH_2</td>\n",
              "      <td>11.59%</td>\n",
              "    </tr>\n",
              "    <tr>\n",
              "      <th>11</th>\n",
              "      <td>VOICE_TRAFFIC_MONTH_3</td>\n",
              "      <td>11.54%</td>\n",
              "    </tr>\n",
              "    <tr>\n",
              "      <th>12</th>\n",
              "      <td>VOICE_TRAFFIC_MONTH_4</td>\n",
              "      <td>11.83%</td>\n",
              "    </tr>\n",
              "    <tr>\n",
              "      <th>13</th>\n",
              "      <td>VOICE_TRAFFIC_MONTH_5</td>\n",
              "      <td>11.34%</td>\n",
              "    </tr>\n",
              "    <tr>\n",
              "      <th>14</th>\n",
              "      <td>VOICE_TRAFFIC_MONTH_6</td>\n",
              "      <td>14.65%</td>\n",
              "    </tr>\n",
              "    <tr>\n",
              "      <th>15</th>\n",
              "      <td>BILLING_MONTH_1</td>\n",
              "      <td>0.01%</td>\n",
              "    </tr>\n",
              "    <tr>\n",
              "      <th>16</th>\n",
              "      <td>BILLING_MONTH_2</td>\n",
              "      <td>0.02%</td>\n",
              "    </tr>\n",
              "    <tr>\n",
              "      <th>17</th>\n",
              "      <td>BILLING_MONTH_3</td>\n",
              "      <td>0.08%</td>\n",
              "    </tr>\n",
              "    <tr>\n",
              "      <th>18</th>\n",
              "      <td>BILLING_MONTH_4</td>\n",
              "      <td>0.11%</td>\n",
              "    </tr>\n",
              "    <tr>\n",
              "      <th>19</th>\n",
              "      <td>BILLING_MONTH_5</td>\n",
              "      <td>0.13%</td>\n",
              "    </tr>\n",
              "    <tr>\n",
              "      <th>20</th>\n",
              "      <td>BILLING_MONTH_6</td>\n",
              "      <td>0.21%</td>\n",
              "    </tr>\n",
              "    <tr>\n",
              "      <th>21</th>\n",
              "      <td>DEVICE_COST_MONTH_1</td>\n",
              "      <td>0.01%</td>\n",
              "    </tr>\n",
              "    <tr>\n",
              "      <th>22</th>\n",
              "      <td>DEVICE_COST_MONTH_2</td>\n",
              "      <td>0.02%</td>\n",
              "    </tr>\n",
              "    <tr>\n",
              "      <th>23</th>\n",
              "      <td>DEVICE_COST_MONTH_3</td>\n",
              "      <td>0.08%</td>\n",
              "    </tr>\n",
              "    <tr>\n",
              "      <th>24</th>\n",
              "      <td>DEVICE_COST_MONTH_4</td>\n",
              "      <td>0.11%</td>\n",
              "    </tr>\n",
              "    <tr>\n",
              "      <th>25</th>\n",
              "      <td>DEVICE_COST_MONTH_5</td>\n",
              "      <td>0.13%</td>\n",
              "    </tr>\n",
              "    <tr>\n",
              "      <th>26</th>\n",
              "      <td>DEVICE_COST_MONTH_6</td>\n",
              "      <td>0.21%</td>\n",
              "    </tr>\n",
              "    <tr>\n",
              "      <th>27</th>\n",
              "      <td>LINE_ACTIVATION_DATE</td>\n",
              "      <td>8.21%</td>\n",
              "    </tr>\n",
              "    <tr>\n",
              "      <th>28</th>\n",
              "      <td>MONTHS_LAST_DEVICE</td>\n",
              "      <td>23.18%</td>\n",
              "    </tr>\n",
              "    <tr>\n",
              "      <th>29</th>\n",
              "      <td>DURATION_LINE</td>\n",
              "      <td>8.21%</td>\n",
              "    </tr>\n",
              "    <tr>\n",
              "      <th>30</th>\n",
              "      <td>PREVIOUS_DEVICE_MODEL</td>\n",
              "      <td>38.31%</td>\n",
              "    </tr>\n",
              "    <tr>\n",
              "      <th>31</th>\n",
              "      <td>PREVIOUS_DEVICE_MANUF</td>\n",
              "      <td>38.31%</td>\n",
              "    </tr>\n",
              "    <tr>\n",
              "      <th>32</th>\n",
              "      <td>PREVIOUS_DEVICE_BRAND</td>\n",
              "      <td>38.31%</td>\n",
              "    </tr>\n",
              "  </tbody>\n",
              "</table>\n",
              "</div>\n",
              "    <div class=\"colab-df-buttons\">\n",
              "\n",
              "  <div class=\"colab-df-container\">\n",
              "    <button class=\"colab-df-convert\" onclick=\"convertToInteractive('df-abe80723-52b3-4192-aed1-a42160a1a47f')\"\n",
              "            title=\"Convert this dataframe to an interactive table.\"\n",
              "            style=\"display:none;\">\n",
              "\n",
              "  <svg xmlns=\"http://www.w3.org/2000/svg\" height=\"24px\" viewBox=\"0 -960 960 960\">\n",
              "    <path d=\"M120-120v-720h720v720H120Zm60-500h600v-160H180v160Zm220 220h160v-160H400v160Zm0 220h160v-160H400v160ZM180-400h160v-160H180v160Zm440 0h160v-160H620v160ZM180-180h160v-160H180v160Zm440 0h160v-160H620v160Z\"/>\n",
              "  </svg>\n",
              "    </button>\n",
              "\n",
              "  <style>\n",
              "    .colab-df-container {\n",
              "      display:flex;\n",
              "      gap: 12px;\n",
              "    }\n",
              "\n",
              "    .colab-df-convert {\n",
              "      background-color: #E8F0FE;\n",
              "      border: none;\n",
              "      border-radius: 50%;\n",
              "      cursor: pointer;\n",
              "      display: none;\n",
              "      fill: #1967D2;\n",
              "      height: 32px;\n",
              "      padding: 0 0 0 0;\n",
              "      width: 32px;\n",
              "    }\n",
              "\n",
              "    .colab-df-convert:hover {\n",
              "      background-color: #E2EBFA;\n",
              "      box-shadow: 0px 1px 2px rgba(60, 64, 67, 0.3), 0px 1px 3px 1px rgba(60, 64, 67, 0.15);\n",
              "      fill: #174EA6;\n",
              "    }\n",
              "\n",
              "    .colab-df-buttons div {\n",
              "      margin-bottom: 4px;\n",
              "    }\n",
              "\n",
              "    [theme=dark] .colab-df-convert {\n",
              "      background-color: #3B4455;\n",
              "      fill: #D2E3FC;\n",
              "    }\n",
              "\n",
              "    [theme=dark] .colab-df-convert:hover {\n",
              "      background-color: #434B5C;\n",
              "      box-shadow: 0px 1px 3px 1px rgba(0, 0, 0, 0.15);\n",
              "      filter: drop-shadow(0px 1px 2px rgba(0, 0, 0, 0.3));\n",
              "      fill: #FFFFFF;\n",
              "    }\n",
              "  </style>\n",
              "\n",
              "    <script>\n",
              "      const buttonEl =\n",
              "        document.querySelector('#df-abe80723-52b3-4192-aed1-a42160a1a47f button.colab-df-convert');\n",
              "      buttonEl.style.display =\n",
              "        google.colab.kernel.accessAllowed ? 'block' : 'none';\n",
              "\n",
              "      async function convertToInteractive(key) {\n",
              "        const element = document.querySelector('#df-abe80723-52b3-4192-aed1-a42160a1a47f');\n",
              "        const dataTable =\n",
              "          await google.colab.kernel.invokeFunction('convertToInteractive',\n",
              "                                                    [key], {});\n",
              "        if (!dataTable) return;\n",
              "\n",
              "        const docLinkHtml = 'Like what you see? Visit the ' +\n",
              "          '<a target=\"_blank\" href=https://colab.research.google.com/notebooks/data_table.ipynb>data table notebook</a>'\n",
              "          + ' to learn more about interactive tables.';\n",
              "        element.innerHTML = '';\n",
              "        dataTable['output_type'] = 'display_data';\n",
              "        await google.colab.output.renderOutput(dataTable, element);\n",
              "        const docLink = document.createElement('div');\n",
              "        docLink.innerHTML = docLinkHtml;\n",
              "        element.appendChild(docLink);\n",
              "      }\n",
              "    </script>\n",
              "  </div>\n",
              "\n",
              "\n",
              "<div id=\"df-9455fe0a-57f6-431b-bd6c-2f5389e12513\">\n",
              "  <button class=\"colab-df-quickchart\" onclick=\"quickchart('df-9455fe0a-57f6-431b-bd6c-2f5389e12513')\"\n",
              "            title=\"Suggest charts\"\n",
              "            style=\"display:none;\">\n",
              "\n",
              "<svg xmlns=\"http://www.w3.org/2000/svg\" height=\"24px\"viewBox=\"0 0 24 24\"\n",
              "     width=\"24px\">\n",
              "    <g>\n",
              "        <path d=\"M19 3H5c-1.1 0-2 .9-2 2v14c0 1.1.9 2 2 2h14c1.1 0 2-.9 2-2V5c0-1.1-.9-2-2-2zM9 17H7v-7h2v7zm4 0h-2V7h2v10zm4 0h-2v-4h2v4z\"/>\n",
              "    </g>\n",
              "</svg>\n",
              "  </button>\n",
              "\n",
              "<style>\n",
              "  .colab-df-quickchart {\n",
              "      --bg-color: #E8F0FE;\n",
              "      --fill-color: #1967D2;\n",
              "      --hover-bg-color: #E2EBFA;\n",
              "      --hover-fill-color: #174EA6;\n",
              "      --disabled-fill-color: #AAA;\n",
              "      --disabled-bg-color: #DDD;\n",
              "  }\n",
              "\n",
              "  [theme=dark] .colab-df-quickchart {\n",
              "      --bg-color: #3B4455;\n",
              "      --fill-color: #D2E3FC;\n",
              "      --hover-bg-color: #434B5C;\n",
              "      --hover-fill-color: #FFFFFF;\n",
              "      --disabled-bg-color: #3B4455;\n",
              "      --disabled-fill-color: #666;\n",
              "  }\n",
              "\n",
              "  .colab-df-quickchart {\n",
              "    background-color: var(--bg-color);\n",
              "    border: none;\n",
              "    border-radius: 50%;\n",
              "    cursor: pointer;\n",
              "    display: none;\n",
              "    fill: var(--fill-color);\n",
              "    height: 32px;\n",
              "    padding: 0;\n",
              "    width: 32px;\n",
              "  }\n",
              "\n",
              "  .colab-df-quickchart:hover {\n",
              "    background-color: var(--hover-bg-color);\n",
              "    box-shadow: 0 1px 2px rgba(60, 64, 67, 0.3), 0 1px 3px 1px rgba(60, 64, 67, 0.15);\n",
              "    fill: var(--button-hover-fill-color);\n",
              "  }\n",
              "\n",
              "  .colab-df-quickchart-complete:disabled,\n",
              "  .colab-df-quickchart-complete:disabled:hover {\n",
              "    background-color: var(--disabled-bg-color);\n",
              "    fill: var(--disabled-fill-color);\n",
              "    box-shadow: none;\n",
              "  }\n",
              "\n",
              "  .colab-df-spinner {\n",
              "    border: 2px solid var(--fill-color);\n",
              "    border-color: transparent;\n",
              "    border-bottom-color: var(--fill-color);\n",
              "    animation:\n",
              "      spin 1s steps(1) infinite;\n",
              "  }\n",
              "\n",
              "  @keyframes spin {\n",
              "    0% {\n",
              "      border-color: transparent;\n",
              "      border-bottom-color: var(--fill-color);\n",
              "      border-left-color: var(--fill-color);\n",
              "    }\n",
              "    20% {\n",
              "      border-color: transparent;\n",
              "      border-left-color: var(--fill-color);\n",
              "      border-top-color: var(--fill-color);\n",
              "    }\n",
              "    30% {\n",
              "      border-color: transparent;\n",
              "      border-left-color: var(--fill-color);\n",
              "      border-top-color: var(--fill-color);\n",
              "      border-right-color: var(--fill-color);\n",
              "    }\n",
              "    40% {\n",
              "      border-color: transparent;\n",
              "      border-right-color: var(--fill-color);\n",
              "      border-top-color: var(--fill-color);\n",
              "    }\n",
              "    60% {\n",
              "      border-color: transparent;\n",
              "      border-right-color: var(--fill-color);\n",
              "    }\n",
              "    80% {\n",
              "      border-color: transparent;\n",
              "      border-right-color: var(--fill-color);\n",
              "      border-bottom-color: var(--fill-color);\n",
              "    }\n",
              "    90% {\n",
              "      border-color: transparent;\n",
              "      border-bottom-color: var(--fill-color);\n",
              "    }\n",
              "  }\n",
              "</style>\n",
              "\n",
              "  <script>\n",
              "    async function quickchart(key) {\n",
              "      const quickchartButtonEl =\n",
              "        document.querySelector('#' + key + ' button');\n",
              "      quickchartButtonEl.disabled = true;  // To prevent multiple clicks.\n",
              "      quickchartButtonEl.classList.add('colab-df-spinner');\n",
              "      try {\n",
              "        const charts = await google.colab.kernel.invokeFunction(\n",
              "            'suggestCharts', [key], {});\n",
              "      } catch (error) {\n",
              "        console.error('Error during call to suggestCharts:', error);\n",
              "      }\n",
              "      quickchartButtonEl.classList.remove('colab-df-spinner');\n",
              "      quickchartButtonEl.classList.add('colab-df-quickchart-complete');\n",
              "    }\n",
              "    (() => {\n",
              "      let quickchartButtonEl =\n",
              "        document.querySelector('#df-9455fe0a-57f6-431b-bd6c-2f5389e12513 button');\n",
              "      quickchartButtonEl.style.display =\n",
              "        google.colab.kernel.accessAllowed ? 'block' : 'none';\n",
              "    })();\n",
              "  </script>\n",
              "</div>\n",
              "\n",
              "  <div id=\"id_d6defd1a-3f76-41d4-a5cf-92a2e73469b5\">\n",
              "    <style>\n",
              "      .colab-df-generate {\n",
              "        background-color: #E8F0FE;\n",
              "        border: none;\n",
              "        border-radius: 50%;\n",
              "        cursor: pointer;\n",
              "        display: none;\n",
              "        fill: #1967D2;\n",
              "        height: 32px;\n",
              "        padding: 0 0 0 0;\n",
              "        width: 32px;\n",
              "      }\n",
              "\n",
              "      .colab-df-generate:hover {\n",
              "        background-color: #E2EBFA;\n",
              "        box-shadow: 0px 1px 2px rgba(60, 64, 67, 0.3), 0px 1px 3px 1px rgba(60, 64, 67, 0.15);\n",
              "        fill: #174EA6;\n",
              "      }\n",
              "\n",
              "      [theme=dark] .colab-df-generate {\n",
              "        background-color: #3B4455;\n",
              "        fill: #D2E3FC;\n",
              "      }\n",
              "\n",
              "      [theme=dark] .colab-df-generate:hover {\n",
              "        background-color: #434B5C;\n",
              "        box-shadow: 0px 1px 3px 1px rgba(0, 0, 0, 0.15);\n",
              "        filter: drop-shadow(0px 1px 2px rgba(0, 0, 0, 0.3));\n",
              "        fill: #FFFFFF;\n",
              "      }\n",
              "    </style>\n",
              "    <button class=\"colab-df-generate\" onclick=\"generateWithVariable('nan_columns')\"\n",
              "            title=\"Generate code using this dataframe.\"\n",
              "            style=\"display:none;\">\n",
              "\n",
              "  <svg xmlns=\"http://www.w3.org/2000/svg\" height=\"24px\"viewBox=\"0 0 24 24\"\n",
              "       width=\"24px\">\n",
              "    <path d=\"M7,19H8.4L18.45,9,17,7.55,7,17.6ZM5,21V16.75L18.45,3.32a2,2,0,0,1,2.83,0l1.4,1.43a1.91,1.91,0,0,1,.58,1.4,1.91,1.91,0,0,1-.58,1.4L9.25,21ZM18.45,9,17,7.55Zm-12,3A5.31,5.31,0,0,0,4.9,8.1,5.31,5.31,0,0,0,1,6.5,5.31,5.31,0,0,0,4.9,4.9,5.31,5.31,0,0,0,6.5,1,5.31,5.31,0,0,0,8.1,4.9,5.31,5.31,0,0,0,12,6.5,5.46,5.46,0,0,0,6.5,12Z\"/>\n",
              "  </svg>\n",
              "    </button>\n",
              "    <script>\n",
              "      (() => {\n",
              "      const buttonEl =\n",
              "        document.querySelector('#id_d6defd1a-3f76-41d4-a5cf-92a2e73469b5 button.colab-df-generate');\n",
              "      buttonEl.style.display =\n",
              "        google.colab.kernel.accessAllowed ? 'block' : 'none';\n",
              "\n",
              "      buttonEl.onclick = () => {\n",
              "        google.colab.notebook.generateWithVariable('nan_columns');\n",
              "      }\n",
              "      })();\n",
              "    </script>\n",
              "  </div>\n",
              "\n",
              "    </div>\n",
              "  </div>\n"
            ],
            "application/vnd.google.colaboratory.intrinsic+json": {
              "type": "dataframe",
              "variable_name": "nan_columns",
              "summary": "{\n  \"name\": \"nan_columns\",\n  \"rows\": 33,\n  \"fields\": [\n    {\n      \"column\": \"Column Name\",\n      \"properties\": {\n        \"dtype\": \"string\",\n        \"num_unique_values\": 33,\n        \"samples\": [\n          \"PREVIOUS_DEVICE_MANUF\",\n          \"BILLING_MONTH_1\",\n          \"DEVICE_COST_MONTH_6\"\n        ],\n        \"semantic_type\": \"\",\n        \"description\": \"\"\n      }\n    },\n    {\n      \"column\": \"Percentage of NaN Values\",\n      \"properties\": {\n        \"dtype\": \"string\",\n        \"num_unique_values\": 17,\n        \"samples\": [\n          \"1.47%\",\n          \"3.10%\",\n          \"11.54%\"\n        ],\n        \"semantic_type\": \"\",\n        \"description\": \"\"\n      }\n    }\n  ]\n}"
            }
          },
          "metadata": {},
          "execution_count": 8
        }
      ]
    },
    {
      "cell_type": "markdown",
      "metadata": {
        "id": "m93vtmZsKCd4"
      },
      "source": [
        "The way **NaNs** are managed varies according to the meaning of each variable. In some occasions, registers should be removed, filled with other columns or calculated (imputed).\n",
        "\n",
        "* To delete all rows containing a null value, we can use [dropna](https://pandas.pydata.org/pandas-docs/stable/reference/api/pandas.DataFrame.dropna.html)\n",
        "* To replace null values, we can use [fillna](https://pandas.pydata.org/pandas-docs/stable/reference/api/pandas.DataFrame.fillna.html)\n",
        "\n",
        "Please note that these steps should be applied sequentially, i.e., the output of one step should be fed into the next step. You can do, for instance: `df02 = df01.operation(...)` followed by `df03 = df02.operation(...)` and so on.\n",
        "\n",
        "<font size=\"-1\" color=\"gray\">(Remove this cell when delivering.)</font>"
      ]
    },
    {
      "cell_type": "markdown",
      "metadata": {
        "id": "0y65cw_sKCd4"
      },
      "source": [
        "<font size=\"+1\" color=\"red\">If there is no **PURCHASED\\_DEVICE**, **DEVICE\\_VALUE**, or **PREVIOUS\\_DEVICE\\_MODEL**, the row is useless to us. Replace this cell with code to remove those rows.</font>"
      ]
    },
    {
      "cell_type": "code",
      "source": [
        "# Remove rows with NaN in the specified columns\n",
        "cleaned_dataset_1 = input_dataset.dropna(subset=['PURCHASED_DEVICE', 'DEVICE_VALUE', 'PREVIOUS_DEVICE_MODEL'])\n",
        "#Print the shape of previous dataset and the cleaned dataset\n",
        "print(\"Original dataset shape:\", input_dataset.shape)\n",
        "print(\"Cleaned_dataset_1 shape:\", cleaned_dataset_1.shape)"
      ],
      "metadata": {
        "colab": {
          "base_uri": "https://localhost:8080/"
        },
        "id": "Y9DqgXnyXdID",
        "outputId": "41baeada-19ad-4a3f-df39-7c409b5cfbda"
      },
      "execution_count": null,
      "outputs": [
        {
          "output_type": "stream",
          "name": "stdout",
          "text": [
            "Original dataset shape: (10000, 33)\n",
            "Cleaned_dataset_1 shape: (5988, 33)\n"
          ]
        }
      ]
    },
    {
      "cell_type": "markdown",
      "metadata": {
        "id": "MZjUCE3sKCd4"
      },
      "source": [
        "<font size=\"+1\" color=\"red\">Any NaN value in **DATA\\_TRAFFIC\\_MONTH\\_(1..6)**, **VOICE\\_TRAFFIC\\_MONTH_(1..6)**, **BILLING\\_MONTH_(1..6)**, or **DEVICE\\_COST\\_MONTH\\_(1..6)** should be assumed to be 0. Replace this cell with code to do that imputation.</font>"
      ]
    },
    {
      "cell_type": "code",
      "source": [
        "# Define the columns that need NaN imputation\n",
        "columns_to_impute = [\n",
        "    'DATA_TRAFFIC_MONTH_1', 'DATA_TRAFFIC_MONTH_2', 'DATA_TRAFFIC_MONTH_3',\n",
        "    'DATA_TRAFFIC_MONTH_4', 'DATA_TRAFFIC_MONTH_5', 'DATA_TRAFFIC_MONTH_6',\n",
        "    'VOICE_TRAFFIC_MONTH_1', 'VOICE_TRAFFIC_MONTH_2', 'VOICE_TRAFFIC_MONTH_3',\n",
        "    'VOICE_TRAFFIC_MONTH_4', 'VOICE_TRAFFIC_MONTH_5', 'VOICE_TRAFFIC_MONTH_6',\n",
        "    'BILLING_MONTH_1', 'BILLING_MONTH_2', 'BILLING_MONTH_3',\n",
        "    'BILLING_MONTH_4', 'BILLING_MONTH_5', 'BILLING_MONTH_6',\n",
        "    'DEVICE_COST_MONTH_1', 'DEVICE_COST_MONTH_2', 'DEVICE_COST_MONTH_3',\n",
        "    'DEVICE_COST_MONTH_4', 'DEVICE_COST_MONTH_5', 'DEVICE_COST_MONTH_6'\n",
        "]\n",
        "\n",
        "# Fill NaN values with 0 in the specified columns\n",
        "cleaned_dataset_2=cleaned_dataset_1.copy()\n",
        "cleaned_dataset_2[columns_to_impute] = cleaned_dataset_2[columns_to_impute].fillna(0.00)\n",
        "cleaned_dataset_2[columns_to_impute].head()"
      ],
      "metadata": {
        "colab": {
          "base_uri": "https://localhost:8080/",
          "height": 255
        },
        "id": "slQK0oL2Xyax",
        "outputId": "95cdb995-9bd9-4659-a906-306653dc5bea"
      },
      "execution_count": null,
      "outputs": [
        {
          "output_type": "execute_result",
          "data": {
            "text/plain": [
              "   DATA_TRAFFIC_MONTH_1  DATA_TRAFFIC_MONTH_2  DATA_TRAFFIC_MONTH_3  \\\n",
              "0                465.25                530.81                530.81   \n",
              "1                232.24                272.26                272.26   \n",
              "2                484.62                264.14                264.14   \n",
              "3               4255.46                836.12                836.12   \n",
              "4               5014.10               2659.05               2659.05   \n",
              "\n",
              "   DATA_TRAFFIC_MONTH_4  DATA_TRAFFIC_MONTH_5  DATA_TRAFFIC_MONTH_6  \\\n",
              "0                781.13                398.99               1169.40   \n",
              "1                704.89                412.72                365.14   \n",
              "2                348.50                380.44                250.74   \n",
              "3                691.56                146.77                302.49   \n",
              "4               2435.04               2053.98               1553.12   \n",
              "\n",
              "   VOICE_TRAFFIC_MONTH_1  VOICE_TRAFFIC_MONTH_2  VOICE_TRAFFIC_MONTH_3  \\\n",
              "0                  47.50                  21.80                  21.80   \n",
              "1                   3.70                   0.50                   0.50   \n",
              "2                  26.10                 218.70                 218.70   \n",
              "3                 175.70                 216.30                 216.30   \n",
              "4                 383.90                   0.00                   0.00   \n",
              "\n",
              "   VOICE_TRAFFIC_MONTH_4  ...  BILLING_MONTH_3  BILLING_MONTH_4  \\\n",
              "0                  30.00  ...            86.05            88.65   \n",
              "1                   4.70  ...            47.00            47.73   \n",
              "2                  56.80  ...           129.14           122.64   \n",
              "3                 153.30  ...            58.00            60.93   \n",
              "4                   0.00  ...           110.69           110.15   \n",
              "\n",
              "   BILLING_MONTH_5  BILLING_MONTH_6  DEVICE_COST_MONTH_1  DEVICE_COST_MONTH_2  \\\n",
              "0            85.00           103.35                12.00                12.00   \n",
              "1            50.80            56.56                 0.00                 0.00   \n",
              "2           115.02           128.04                 0.00                 0.00   \n",
              "3            55.99            55.99                 6.00                 6.00   \n",
              "4           107.99           107.99                 0.00                 0.00   \n",
              "\n",
              "   DEVICE_COST_MONTH_3  DEVICE_COST_MONTH_4  DEVICE_COST_MONTH_5  \\\n",
              "0                12.00                12.00                12.00   \n",
              "1                 0.00                 0.00                 0.00   \n",
              "2                 0.00                 0.00                 0.00   \n",
              "3                 6.00                 6.00                 6.00   \n",
              "4                 0.00                 0.00                 0.00   \n",
              "\n",
              "   DEVICE_COST_MONTH_6  \n",
              "0                12.00  \n",
              "1                 0.00  \n",
              "2                 0.00  \n",
              "3                 6.00  \n",
              "4                 0.00  \n",
              "\n",
              "[5 rows x 24 columns]"
            ],
            "text/html": [
              "\n",
              "  <div id=\"df-271d2d22-2949-4706-b698-500ae64f2411\" class=\"colab-df-container\">\n",
              "    <div>\n",
              "<style scoped>\n",
              "    .dataframe tbody tr th:only-of-type {\n",
              "        vertical-align: middle;\n",
              "    }\n",
              "\n",
              "    .dataframe tbody tr th {\n",
              "        vertical-align: top;\n",
              "    }\n",
              "\n",
              "    .dataframe thead th {\n",
              "        text-align: right;\n",
              "    }\n",
              "</style>\n",
              "<table border=\"1\" class=\"dataframe\">\n",
              "  <thead>\n",
              "    <tr style=\"text-align: right;\">\n",
              "      <th></th>\n",
              "      <th>DATA_TRAFFIC_MONTH_1</th>\n",
              "      <th>DATA_TRAFFIC_MONTH_2</th>\n",
              "      <th>DATA_TRAFFIC_MONTH_3</th>\n",
              "      <th>DATA_TRAFFIC_MONTH_4</th>\n",
              "      <th>DATA_TRAFFIC_MONTH_5</th>\n",
              "      <th>DATA_TRAFFIC_MONTH_6</th>\n",
              "      <th>VOICE_TRAFFIC_MONTH_1</th>\n",
              "      <th>VOICE_TRAFFIC_MONTH_2</th>\n",
              "      <th>VOICE_TRAFFIC_MONTH_3</th>\n",
              "      <th>VOICE_TRAFFIC_MONTH_4</th>\n",
              "      <th>...</th>\n",
              "      <th>BILLING_MONTH_3</th>\n",
              "      <th>BILLING_MONTH_4</th>\n",
              "      <th>BILLING_MONTH_5</th>\n",
              "      <th>BILLING_MONTH_6</th>\n",
              "      <th>DEVICE_COST_MONTH_1</th>\n",
              "      <th>DEVICE_COST_MONTH_2</th>\n",
              "      <th>DEVICE_COST_MONTH_3</th>\n",
              "      <th>DEVICE_COST_MONTH_4</th>\n",
              "      <th>DEVICE_COST_MONTH_5</th>\n",
              "      <th>DEVICE_COST_MONTH_6</th>\n",
              "    </tr>\n",
              "  </thead>\n",
              "  <tbody>\n",
              "    <tr>\n",
              "      <th>0</th>\n",
              "      <td>465.25</td>\n",
              "      <td>530.81</td>\n",
              "      <td>530.81</td>\n",
              "      <td>781.13</td>\n",
              "      <td>398.99</td>\n",
              "      <td>1169.40</td>\n",
              "      <td>47.50</td>\n",
              "      <td>21.80</td>\n",
              "      <td>21.80</td>\n",
              "      <td>30.00</td>\n",
              "      <td>...</td>\n",
              "      <td>86.05</td>\n",
              "      <td>88.65</td>\n",
              "      <td>85.00</td>\n",
              "      <td>103.35</td>\n",
              "      <td>12.00</td>\n",
              "      <td>12.00</td>\n",
              "      <td>12.00</td>\n",
              "      <td>12.00</td>\n",
              "      <td>12.00</td>\n",
              "      <td>12.00</td>\n",
              "    </tr>\n",
              "    <tr>\n",
              "      <th>1</th>\n",
              "      <td>232.24</td>\n",
              "      <td>272.26</td>\n",
              "      <td>272.26</td>\n",
              "      <td>704.89</td>\n",
              "      <td>412.72</td>\n",
              "      <td>365.14</td>\n",
              "      <td>3.70</td>\n",
              "      <td>0.50</td>\n",
              "      <td>0.50</td>\n",
              "      <td>4.70</td>\n",
              "      <td>...</td>\n",
              "      <td>47.00</td>\n",
              "      <td>47.73</td>\n",
              "      <td>50.80</td>\n",
              "      <td>56.56</td>\n",
              "      <td>0.00</td>\n",
              "      <td>0.00</td>\n",
              "      <td>0.00</td>\n",
              "      <td>0.00</td>\n",
              "      <td>0.00</td>\n",
              "      <td>0.00</td>\n",
              "    </tr>\n",
              "    <tr>\n",
              "      <th>2</th>\n",
              "      <td>484.62</td>\n",
              "      <td>264.14</td>\n",
              "      <td>264.14</td>\n",
              "      <td>348.50</td>\n",
              "      <td>380.44</td>\n",
              "      <td>250.74</td>\n",
              "      <td>26.10</td>\n",
              "      <td>218.70</td>\n",
              "      <td>218.70</td>\n",
              "      <td>56.80</td>\n",
              "      <td>...</td>\n",
              "      <td>129.14</td>\n",
              "      <td>122.64</td>\n",
              "      <td>115.02</td>\n",
              "      <td>128.04</td>\n",
              "      <td>0.00</td>\n",
              "      <td>0.00</td>\n",
              "      <td>0.00</td>\n",
              "      <td>0.00</td>\n",
              "      <td>0.00</td>\n",
              "      <td>0.00</td>\n",
              "    </tr>\n",
              "    <tr>\n",
              "      <th>3</th>\n",
              "      <td>4255.46</td>\n",
              "      <td>836.12</td>\n",
              "      <td>836.12</td>\n",
              "      <td>691.56</td>\n",
              "      <td>146.77</td>\n",
              "      <td>302.49</td>\n",
              "      <td>175.70</td>\n",
              "      <td>216.30</td>\n",
              "      <td>216.30</td>\n",
              "      <td>153.30</td>\n",
              "      <td>...</td>\n",
              "      <td>58.00</td>\n",
              "      <td>60.93</td>\n",
              "      <td>55.99</td>\n",
              "      <td>55.99</td>\n",
              "      <td>6.00</td>\n",
              "      <td>6.00</td>\n",
              "      <td>6.00</td>\n",
              "      <td>6.00</td>\n",
              "      <td>6.00</td>\n",
              "      <td>6.00</td>\n",
              "    </tr>\n",
              "    <tr>\n",
              "      <th>4</th>\n",
              "      <td>5014.10</td>\n",
              "      <td>2659.05</td>\n",
              "      <td>2659.05</td>\n",
              "      <td>2435.04</td>\n",
              "      <td>2053.98</td>\n",
              "      <td>1553.12</td>\n",
              "      <td>383.90</td>\n",
              "      <td>0.00</td>\n",
              "      <td>0.00</td>\n",
              "      <td>0.00</td>\n",
              "      <td>...</td>\n",
              "      <td>110.69</td>\n",
              "      <td>110.15</td>\n",
              "      <td>107.99</td>\n",
              "      <td>107.99</td>\n",
              "      <td>0.00</td>\n",
              "      <td>0.00</td>\n",
              "      <td>0.00</td>\n",
              "      <td>0.00</td>\n",
              "      <td>0.00</td>\n",
              "      <td>0.00</td>\n",
              "    </tr>\n",
              "  </tbody>\n",
              "</table>\n",
              "<p>5 rows × 24 columns</p>\n",
              "</div>\n",
              "    <div class=\"colab-df-buttons\">\n",
              "\n",
              "  <div class=\"colab-df-container\">\n",
              "    <button class=\"colab-df-convert\" onclick=\"convertToInteractive('df-271d2d22-2949-4706-b698-500ae64f2411')\"\n",
              "            title=\"Convert this dataframe to an interactive table.\"\n",
              "            style=\"display:none;\">\n",
              "\n",
              "  <svg xmlns=\"http://www.w3.org/2000/svg\" height=\"24px\" viewBox=\"0 -960 960 960\">\n",
              "    <path d=\"M120-120v-720h720v720H120Zm60-500h600v-160H180v160Zm220 220h160v-160H400v160Zm0 220h160v-160H400v160ZM180-400h160v-160H180v160Zm440 0h160v-160H620v160ZM180-180h160v-160H180v160Zm440 0h160v-160H620v160Z\"/>\n",
              "  </svg>\n",
              "    </button>\n",
              "\n",
              "  <style>\n",
              "    .colab-df-container {\n",
              "      display:flex;\n",
              "      gap: 12px;\n",
              "    }\n",
              "\n",
              "    .colab-df-convert {\n",
              "      background-color: #E8F0FE;\n",
              "      border: none;\n",
              "      border-radius: 50%;\n",
              "      cursor: pointer;\n",
              "      display: none;\n",
              "      fill: #1967D2;\n",
              "      height: 32px;\n",
              "      padding: 0 0 0 0;\n",
              "      width: 32px;\n",
              "    }\n",
              "\n",
              "    .colab-df-convert:hover {\n",
              "      background-color: #E2EBFA;\n",
              "      box-shadow: 0px 1px 2px rgba(60, 64, 67, 0.3), 0px 1px 3px 1px rgba(60, 64, 67, 0.15);\n",
              "      fill: #174EA6;\n",
              "    }\n",
              "\n",
              "    .colab-df-buttons div {\n",
              "      margin-bottom: 4px;\n",
              "    }\n",
              "\n",
              "    [theme=dark] .colab-df-convert {\n",
              "      background-color: #3B4455;\n",
              "      fill: #D2E3FC;\n",
              "    }\n",
              "\n",
              "    [theme=dark] .colab-df-convert:hover {\n",
              "      background-color: #434B5C;\n",
              "      box-shadow: 0px 1px 3px 1px rgba(0, 0, 0, 0.15);\n",
              "      filter: drop-shadow(0px 1px 2px rgba(0, 0, 0, 0.3));\n",
              "      fill: #FFFFFF;\n",
              "    }\n",
              "  </style>\n",
              "\n",
              "    <script>\n",
              "      const buttonEl =\n",
              "        document.querySelector('#df-271d2d22-2949-4706-b698-500ae64f2411 button.colab-df-convert');\n",
              "      buttonEl.style.display =\n",
              "        google.colab.kernel.accessAllowed ? 'block' : 'none';\n",
              "\n",
              "      async function convertToInteractive(key) {\n",
              "        const element = document.querySelector('#df-271d2d22-2949-4706-b698-500ae64f2411');\n",
              "        const dataTable =\n",
              "          await google.colab.kernel.invokeFunction('convertToInteractive',\n",
              "                                                    [key], {});\n",
              "        if (!dataTable) return;\n",
              "\n",
              "        const docLinkHtml = 'Like what you see? Visit the ' +\n",
              "          '<a target=\"_blank\" href=https://colab.research.google.com/notebooks/data_table.ipynb>data table notebook</a>'\n",
              "          + ' to learn more about interactive tables.';\n",
              "        element.innerHTML = '';\n",
              "        dataTable['output_type'] = 'display_data';\n",
              "        await google.colab.output.renderOutput(dataTable, element);\n",
              "        const docLink = document.createElement('div');\n",
              "        docLink.innerHTML = docLinkHtml;\n",
              "        element.appendChild(docLink);\n",
              "      }\n",
              "    </script>\n",
              "  </div>\n",
              "\n",
              "\n",
              "<div id=\"df-59e6b044-bde8-459c-ab30-889e26433f29\">\n",
              "  <button class=\"colab-df-quickchart\" onclick=\"quickchart('df-59e6b044-bde8-459c-ab30-889e26433f29')\"\n",
              "            title=\"Suggest charts\"\n",
              "            style=\"display:none;\">\n",
              "\n",
              "<svg xmlns=\"http://www.w3.org/2000/svg\" height=\"24px\"viewBox=\"0 0 24 24\"\n",
              "     width=\"24px\">\n",
              "    <g>\n",
              "        <path d=\"M19 3H5c-1.1 0-2 .9-2 2v14c0 1.1.9 2 2 2h14c1.1 0 2-.9 2-2V5c0-1.1-.9-2-2-2zM9 17H7v-7h2v7zm4 0h-2V7h2v10zm4 0h-2v-4h2v4z\"/>\n",
              "    </g>\n",
              "</svg>\n",
              "  </button>\n",
              "\n",
              "<style>\n",
              "  .colab-df-quickchart {\n",
              "      --bg-color: #E8F0FE;\n",
              "      --fill-color: #1967D2;\n",
              "      --hover-bg-color: #E2EBFA;\n",
              "      --hover-fill-color: #174EA6;\n",
              "      --disabled-fill-color: #AAA;\n",
              "      --disabled-bg-color: #DDD;\n",
              "  }\n",
              "\n",
              "  [theme=dark] .colab-df-quickchart {\n",
              "      --bg-color: #3B4455;\n",
              "      --fill-color: #D2E3FC;\n",
              "      --hover-bg-color: #434B5C;\n",
              "      --hover-fill-color: #FFFFFF;\n",
              "      --disabled-bg-color: #3B4455;\n",
              "      --disabled-fill-color: #666;\n",
              "  }\n",
              "\n",
              "  .colab-df-quickchart {\n",
              "    background-color: var(--bg-color);\n",
              "    border: none;\n",
              "    border-radius: 50%;\n",
              "    cursor: pointer;\n",
              "    display: none;\n",
              "    fill: var(--fill-color);\n",
              "    height: 32px;\n",
              "    padding: 0;\n",
              "    width: 32px;\n",
              "  }\n",
              "\n",
              "  .colab-df-quickchart:hover {\n",
              "    background-color: var(--hover-bg-color);\n",
              "    box-shadow: 0 1px 2px rgba(60, 64, 67, 0.3), 0 1px 3px 1px rgba(60, 64, 67, 0.15);\n",
              "    fill: var(--button-hover-fill-color);\n",
              "  }\n",
              "\n",
              "  .colab-df-quickchart-complete:disabled,\n",
              "  .colab-df-quickchart-complete:disabled:hover {\n",
              "    background-color: var(--disabled-bg-color);\n",
              "    fill: var(--disabled-fill-color);\n",
              "    box-shadow: none;\n",
              "  }\n",
              "\n",
              "  .colab-df-spinner {\n",
              "    border: 2px solid var(--fill-color);\n",
              "    border-color: transparent;\n",
              "    border-bottom-color: var(--fill-color);\n",
              "    animation:\n",
              "      spin 1s steps(1) infinite;\n",
              "  }\n",
              "\n",
              "  @keyframes spin {\n",
              "    0% {\n",
              "      border-color: transparent;\n",
              "      border-bottom-color: var(--fill-color);\n",
              "      border-left-color: var(--fill-color);\n",
              "    }\n",
              "    20% {\n",
              "      border-color: transparent;\n",
              "      border-left-color: var(--fill-color);\n",
              "      border-top-color: var(--fill-color);\n",
              "    }\n",
              "    30% {\n",
              "      border-color: transparent;\n",
              "      border-left-color: var(--fill-color);\n",
              "      border-top-color: var(--fill-color);\n",
              "      border-right-color: var(--fill-color);\n",
              "    }\n",
              "    40% {\n",
              "      border-color: transparent;\n",
              "      border-right-color: var(--fill-color);\n",
              "      border-top-color: var(--fill-color);\n",
              "    }\n",
              "    60% {\n",
              "      border-color: transparent;\n",
              "      border-right-color: var(--fill-color);\n",
              "    }\n",
              "    80% {\n",
              "      border-color: transparent;\n",
              "      border-right-color: var(--fill-color);\n",
              "      border-bottom-color: var(--fill-color);\n",
              "    }\n",
              "    90% {\n",
              "      border-color: transparent;\n",
              "      border-bottom-color: var(--fill-color);\n",
              "    }\n",
              "  }\n",
              "</style>\n",
              "\n",
              "  <script>\n",
              "    async function quickchart(key) {\n",
              "      const quickchartButtonEl =\n",
              "        document.querySelector('#' + key + ' button');\n",
              "      quickchartButtonEl.disabled = true;  // To prevent multiple clicks.\n",
              "      quickchartButtonEl.classList.add('colab-df-spinner');\n",
              "      try {\n",
              "        const charts = await google.colab.kernel.invokeFunction(\n",
              "            'suggestCharts', [key], {});\n",
              "      } catch (error) {\n",
              "        console.error('Error during call to suggestCharts:', error);\n",
              "      }\n",
              "      quickchartButtonEl.classList.remove('colab-df-spinner');\n",
              "      quickchartButtonEl.classList.add('colab-df-quickchart-complete');\n",
              "    }\n",
              "    (() => {\n",
              "      let quickchartButtonEl =\n",
              "        document.querySelector('#df-59e6b044-bde8-459c-ab30-889e26433f29 button');\n",
              "      quickchartButtonEl.style.display =\n",
              "        google.colab.kernel.accessAllowed ? 'block' : 'none';\n",
              "    })();\n",
              "  </script>\n",
              "</div>\n",
              "\n",
              "    </div>\n",
              "  </div>\n"
            ],
            "application/vnd.google.colaboratory.intrinsic+json": {
              "type": "dataframe"
            }
          },
          "metadata": {},
          "execution_count": 10
        }
      ]
    },
    {
      "cell_type": "markdown",
      "metadata": {
        "id": "4YEBSzXAKCd4"
      },
      "source": [
        "<font size=\"+1\" color=\"red\">If there is no **LINE\\_ACTIVATION\\_DATE**, we will assume it is equal to **LAST\\_DEVICE\\_CHANGE**. Replace this cell with code to do that imputation.</font>"
      ]
    },
    {
      "cell_type": "code",
      "source": [
        "# Impute LINE_ACTIVATION_DATE with LAST_DEVICE_CHANGE where it is NaN\n",
        "cleaned_dataset_3=cleaned_dataset_2.copy()\n",
        "cleaned_dataset_3['LINE_ACTIVATION_DATE'].fillna(cleaned_dataset_3['LAST_DEVICE_CHANGE'])"
      ],
      "metadata": {
        "id": "KbH0mpKjYZjz",
        "colab": {
          "base_uri": "https://localhost:8080/",
          "height": 458
        },
        "outputId": "0fa6eb6d-0530-4780-ed7e-7b02a311f36e"
      },
      "execution_count": null,
      "outputs": [
        {
          "output_type": "execute_result",
          "data": {
            "text/plain": [
              "0      20041220.00\n",
              "1      20170405.00\n",
              "2      20040412.00\n",
              "3      20110825.00\n",
              "4      20140617.00\n",
              "           ...    \n",
              "9994   20150622.00\n",
              "9995   20170419.00\n",
              "9996   20130326.00\n",
              "9997   20110214.00\n",
              "9999   20110214.00\n",
              "Name: LINE_ACTIVATION_DATE, Length: 5988, dtype: float64"
            ],
            "text/html": [
              "<div>\n",
              "<style scoped>\n",
              "    .dataframe tbody tr th:only-of-type {\n",
              "        vertical-align: middle;\n",
              "    }\n",
              "\n",
              "    .dataframe tbody tr th {\n",
              "        vertical-align: top;\n",
              "    }\n",
              "\n",
              "    .dataframe thead th {\n",
              "        text-align: right;\n",
              "    }\n",
              "</style>\n",
              "<table border=\"1\" class=\"dataframe\">\n",
              "  <thead>\n",
              "    <tr style=\"text-align: right;\">\n",
              "      <th></th>\n",
              "      <th>LINE_ACTIVATION_DATE</th>\n",
              "    </tr>\n",
              "  </thead>\n",
              "  <tbody>\n",
              "    <tr>\n",
              "      <th>0</th>\n",
              "      <td>20041220.00</td>\n",
              "    </tr>\n",
              "    <tr>\n",
              "      <th>1</th>\n",
              "      <td>20170405.00</td>\n",
              "    </tr>\n",
              "    <tr>\n",
              "      <th>2</th>\n",
              "      <td>20040412.00</td>\n",
              "    </tr>\n",
              "    <tr>\n",
              "      <th>3</th>\n",
              "      <td>20110825.00</td>\n",
              "    </tr>\n",
              "    <tr>\n",
              "      <th>4</th>\n",
              "      <td>20140617.00</td>\n",
              "    </tr>\n",
              "    <tr>\n",
              "      <th>...</th>\n",
              "      <td>...</td>\n",
              "    </tr>\n",
              "    <tr>\n",
              "      <th>9994</th>\n",
              "      <td>20150622.00</td>\n",
              "    </tr>\n",
              "    <tr>\n",
              "      <th>9995</th>\n",
              "      <td>20170419.00</td>\n",
              "    </tr>\n",
              "    <tr>\n",
              "      <th>9996</th>\n",
              "      <td>20130326.00</td>\n",
              "    </tr>\n",
              "    <tr>\n",
              "      <th>9997</th>\n",
              "      <td>20110214.00</td>\n",
              "    </tr>\n",
              "    <tr>\n",
              "      <th>9999</th>\n",
              "      <td>20110214.00</td>\n",
              "    </tr>\n",
              "  </tbody>\n",
              "</table>\n",
              "<p>5988 rows × 1 columns</p>\n",
              "</div><br><label><b>dtype:</b> float64</label>"
            ]
          },
          "metadata": {},
          "execution_count": 11
        }
      ]
    },
    {
      "cell_type": "markdown",
      "metadata": {
        "id": "HbZPNWn3KCd4"
      },
      "source": [
        "<font size=\"+1\" color=\"red\">Replace this cell with code to print the header and the first five rows after this processing</font>"
      ]
    },
    {
      "cell_type": "code",
      "source": [
        "print(cleaned_dataset_3.head())"
      ],
      "metadata": {
        "colab": {
          "base_uri": "https://localhost:8080/"
        },
        "id": "w1lEDmvFctxf",
        "outputId": "63b6ff9c-0eff-47e8-de24-55716c681199"
      },
      "execution_count": null,
      "outputs": [
        {
          "output_type": "stream",
          "name": "stdout",
          "text": [
            "                                    PURCHASED_DEVICE  DEVICE_VALUE  \\\n",
            "0  TGLG29162000_LG X210BMW SMARTPHONE PRETO PPB/P...        393.00   \n",
            "1  TGLG29162000_LG X210BMW SMARTPHONE PRETO PPB/P...        345.00   \n",
            "2     TGMO35912000_MOTOROLA XT1922 SMARTPHONE INDIGO        875.00   \n",
            "3  TGLG29162000_LG X210BMW SMARTPHONE PRETO PPB/P...        345.00   \n",
            "4     TGMO35912000_MOTOROLA XT1922 SMARTPHONE INDIGO        609.00   \n",
            "\n",
            "   LAST_DEVICE_CHANGE  DATA_TRAFFIC_MONTH_1  DATA_TRAFFIC_MONTH_2  \\\n",
            "0                 NaN                465.25                530.81   \n",
            "1         20170401.00                232.24                272.26   \n",
            "2                 NaN                484.62                264.14   \n",
            "3         20171001.00               4255.46                836.12   \n",
            "4         20190101.00               5014.10               2659.05   \n",
            "\n",
            "   DATA_TRAFFIC_MONTH_3  DATA_TRAFFIC_MONTH_4  DATA_TRAFFIC_MONTH_5  \\\n",
            "0                530.81                781.13                398.99   \n",
            "1                272.26                704.89                412.72   \n",
            "2                264.14                348.50                380.44   \n",
            "3                836.12                691.56                146.77   \n",
            "4               2659.05               2435.04               2053.98   \n",
            "\n",
            "   DATA_TRAFFIC_MONTH_6  VOICE_TRAFFIC_MONTH_1  ...  DEVICE_COST_MONTH_3  \\\n",
            "0               1169.40                  47.50  ...                12.00   \n",
            "1                365.14                   3.70  ...                 0.00   \n",
            "2                250.74                  26.10  ...                 0.00   \n",
            "3                302.49                 175.70  ...                 6.00   \n",
            "4               1553.12                 383.90  ...                 0.00   \n",
            "\n",
            "   DEVICE_COST_MONTH_4  DEVICE_COST_MONTH_5  DEVICE_COST_MONTH_6  \\\n",
            "0                12.00                12.00                12.00   \n",
            "1                 0.00                 0.00                 0.00   \n",
            "2                 0.00                 0.00                 0.00   \n",
            "3                 6.00                 6.00                 6.00   \n",
            "4                 0.00                 0.00                 0.00   \n",
            "\n",
            "   LINE_ACTIVATION_DATE  MONTHS_LAST_DEVICE  DURATION_LINE  \\\n",
            "0           20041220.00                 NaN         172.00   \n",
            "1           20170405.00               20.00          20.00   \n",
            "2           20040412.00                 NaN         176.00   \n",
            "3           20110825.00               14.00          88.00   \n",
            "4           20140617.00               -1.00          54.00   \n",
            "\n",
            "    PREVIOUS_DEVICE_MODEL                    PREVIOUS_DEVICE_MANUF  \\\n",
            "0            Moto G4 Plus  Motorola Mobility LLC, a Lenovo Company   \n",
            "1  Samsung Galaxy J1 Mini                            Samsung Korea   \n",
            "2     Moto E (2ª Geração)  Motorola Mobility LLC, a Lenovo Company   \n",
            "3                iPhone 6                                Apple Inc   \n",
            "4                  K10a40  Motorola Mobility LLC, a Lenovo Company   \n",
            "\n",
            "   PREVIOUS_DEVICE_BRAND  \n",
            "0               Motorola  \n",
            "1                Samsung  \n",
            "2               Motorola  \n",
            "3                  Apple  \n",
            "4                 Outros  \n",
            "\n",
            "[5 rows x 33 columns]\n"
          ]
        }
      ]
    },
    {
      "cell_type": "markdown",
      "metadata": {
        "id": "pd9VKHpkKCd5"
      },
      "source": [
        "If `df` is a dataframe, `df.shape` contains a tuple with the number of rows and the number of columns of the data frame. You should now print something like this:\n",
        "\n",
        "```\n",
        "Rows in the original dataset: M\n",
        "Rows in the new dataset: N ((100*(M-N)/M)% less)\n",
        "```\n",
        "\n",
        "<font size=\"-1\" color=\"gray\">(Remove this cell when delivering.)</font>"
      ]
    },
    {
      "cell_type": "markdown",
      "metadata": {
        "id": "yuuRcl83KCd5"
      },
      "source": [
        "<font size=\"+1\" color=\"red\">Replace this cell with code to print the number of rows of the original dataset, the number of rows of the new dataset, and the percentage of rows that were dropped, as well as the names of the columns that still contain NaN values, if any.</font>"
      ]
    },
    {
      "cell_type": "code",
      "source": [
        "# Store the original number of rows\n",
        "original_row_size = input_dataset.shape[0]\n",
        "\n",
        "#Store the cleaned dataset number of rows\n",
        "new_row_size = cleaned_dataset_3.shape[0]\n",
        "\n",
        "# Calculate the percentage of rows dropped\n",
        "percentage_dropped = 100 * (original_row_size - new_row_size) / original_row_size\n",
        "\n",
        "# Identify columns that still contain NaN values\n",
        "columns_with_nan = cleaned_dataset_3.columns[cleaned_dataset_3.isna().any()].tolist()\n",
        "\n",
        "# Print the results\n",
        "print(f\"Rows in the original dataset: {original_row_size}\")\n",
        "print(f\"Rows in the new dataset: {new_row_size} ({percentage_dropped:.2f}% less)\")\n",
        "print(f\"Columns that still contain NaN values: {', '.join(columns_with_nan)}\")\n"
      ],
      "metadata": {
        "colab": {
          "base_uri": "https://localhost:8080/"
        },
        "id": "i1K4Clizc8N5",
        "outputId": "e4a595fd-2491-40ae-f333-e55dd188d77b"
      },
      "execution_count": null,
      "outputs": [
        {
          "output_type": "stream",
          "name": "stdout",
          "text": [
            "Rows in the original dataset: 10000\n",
            "Rows in the new dataset: 5988 (40.12% less)\n",
            "Columns that still contain NaN values: LAST_DEVICE_CHANGE, LINE_ACTIVATION_DATE, MONTHS_LAST_DEVICE, DURATION_LINE\n"
          ]
        }
      ]
    },
    {
      "cell_type": "markdown",
      "metadata": {
        "id": "XpSCoFFaKCd5"
      },
      "source": [
        "## 2.2. Distributions, outliers, and correlations"
      ]
    },
    {
      "cell_type": "markdown",
      "metadata": {
        "id": "H2pzdZFyKCd6"
      },
      "source": [
        "We will now plot the distributions of some variables and apply some transformations.\n",
        "\n",
        "* You can use [Seaborn library](https://seaborn.pydata.org/) with `kde=False` to create a histogram.\n",
        "* You can use [pandas.DataFrame.plot](https://pandas.pydata.org/pandas-docs/stable/reference/api/pandas.DataFrame.plot.html) with `kind='box'` to create a boxplot.\n",
        "\n",
        "Remember to include a title, x-axis label, and y-axis label. All of your plots delivered throughout the course should include these elements. Example:\n",
        "\n",
        "```\n",
        "ax = sns.histplot(...)\n",
        "ax.set(title=..., xlabel=..., ylabel=...)\n",
        "```\n",
        "    \n",
        "<font size=\"-1\" color=\"gray\">(Remove this cell when delivering.)</font>"
      ]
    },
    {
      "cell_type": "markdown",
      "metadata": {
        "id": "lgD4heKOKCd6"
      },
      "source": [
        "<font size=\"+1\" color=\"red\">Replace this cell with code to plot a histogram of **DEVICE\\_VALUE** and **DURATION\\_LINE**. Remember to include a title, and labels on the x axis and y axis</font>\n",
        "\n",
        "<font size=\"+1\" color=\"red\">Include after each histogram a markdown cell where you indicate if you recognize any specific distribution (normal, exponential, uniform, ...) or any characteristic of the distribution (unimodal, bimodal).</font>"
      ]
    },
    {
      "cell_type": "code",
      "source": [
        "# Plot histogram for DEVICE_VALUE\n",
        "ax1 = sns.histplot(data=cleaned_dataset_3, x='DEVICE_VALUE',bins=30, kde=False)\n",
        "ax1.set(title='Distribution of DEVICE_VALUE', xlabel='Device Value', ylabel='Frequency')\n",
        "plt.show()"
      ],
      "metadata": {
        "colab": {
          "base_uri": "https://localhost:8080/",
          "height": 472
        },
        "id": "-iL3pJ4ef7ne",
        "outputId": "bc9a59f6-5f40-4057-a399-033793cd65c0"
      },
      "execution_count": null,
      "outputs": [
        {
          "output_type": "display_data",
          "data": {
            "text/plain": [
              "<Figure size 640x480 with 1 Axes>"
            ],
            "image/png": "[encoded data removed]"
          },
          "metadata": {}
        }
      ]
    },
    {
      "cell_type": "markdown",
      "source": [
        "- **Distribution of DEVICE_VALUE:** This doesn't appear to be a normal distribution. The distribution is right-skewed, so we can see that most of data points are in low values with a long tail to high values. The distribution follows a structure similar to exponential distribution. The frequency decreases abruptly with high values. It is an unimodal distribution because it has just a peak."
      ],
      "metadata": {
        "id": "oTFY-ynfhiHF"
      }
    },
    {
      "cell_type": "code",
      "source": [
        "# Plot histogram for DURATION_LINE\n",
        "ax2 = sns.histplot(data=cleaned_dataset_3, x='DURATION_LINE', bins=30, kde=False)\n",
        "ax2.set(title='Distribution of DURATION_LINE', xlabel='Duration Line (months)', ylabel='Frequency')\n",
        "plt.show()"
      ],
      "metadata": {
        "colab": {
          "base_uri": "https://localhost:8080/",
          "height": 472
        },
        "id": "fYybkBuax3zO",
        "outputId": "012de713-903d-4879-abaf-9b0d99e1c2dc"
      },
      "execution_count": null,
      "outputs": [
        {
          "output_type": "display_data",
          "data": {
            "text/plain": [
              "<Figure size 640x480 with 1 Axes>"
            ],
            "image/png": "[encoded data removed]"
          },
          "metadata": {}
        }
      ]
    },
    {
      "cell_type": "markdown",
      "source": [
        "- **Distribution of DURATION_LINE:** This doesn't appear to be a normal distribution. The distribution is right-skewed, so we can see that most of data points are in low values with a long tail to high values. The distribution follows a structure similar to exponential distribution. The frequency decreases with high values but in this case the long tail doesn't decrease so abrupt. It is an unimodal distribution because it has just a peak."
      ],
      "metadata": {
        "id": "oWsvSpkCykk-"
      }
    },
    {
      "cell_type": "markdown",
      "metadata": {
        "id": "XT7WsieUKCd6"
      },
      "source": [
        "To be able to see better these histograms when comparing them, you can use:\n",
        "\n",
        "```\n",
        "sns.histplot(data=..., bins=20, fill=False)\n",
        "```\n",
        "\n",
        "To use logarithmic scale on the X axis or the Y axis, you can use `plt.xscale('log')` or `plt.yscale('log')`.\n",
        "    \n",
        "<font size=\"-1\" color=\"gray\">(Remove this cell when delivering.)</font>"
      ]
    },
    {
      "cell_type": "markdown",
      "metadata": {
        "id": "sgn1VMiDKCeE"
      },
      "source": [
        "<font size=\"+1\" color=\"red\">Replace this cell with a series of cells with code to plot a histogram comparing **VOICE\\_TRAFFIC\\_MONTH\\_1** against **VOICE\\_TRAFFIC\\_MONTH\\_6**, and **BILLING\\_MONTH\\_1** against **BILLING\\_MONTH\\_6**. Remember to include a title, labels on the x axis and y axis, and a legend.</font>\n",
        "\n",
        "<font size=\"+1\" color=\"red\">Both plots should use logarithmic scale on the y axis</font>\n",
        "\n",
        "<font size=\"+1\" color=\"red\">Include after both histograms your comment on the differences between month 1 and month 6.</font>"
      ]
    },
    {
      "cell_type": "code",
      "source": [
        "# Plot histogram for VOICE_TRAFFIC_MONTH_1 and VOICE_TRAFFIC_MONTH_6\n",
        "sns.histplot(data=cleaned_dataset_3, x='VOICE_TRAFFIC_MONTH_1', bins=20, fill=False, label='Month 1')\n",
        "sns.histplot(data=cleaned_dataset_3, x='VOICE_TRAFFIC_MONTH_6', bins=20, fill=False, label='Month 6')\n",
        "plt.title('Voice Traffic Comparison: Month 1 vs Month 6')\n",
        "plt.xlabel('Voice Traffic')\n",
        "plt.ylabel('Frequency')\n",
        "plt.yscale('log')\n",
        "plt.legend()\n",
        "plt.show()\n",
        "\n",
        "# Plot histogram for BILLING_MONTH_1 and BILLING_MONTH_6\n",
        "sns.histplot(data=cleaned_dataset_3, x='BILLING_MONTH_1', bins=20, fill=False, label='Month 1')\n",
        "sns.histplot(data=cleaned_dataset_3, x='BILLING_MONTH_6', bins=20, fill=False, label='Month 6')\n",
        "plt.title('Billing Comparison: Month 1 vs Month 6')\n",
        "plt.xlabel('Billing Amount')\n",
        "plt.ylabel('Frequency')\n",
        "plt.yscale('log')\n",
        "plt.legend()\n",
        "plt.show()"
      ],
      "metadata": {
        "colab": {
          "base_uri": "https://localhost:8080/",
          "height": 927
        },
        "id": "5n51kTcxgK4P",
        "outputId": "a08c6642-572d-49d9-8ec1-c4cc74d18746"
      },
      "execution_count": null,
      "outputs": [
        {
          "output_type": "display_data",
          "data": {
            "text/plain": [
              "<Figure size 640x480 with 1 Axes>"
            ],
            "image/png": "[encoded data removed]"
          },
          "metadata": {}
        },
        {
          "output_type": "display_data",
          "data": {
            "text/plain": [
              "<Figure size 640x480 with 1 Axes>"
            ],
            "image/png": "[encoded data removed]"
          },
          "metadata": {}
        }
      ]
    },
    {
      "cell_type": "markdown",
      "source": [
        "**Voice Traffic Comparison: Month 1 vs Month 6**\n",
        "\n",
        "- Month 1 generally has higher frequencies for most voice traffic values compared to Month 6, suggesting that there was more voice traffic in the first month.\n",
        "- Month 6 has fewer instances of high voice traffic values, indicating a possible decrease in voice traffic usage over time.\n",
        "\n",
        "**Billing Comparison: Month 1 vs Month 6**\n",
        "\n",
        "- In the lower billing amounts (under 200), the frequencies for Month 6 are slightly higher, which may suggest a reduction in higher billing amounts over time.\n",
        "- For larger billing amounts, Month 1 has higher frequencies than Month 6, indicating that bills tended to be higher in Month 1."
      ],
      "metadata": {
        "id": "nmV4gJJu9Iw_"
      }
    },
    {
      "cell_type": "markdown",
      "metadata": {
        "id": "ROjMf0RvKCeE"
      },
      "source": [
        "Variables having exponential distribution can be processed and visualized better after transforming them, usually by applying the `log(x+1)` function (we want to avoid zeros, hence the +1).\n",
        "    \n",
        "<font size=\"-1\" color=\"gray\">(Remove this cell when delivering.)</font>"
      ]
    },
    {
      "cell_type": "markdown",
      "metadata": {
        "id": "yu1XLKhQKCeE"
      },
      "source": [
        "<font size=\"+1\" color=\"red\">Replace this cell with code to apply **log(x+1)** to **VOICE\\_TRAFFIC\\_MONTH\\_1** and plot its new distribution.</font>"
      ]
    },
    {
      "cell_type": "code",
      "source": [
        "# Apply log(x + 1) transformation to VOICE_TRAFFIC_MONTH_1\n",
        "cleaned_dataset_3['VOICE_TRAFFIC_MONTH_1_LOG'] = np.log(cleaned_dataset_3['VOICE_TRAFFIC_MONTH_1'] + 1)\n",
        "\n",
        "# Plot the transformed distribution\n",
        "ax = sns.histplot(data=cleaned_dataset_3, x='VOICE_TRAFFIC_MONTH_1_LOG', bins=20, fill=False)\n",
        "ax.set(title='Log Transformation of Voice Traffic for Month 1', xlabel='Log(Voice Traffic + 1)', ylabel='Frequency')\n",
        "plt.yscale('log')\n",
        "plt.show()"
      ],
      "metadata": {
        "colab": {
          "base_uri": "https://localhost:8080/",
          "height": 472
        },
        "id": "Oh2e793Cgvcs",
        "outputId": "ce807d00-be0c-48d0-9054-7d6cddda84ad"
      },
      "execution_count": null,
      "outputs": [
        {
          "output_type": "display_data",
          "data": {
            "text/plain": [
              "<Figure size 640x480 with 1 Axes>"
            ],
            "image/png": "[encoded data removed]"
          },
          "metadata": {}
        }
      ]
    },
    {
      "cell_type": "markdown",
      "metadata": {
        "id": "6eKe0n_HKCeE"
      },
      "source": [
        "<font size=\"+1\" color=\"red\">Replace this cell with code to create thre boxplots, each of them for one of the  variables **DATA\\_TRAFFIC\\_MONTH\\_6**, **VOICE\\_TRAFFIC\\_MONTH\\_6** and **BILLING\\_MONTH\\_6**. Remember to include a title and a label for the y axis.</font>"
      ]
    },
    {
      "cell_type": "code",
      "source": [
        "# Set the size of the plots\n",
        "plt.figure(figsize=(15, 5))\n",
        "\n",
        "# Create a boxplot for DATA_TRAFFIC_MONTH_6\n",
        "plt.subplot(1, 3, 1)\n",
        "sns.boxplot(y=cleaned_dataset_3['DATA_TRAFFIC_MONTH_6'])\n",
        "plt.title('Boxplot of Data Traffic for Month 6')\n",
        "plt.ylabel('Data Traffic')\n",
        "plt.yscale('log')\n",
        "\n",
        "# Create a boxplot for VOICE_TRAFFIC_MONTH_6\n",
        "plt.subplot(1, 3, 2)\n",
        "sns.boxplot(y=cleaned_dataset_3['VOICE_TRAFFIC_MONTH_6'])\n",
        "plt.title('Boxplot of Voice Traffic for Month 6')\n",
        "plt.ylabel('Voice Traffic')\n",
        "plt.yscale('log')\n",
        "\n",
        "# Create a boxplot for BILLING_MONTH_6\n",
        "plt.subplot(1, 3, 3)\n",
        "sns.boxplot(y=cleaned_dataset_3['BILLING_MONTH_6'])\n",
        "plt.title('Boxplot of Billing for Month 6')\n",
        "plt.ylabel('Billing Amount')\n",
        "plt.yscale('log')\n",
        "plt.show()\n"
      ],
      "metadata": {
        "colab": {
          "base_uri": "https://localhost:8080/",
          "height": 530
        },
        "id": "qH8oS-FahHet",
        "outputId": "c5ad53f4-b5a3-4aac-d780-1fe95f55f3da"
      },
      "execution_count": null,
      "outputs": [
        {
          "output_type": "stream",
          "name": "stderr",
          "text": [
            "/usr/local/lib/python3.10/dist-packages/seaborn/categorical.py:640: FutureWarning: SeriesGroupBy.grouper is deprecated and will be removed in a future version of pandas.\n",
            "  positions = grouped.grouper.result_index.to_numpy(dtype=float)\n",
            "/usr/local/lib/python3.10/dist-packages/seaborn/categorical.py:640: FutureWarning: SeriesGroupBy.grouper is deprecated and will be removed in a future version of pandas.\n",
            "  positions = grouped.grouper.result_index.to_numpy(dtype=float)\n",
            "/usr/local/lib/python3.10/dist-packages/seaborn/categorical.py:640: FutureWarning: SeriesGroupBy.grouper is deprecated and will be removed in a future version of pandas.\n",
            "  positions = grouped.grouper.result_index.to_numpy(dtype=float)\n"
          ]
        },
        {
          "output_type": "display_data",
          "data": {
            "text/plain": [
              "<Figure size 1500x500 with 3 Axes>"
            ],
            "image/png": "[encoded data removed]"
          },
          "metadata": {}
        }
      ]
    },
    {
      "cell_type": "markdown",
      "metadata": {
        "id": "ZL-W-r2pKCeF"
      },
      "source": [
        "<font size=\"+1\" color=\"red\">Replace this cell with a brief commentary indicating which extreme values would you use as threshold for **outliers** in these variables, by looking at these box plots</font>"
      ]
    },
    {
      "cell_type": "markdown",
      "source": [
        "- **Data Traffic Boxplot:** There are so many outliers out of the plotbox. Most of the data points out of the plotbox are in [10,000 - 100,000]. So I would use outlier threshould over 10,000.\n",
        "\n",
        "- **Voice Traffic Boxplot:** There are so many outliers out of the plotbox. Most of the data points out of the plotbox are in [100 - 1000]. So I would use outlier threshould over 100.\n",
        "\n",
        "- **Billing Amount Boxplot:** There are so many outliers out of the plotbox. Most of the data points out of the plotbox are in [100 - 1000]. So I would use outlier threshould over 100."
      ],
      "metadata": {
        "id": "ZCpiXS_GhOpD"
      }
    },
    {
      "cell_type": "markdown",
      "metadata": {
        "id": "Df0ScNYLKCeF"
      },
      "source": [
        "In this dataset, there are many dependencies between different attributes, e.g., a large voice traffic will probably be associated with a large data traffic, a more expensive bill, and possibly a more expensive device (`DEVICE_VALUE`).\n",
        "\n",
        "You can use [pandas.DataFrame.corr](https://pandas.pydata.org/pandas-docs/stable/reference/api/pandas.DataFrame.corr.html) to compute a correlation matrix, and [matplotlib.pyplot.matshow](https://matplotlib.org/3.1.1/api/_as_gen/matplotlib.pyplot.matshow.html) to show this graphically.\n",
        "\n",
        "To compute Pearson correlations, you use:\n",
        "\n",
        "```python\n",
        "df.corr(method='pearson', numeric_only=True)\n",
        "```\n",
        "\n",
        "<font size=\"-1\" color=\"gray\">(Remove this cell when delivering.)</font>"
      ]
    },
    {
      "cell_type": "markdown",
      "metadata": {
        "id": "YWTdcbYGKCeF"
      },
      "source": [
        "<font size=\"+1\" color=\"red\">Replace this cell with code to calculate the correlation between all traffic attributes (i.e., voice and data), duration line, billing, device cost and device value. Display the result as a table with rows and columns corresponding to columns, and cells indicating correlations. Display the result as an image using ``matshow``</font>"
      ]
    },
    {
      "cell_type": "code",
      "source": [
        "# Select relevant columns for correlation\n",
        "relevant_columns = [\n",
        "    'VOICE_TRAFFIC_MONTH_1', 'VOICE_TRAFFIC_MONTH_2', 'VOICE_TRAFFIC_MONTH_3',\n",
        "    'VOICE_TRAFFIC_MONTH_4', 'VOICE_TRAFFIC_MONTH_5', 'VOICE_TRAFFIC_MONTH_6',\n",
        "    'DATA_TRAFFIC_MONTH_1', 'DATA_TRAFFIC_MONTH_2', 'DATA_TRAFFIC_MONTH_3',\n",
        "    'DATA_TRAFFIC_MONTH_4', 'DATA_TRAFFIC_MONTH_5', 'DATA_TRAFFIC_MONTH_6',\n",
        "    'DURATION_LINE', 'BILLING_MONTH_1', 'BILLING_MONTH_2', 'BILLING_MONTH_3',\n",
        "    'BILLING_MONTH_4', 'BILLING_MONTH_5', 'BILLING_MONTH_6',\n",
        "    'DEVICE_COST_MONTH_1', 'DEVICE_COST_MONTH_2', 'DEVICE_COST_MONTH_3',\n",
        "    'DEVICE_COST_MONTH_4', 'DEVICE_COST_MONTH_5', 'DEVICE_COST_MONTH_6',\n",
        "    'DEVICE_VALUE'\n",
        "]\n",
        "\n",
        "# Calculate the correlation matrix\n",
        "correlation_matrix = cleaned_dataset_3[relevant_columns].corr(method='pearson', numeric_only=True)\n",
        "\n",
        "# Display the correlation matrix as a table\n",
        "print(correlation_matrix)\n",
        "\n",
        "# Visualize the correlation matrix using matshow\n",
        "plt.figure(figsize=(12, 8))\n",
        "plt.matshow(correlation_matrix, cmap='coolwarm', fignum=1)\n",
        "plt.colorbar()\n",
        "plt.xticks(range(len(correlation_matrix.columns)), correlation_matrix.columns, rotation=90)\n",
        "plt.yticks(range(len(correlation_matrix.index)), correlation_matrix.index)\n",
        "plt.title('Correlation Matrix of Traffic, Duration, Billing, and Device Value', pad=20)\n",
        "plt.show()\n"
      ],
      "metadata": {
        "colab": {
          "base_uri": "https://localhost:8080/",
          "height": 1000
        },
        "id": "k_Iqag9ahXeD",
        "outputId": "a5300881-90e2-4e8b-ea30-248fc1a0fcf8"
      },
      "execution_count": null,
      "outputs": [
        {
          "output_type": "stream",
          "name": "stdout",
          "text": [
            "                       VOICE_TRAFFIC_MONTH_1  VOICE_TRAFFIC_MONTH_2  \\\n",
            "VOICE_TRAFFIC_MONTH_1                   1.00                   0.82   \n",
            "VOICE_TRAFFIC_MONTH_2                   0.82                   1.00   \n",
            "VOICE_TRAFFIC_MONTH_3                   0.80                   0.98   \n",
            "VOICE_TRAFFIC_MONTH_4                   0.74                   0.83   \n",
            "VOICE_TRAFFIC_MONTH_5                   0.73                   0.81   \n",
            "VOICE_TRAFFIC_MONTH_6                   0.44                   0.51   \n",
            "DATA_TRAFFIC_MONTH_1                    0.09                   0.07   \n",
            "DATA_TRAFFIC_MONTH_2                    0.08                   0.08   \n",
            "DATA_TRAFFIC_MONTH_3                    0.08                   0.08   \n",
            "DATA_TRAFFIC_MONTH_4                    0.09                   0.09   \n",
            "DATA_TRAFFIC_MONTH_5                    0.09                   0.09   \n",
            "DATA_TRAFFIC_MONTH_6                    0.08                   0.08   \n",
            "DURATION_LINE                           0.02                   0.03   \n",
            "BILLING_MONTH_1                         0.16                   0.13   \n",
            "BILLING_MONTH_2                         0.13                   0.11   \n",
            "BILLING_MONTH_3                         0.13                   0.12   \n",
            "BILLING_MONTH_4                         0.13                   0.11   \n",
            "BILLING_MONTH_5                         0.13                   0.11   \n",
            "BILLING_MONTH_6                         0.14                   0.12   \n",
            "DEVICE_COST_MONTH_1                    -0.01                  -0.01   \n",
            "DEVICE_COST_MONTH_2                     0.00                   0.00   \n",
            "DEVICE_COST_MONTH_3                     0.01                  -0.00   \n",
            "DEVICE_COST_MONTH_4                     0.00                   0.00   \n",
            "DEVICE_COST_MONTH_5                     0.01                   0.00   \n",
            "DEVICE_COST_MONTH_6                     0.01                   0.00   \n",
            "DEVICE_VALUE                            0.02                   0.03   \n",
            "\n",
            "                       VOICE_TRAFFIC_MONTH_3  VOICE_TRAFFIC_MONTH_4  \\\n",
            "VOICE_TRAFFIC_MONTH_1                   0.80                   0.74   \n",
            "VOICE_TRAFFIC_MONTH_2                   0.98                   0.83   \n",
            "VOICE_TRAFFIC_MONTH_3                   1.00                   0.85   \n",
            "VOICE_TRAFFIC_MONTH_4                   0.85                   1.00   \n",
            "VOICE_TRAFFIC_MONTH_5                   0.82                   0.88   \n",
            "VOICE_TRAFFIC_MONTH_6                   0.51                   0.46   \n",
            "DATA_TRAFFIC_MONTH_1                    0.07                   0.07   \n",
            "DATA_TRAFFIC_MONTH_2                    0.08                   0.07   \n",
            "DATA_TRAFFIC_MONTH_3                    0.08                   0.07   \n",
            "DATA_TRAFFIC_MONTH_4                    0.09                   0.09   \n",
            "DATA_TRAFFIC_MONTH_5                    0.10                   0.09   \n",
            "DATA_TRAFFIC_MONTH_6                    0.08                   0.08   \n",
            "DURATION_LINE                           0.03                   0.02   \n",
            "BILLING_MONTH_1                         0.13                   0.12   \n",
            "BILLING_MONTH_2                         0.11                   0.11   \n",
            "BILLING_MONTH_3                         0.13                   0.12   \n",
            "BILLING_MONTH_4                         0.11                   0.12   \n",
            "BILLING_MONTH_5                         0.11                   0.12   \n",
            "BILLING_MONTH_6                         0.12                   0.12   \n",
            "DEVICE_COST_MONTH_1                    -0.01                  -0.01   \n",
            "DEVICE_COST_MONTH_2                     0.01                   0.01   \n",
            "DEVICE_COST_MONTH_3                    -0.00                   0.01   \n",
            "DEVICE_COST_MONTH_4                     0.00                  -0.00   \n",
            "DEVICE_COST_MONTH_5                     0.00                  -0.00   \n",
            "DEVICE_COST_MONTH_6                     0.01                   0.01   \n",
            "DEVICE_VALUE                            0.03                   0.02   \n",
            "\n",
            "                       VOICE_TRAFFIC_MONTH_5  VOICE_TRAFFIC_MONTH_6  \\\n",
            "VOICE_TRAFFIC_MONTH_1                   0.73                   0.44   \n",
            "VOICE_TRAFFIC_MONTH_2                   0.81                   0.51   \n",
            "VOICE_TRAFFIC_MONTH_3                   0.82                   0.51   \n",
            "VOICE_TRAFFIC_MONTH_4                   0.88                   0.46   \n",
            "VOICE_TRAFFIC_MONTH_5                   1.00                   0.50   \n",
            "VOICE_TRAFFIC_MONTH_6                   0.50                   1.00   \n",
            "DATA_TRAFFIC_MONTH_1                    0.08                   0.05   \n",
            "DATA_TRAFFIC_MONTH_2                    0.08                   0.03   \n",
            "DATA_TRAFFIC_MONTH_3                    0.08                   0.03   \n",
            "DATA_TRAFFIC_MONTH_4                    0.10                   0.03   \n",
            "DATA_TRAFFIC_MONTH_5                    0.10                   0.04   \n",
            "DATA_TRAFFIC_MONTH_6                    0.09                   0.03   \n",
            "DURATION_LINE                           0.03                   0.16   \n",
            "BILLING_MONTH_1                         0.12                   0.09   \n",
            "BILLING_MONTH_2                         0.11                   0.09   \n",
            "BILLING_MONTH_3                         0.12                   0.10   \n",
            "BILLING_MONTH_4                         0.12                   0.09   \n",
            "BILLING_MONTH_5                         0.13                   0.11   \n",
            "BILLING_MONTH_6                         0.12                   0.10   \n",
            "DEVICE_COST_MONTH_1                    -0.01                  -0.00   \n",
            "DEVICE_COST_MONTH_2                    -0.00                   0.01   \n",
            "DEVICE_COST_MONTH_3                     0.00                   0.00   \n",
            "DEVICE_COST_MONTH_4                    -0.01                   0.01   \n",
            "DEVICE_COST_MONTH_5                    -0.01                   0.01   \n",
            "DEVICE_COST_MONTH_6                     0.00                   0.02   \n",
            "DEVICE_VALUE                            0.03                   0.02   \n",
            "\n",
            "                       DATA_TRAFFIC_MONTH_1  DATA_TRAFFIC_MONTH_2  \\\n",
            "VOICE_TRAFFIC_MONTH_1                  0.09                  0.08   \n",
            "VOICE_TRAFFIC_MONTH_2                  0.07                  0.08   \n",
            "VOICE_TRAFFIC_MONTH_3                  0.07                  0.08   \n",
            "VOICE_TRAFFIC_MONTH_4                  0.07                  0.07   \n",
            "VOICE_TRAFFIC_MONTH_5                  0.08                  0.08   \n",
            "VOICE_TRAFFIC_MONTH_6                  0.05                  0.03   \n",
            "DATA_TRAFFIC_MONTH_1                   1.00                  0.76   \n",
            "DATA_TRAFFIC_MONTH_2                   0.76                  1.00   \n",
            "DATA_TRAFFIC_MONTH_3                   0.73                  0.97   \n",
            "DATA_TRAFFIC_MONTH_4                   0.70                  0.79   \n",
            "DATA_TRAFFIC_MONTH_5                   0.66                  0.76   \n",
            "DATA_TRAFFIC_MONTH_6                   0.62                  0.69   \n",
            "DURATION_LINE                         -0.01                  0.01   \n",
            "BILLING_MONTH_1                        0.18                  0.19   \n",
            "BILLING_MONTH_2                        0.17                  0.17   \n",
            "BILLING_MONTH_3                        0.18                  0.17   \n",
            "BILLING_MONTH_4                        0.20                  0.19   \n",
            "BILLING_MONTH_5                        0.19                  0.19   \n",
            "BILLING_MONTH_6                        0.19                  0.20   \n",
            "DEVICE_COST_MONTH_1                    0.01                  0.01   \n",
            "DEVICE_COST_MONTH_2                    0.05                  0.05   \n",
            "DEVICE_COST_MONTH_3                    0.08                  0.06   \n",
            "DEVICE_COST_MONTH_4                    0.08                  0.07   \n",
            "DEVICE_COST_MONTH_5                    0.08                  0.07   \n",
            "DEVICE_COST_MONTH_6                    0.08                  0.07   \n",
            "DEVICE_VALUE                           0.12                  0.11   \n",
            "\n",
            "                       DATA_TRAFFIC_MONTH_3  DATA_TRAFFIC_MONTH_4  ...  \\\n",
            "VOICE_TRAFFIC_MONTH_1                  0.08                  0.09  ...   \n",
            "VOICE_TRAFFIC_MONTH_2                  0.08                  0.09  ...   \n",
            "VOICE_TRAFFIC_MONTH_3                  0.08                  0.09  ...   \n",
            "VOICE_TRAFFIC_MONTH_4                  0.07                  0.09  ...   \n",
            "VOICE_TRAFFIC_MONTH_5                  0.08                  0.10  ...   \n",
            "VOICE_TRAFFIC_MONTH_6                  0.03                  0.03  ...   \n",
            "DATA_TRAFFIC_MONTH_1                   0.73                  0.70  ...   \n",
            "DATA_TRAFFIC_MONTH_2                   0.97                  0.79  ...   \n",
            "DATA_TRAFFIC_MONTH_3                   1.00                  0.81  ...   \n",
            "DATA_TRAFFIC_MONTH_4                   0.81                  1.00  ...   \n",
            "DATA_TRAFFIC_MONTH_5                   0.77                  0.83  ...   \n",
            "DATA_TRAFFIC_MONTH_6                   0.70                  0.72  ...   \n",
            "DURATION_LINE                          0.01                 -0.02  ...   \n",
            "BILLING_MONTH_1                        0.19                  0.21  ...   \n",
            "BILLING_MONTH_2                        0.18                  0.19  ...   \n",
            "BILLING_MONTH_3                        0.17                  0.19  ...   \n",
            "BILLING_MONTH_4                        0.20                  0.20  ...   \n",
            "BILLING_MONTH_5                        0.19                  0.21  ...   \n",
            "BILLING_MONTH_6                        0.20                  0.22  ...   \n",
            "DEVICE_COST_MONTH_1                    0.01                  0.01  ...   \n",
            "DEVICE_COST_MONTH_2                    0.05                  0.05  ...   \n",
            "DEVICE_COST_MONTH_3                    0.06                  0.07  ...   \n",
            "DEVICE_COST_MONTH_4                    0.07                  0.07  ...   \n",
            "DEVICE_COST_MONTH_5                    0.07                  0.07  ...   \n",
            "DEVICE_COST_MONTH_6                    0.07                  0.07  ...   \n",
            "DEVICE_VALUE                           0.12                  0.12  ...   \n",
            "\n",
            "                       BILLING_MONTH_4  BILLING_MONTH_5  BILLING_MONTH_6  \\\n",
            "VOICE_TRAFFIC_MONTH_1             0.13             0.13             0.14   \n",
            "VOICE_TRAFFIC_MONTH_2             0.11             0.11             0.12   \n",
            "VOICE_TRAFFIC_MONTH_3             0.11             0.11             0.12   \n",
            "VOICE_TRAFFIC_MONTH_4             0.12             0.12             0.12   \n",
            "VOICE_TRAFFIC_MONTH_5             0.12             0.13             0.12   \n",
            "VOICE_TRAFFIC_MONTH_6             0.09             0.11             0.10   \n",
            "DATA_TRAFFIC_MONTH_1              0.20             0.19             0.19   \n",
            "DATA_TRAFFIC_MONTH_2              0.19             0.19             0.20   \n",
            "DATA_TRAFFIC_MONTH_3              0.20             0.19             0.20   \n",
            "DATA_TRAFFIC_MONTH_4              0.20             0.21             0.22   \n",
            "DATA_TRAFFIC_MONTH_5              0.22             0.21             0.22   \n",
            "DATA_TRAFFIC_MONTH_6              0.20             0.19             0.20   \n",
            "DURATION_LINE                     0.10             0.09             0.10   \n",
            "BILLING_MONTH_1                   0.76             0.78             0.79   \n",
            "BILLING_MONTH_2                   0.70             0.69             0.70   \n",
            "BILLING_MONTH_3                   0.74             0.72             0.75   \n",
            "BILLING_MONTH_4                   1.00             0.80             0.79   \n",
            "BILLING_MONTH_5                   0.80             1.00             0.83   \n",
            "BILLING_MONTH_6                   0.79             0.83             1.00   \n",
            "DEVICE_COST_MONTH_1               0.02             0.00             0.00   \n",
            "DEVICE_COST_MONTH_2               0.06             0.04             0.04   \n",
            "DEVICE_COST_MONTH_3               0.08             0.06             0.06   \n",
            "DEVICE_COST_MONTH_4               0.08             0.06             0.06   \n",
            "DEVICE_COST_MONTH_5               0.08             0.05             0.06   \n",
            "DEVICE_COST_MONTH_6               0.09             0.07             0.07   \n",
            "DEVICE_VALUE                      0.11             0.10             0.10   \n",
            "\n",
            "                       DEVICE_COST_MONTH_1  DEVICE_COST_MONTH_2  \\\n",
            "VOICE_TRAFFIC_MONTH_1                -0.01                 0.00   \n",
            "VOICE_TRAFFIC_MONTH_2                -0.01                 0.00   \n",
            "VOICE_TRAFFIC_MONTH_3                -0.01                 0.01   \n",
            "VOICE_TRAFFIC_MONTH_4                -0.01                 0.01   \n",
            "VOICE_TRAFFIC_MONTH_5                -0.01                -0.00   \n",
            "VOICE_TRAFFIC_MONTH_6                -0.00                 0.01   \n",
            "DATA_TRAFFIC_MONTH_1                  0.01                 0.05   \n",
            "DATA_TRAFFIC_MONTH_2                  0.01                 0.05   \n",
            "DATA_TRAFFIC_MONTH_3                  0.01                 0.05   \n",
            "DATA_TRAFFIC_MONTH_4                  0.01                 0.05   \n",
            "DATA_TRAFFIC_MONTH_5                  0.01                 0.03   \n",
            "DATA_TRAFFIC_MONTH_6                  0.01                 0.05   \n",
            "DURATION_LINE                        -0.00                 0.03   \n",
            "BILLING_MONTH_1                       0.01                 0.05   \n",
            "BILLING_MONTH_2                       0.01                 0.05   \n",
            "BILLING_MONTH_3                       0.01                 0.04   \n",
            "BILLING_MONTH_4                       0.02                 0.06   \n",
            "BILLING_MONTH_5                       0.00                 0.04   \n",
            "BILLING_MONTH_6                       0.00                 0.04   \n",
            "DEVICE_COST_MONTH_1                   1.00                 0.38   \n",
            "DEVICE_COST_MONTH_2                   0.38                 1.00   \n",
            "DEVICE_COST_MONTH_3                   0.28                 0.57   \n",
            "DEVICE_COST_MONTH_4                   0.33                 0.83   \n",
            "DEVICE_COST_MONTH_5                   0.32                 0.80   \n",
            "DEVICE_COST_MONTH_6                   0.31                 0.78   \n",
            "DEVICE_VALUE                          0.08                 0.08   \n",
            "\n",
            "                       DEVICE_COST_MONTH_3  DEVICE_COST_MONTH_4  \\\n",
            "VOICE_TRAFFIC_MONTH_1                 0.01                 0.00   \n",
            "VOICE_TRAFFIC_MONTH_2                -0.00                 0.00   \n",
            "VOICE_TRAFFIC_MONTH_3                -0.00                 0.00   \n",
            "VOICE_TRAFFIC_MONTH_4                 0.01                -0.00   \n",
            "VOICE_TRAFFIC_MONTH_5                 0.00                -0.01   \n",
            "VOICE_TRAFFIC_MONTH_6                 0.00                 0.01   \n",
            "DATA_TRAFFIC_MONTH_1                  0.08                 0.08   \n",
            "DATA_TRAFFIC_MONTH_2                  0.06                 0.07   \n",
            "DATA_TRAFFIC_MONTH_3                  0.06                 0.07   \n",
            "DATA_TRAFFIC_MONTH_4                  0.07                 0.07   \n",
            "DATA_TRAFFIC_MONTH_5                  0.07                 0.06   \n",
            "DATA_TRAFFIC_MONTH_6                  0.09                 0.07   \n",
            "DURATION_LINE                         0.01                 0.03   \n",
            "BILLING_MONTH_1                       0.07                 0.07   \n",
            "BILLING_MONTH_2                       0.06                 0.07   \n",
            "BILLING_MONTH_3                       0.06                 0.06   \n",
            "BILLING_MONTH_4                       0.08                 0.08   \n",
            "BILLING_MONTH_5                       0.06                 0.06   \n",
            "BILLING_MONTH_6                       0.06                 0.06   \n",
            "DEVICE_COST_MONTH_1                   0.28                 0.33   \n",
            "DEVICE_COST_MONTH_2                   0.57                 0.83   \n",
            "DEVICE_COST_MONTH_3                   1.00                 0.67   \n",
            "DEVICE_COST_MONTH_4                   0.67                 1.00   \n",
            "DEVICE_COST_MONTH_5                   0.64                 0.97   \n",
            "DEVICE_COST_MONTH_6                   0.62                 0.94   \n",
            "DEVICE_VALUE                          0.12                 0.11   \n",
            "\n",
            "                       DEVICE_COST_MONTH_5  DEVICE_COST_MONTH_6  DEVICE_VALUE  \n",
            "VOICE_TRAFFIC_MONTH_1                 0.01                 0.01          0.02  \n",
            "VOICE_TRAFFIC_MONTH_2                 0.00                 0.00          0.03  \n",
            "VOICE_TRAFFIC_MONTH_3                 0.00                 0.01          0.03  \n",
            "VOICE_TRAFFIC_MONTH_4                -0.00                 0.01          0.02  \n",
            "VOICE_TRAFFIC_MONTH_5                -0.01                 0.00          0.03  \n",
            "VOICE_TRAFFIC_MONTH_6                 0.01                 0.02          0.02  \n",
            "DATA_TRAFFIC_MONTH_1                  0.08                 0.08          0.12  \n",
            "DATA_TRAFFIC_MONTH_2                  0.07                 0.07          0.11  \n",
            "DATA_TRAFFIC_MONTH_3                  0.07                 0.07          0.12  \n",
            "DATA_TRAFFIC_MONTH_4                  0.07                 0.07          0.12  \n",
            "DATA_TRAFFIC_MONTH_5                  0.06                 0.06          0.13  \n",
            "DATA_TRAFFIC_MONTH_6                  0.07                 0.08          0.12  \n",
            "DURATION_LINE                         0.03                 0.04          0.03  \n",
            "BILLING_MONTH_1                       0.07                 0.08          0.09  \n",
            "BILLING_MONTH_2                       0.07                 0.08          0.10  \n",
            "BILLING_MONTH_3                       0.06                 0.07          0.10  \n",
            "BILLING_MONTH_4                       0.08                 0.09          0.11  \n",
            "BILLING_MONTH_5                       0.05                 0.07          0.10  \n",
            "BILLING_MONTH_6                       0.06                 0.07          0.10  \n",
            "DEVICE_COST_MONTH_1                   0.32                 0.31          0.08  \n",
            "DEVICE_COST_MONTH_2                   0.80                 0.78          0.08  \n",
            "DEVICE_COST_MONTH_3                   0.64                 0.62          0.12  \n",
            "DEVICE_COST_MONTH_4                   0.97                 0.94          0.11  \n",
            "DEVICE_COST_MONTH_5                   1.00                 0.97          0.11  \n",
            "DEVICE_COST_MONTH_6                   0.97                 1.00          0.11  \n",
            "DEVICE_VALUE                          0.11                 0.11          1.00  \n",
            "\n",
            "[26 rows x 26 columns]\n"
          ]
        },
        {
          "output_type": "display_data",
          "data": {
            "text/plain": [
              "<Figure size 1200x800 with 2 Axes>"
            ],
            "image/png": "[encoded data removed]"
          },
          "metadata": {}
        }
      ]
    },
    {
      "cell_type": "markdown",
      "metadata": {
        "id": "228uu3OeKCeF"
      },
      "source": [
        "<font size=\"+1\" color=\"red\">Replace this cell with a brief commentary on the results. Is the billing more correlated, in general, with the data traffic or with the voice traffic?</font>"
      ]
    },
    {
      "cell_type": "markdown",
      "source": [
        "We can see billing is more correlated with the data traffic than the voice traffic. Because when the color is more blue, the correlation is over 0.0 and when the colour is close to red the correlation is around 1.0. The voice traffic's blue is darker than data traffic's blue, so billing is more correlated with the data traffic."
      ],
      "metadata": {
        "id": "o0Sx6jn7iszc"
      }
    },
    {
      "cell_type": "markdown",
      "metadata": {
        "id": "J0GfOKVXKCeF"
      },
      "source": [
        "## 2.3. Date management and period calculation"
      ]
    },
    {
      "cell_type": "markdown",
      "metadata": {
        "id": "2LcO0uSaKCeF"
      },
      "source": [
        "First, we will determine the date of the `LAST_DEVICE_CHANGE` of the last device that was changed in the entire dataset (i.e., the maximum value of the `LAST_DEVICE_CHANGE` column, plus 30 days). We will refer to that date as `latest_change`.\n",
        "\n",
        "Note that `LAST_DEVICE_CHANGE` is expressed as a floating point number in the format `YYYYMMDD.0`, for instance 3 of July of 2018 would be `20180703.0`. Convert to integer first, then to string.\n",
        "\n",
        "As a string, this is formatted according to [strptime](https://www.geeksforgeeks.org/python-datetime-strptime-function/) conventions with format `%Y%m%d`.\n",
        "\n",
        "Use [datetime.datetime.strptime](https://docs.python.org/3/library/datetime.html#datetime.datetime.strptime) to convert to create object `latest_change` and print it.\n",
        "\n",
        "Next, add 30 days to that date to obtain object `now` (we will assume we are doing this processing 30 days after the latest device change). Use a `datetime.timedelta` object for that.\n",
        "\n",
        "Your output should look like this:\n",
        "\n",
        "```\n",
        "2019-05-01 00:00:00\n",
        "2019-05-31 00:00:00\n",
        "```\n",
        "\n",
        "<font size=\"-1\" color=\"gray\">(Remove this cell when delivering.)</font>"
      ]
    },
    {
      "cell_type": "markdown",
      "metadata": {
        "id": "1hI-xP6yKCeF"
      },
      "source": [
        "<font size=\"+1\" color=\"red\">Replace this cell with code to create and print `latest_change` and `now`.</font>"
      ]
    },
    {
      "cell_type": "code",
      "source": [
        "from datetime import datetime, timedelta\n",
        "\n",
        "# Convert LAST_DEVICE_CHANGE to integer and find the maximum value\n",
        "latest_device_change_value = int(cleaned_dataset_3['LAST_DEVICE_CHANGE'].max())\n",
        "\n",
        "# Convert to string and then to a datetime object\n",
        "latest_change_str = str(latest_device_change_value)\n",
        "latest_change = datetime.strptime(latest_change_str, '%Y%m%d')\n",
        "\n",
        "# Print the latest change date\n",
        "print(latest_change)\n",
        "\n",
        "# Add 30 days to the latest_change date\n",
        "now = latest_change + timedelta(days=30)\n",
        "\n",
        "# Print the new date after adding 30 days\n",
        "print(now)"
      ],
      "metadata": {
        "colab": {
          "base_uri": "https://localhost:8080/"
        },
        "id": "os4rJClokWAc",
        "outputId": "9e8fc635-7eec-4916-eea8-88ea2df1d98e"
      },
      "execution_count": null,
      "outputs": [
        {
          "output_type": "stream",
          "name": "stdout",
          "text": [
            "2019-05-01 00:00:00\n",
            "2019-05-31 00:00:00\n"
          ]
        }
      ]
    },
    {
      "cell_type": "markdown",
      "metadata": {
        "id": "m-d8ceyvKCeG"
      },
      "source": [
        "Now, obtain the series corresponding to the last device change, you can do it by using [pandas.to_datetime](https://pandas.pydata.org/pandas-docs/stable/reference/api/pandas.to_datetime.html) as if you were using `strptime`:\n",
        "\n",
        "```\n",
        "series_converted = pd.to_datetime(dataframe[column_name], format='%Y%m%d')\n",
        "```\n",
        "\n",
        "Now compute the difference between the now and the series_converted.\n",
        "\n",
        "Divide that difference by `30 * datetime.timedelta(days=1)` to obtain the difference in periods of 30 days (approximately one month).\n",
        "\n",
        "Replace the `MONTHS_LAST_DEVICE` column with those differences. You may need to [fill the NaN with zeroes](https://pandas.pydata.org/docs/reference/api/pandas.DataFrame.fillna.html), and [convert to type](https://pandas.pydata.org/docs/reference/api/pandas.DataFrame.astype.html) `int`.\n",
        "\n",
        "\n",
        "<font size=\"-1\" color=\"gray\">(Remove this cell when delivering.)</font>"
      ]
    },
    {
      "cell_type": "markdown",
      "metadata": {
        "id": "kpOLfv3-KCeG"
      },
      "source": [
        "<font size=\"+1\" color=\"red\">Replace this cell with code that replaces the **MONTHS_LAST_DEVICE** column to be equal to the difference, in periods of 30 days, between **LAST_DEVICE_CHANGE** and the `now` variable.</font>"
      ]
    },
    {
      "cell_type": "code",
      "source": [
        "\n",
        "# Convert LAST_DEVICE_CHANGE to datetime\n",
        "series_converted = pd.to_datetime(cleaned_dataset_3['LAST_DEVICE_CHANGE'], format='%Y%m%d')\n",
        "\n",
        "# Calculate the difference between 'now' and 'series_converted'\n",
        "difference = now - series_converted\n",
        "\n",
        "# Divide the difference by 30 days to get the number of months\n",
        "months_last_device = difference / timedelta(days=30)\n",
        "\n",
        "# Replace NaN values with 0 and convert to int\n",
        "input_dataset['MONTHS_LAST_DEVICE'] = months_last_device.fillna(0).astype(int)\n",
        "\n",
        "print(input_dataset[['LAST_DEVICE_CHANGE', 'MONTHS_LAST_DEVICE']].head())\n"
      ],
      "metadata": {
        "colab": {
          "base_uri": "https://localhost:8080/"
        },
        "id": "7P__-KCukzhj",
        "outputId": "9ef272cc-ae69-454a-eb72-3528bdcf23ba"
      },
      "execution_count": null,
      "outputs": [
        {
          "output_type": "stream",
          "name": "stdout",
          "text": [
            "   LAST_DEVICE_CHANGE  MONTHS_LAST_DEVICE\n",
            "0                 NaN                0.00\n",
            "1         20170401.00               26.00\n",
            "2                 NaN                0.00\n",
            "3         20171001.00               20.00\n",
            "4         20190101.00                5.00\n"
          ]
        }
      ]
    },
    {
      "cell_type": "markdown",
      "metadata": {
        "id": "we8_XmNkKCeG"
      },
      "source": [
        "<font size=\"+1\" color=\"red\">Replace this cell with code to update the **DURATION_LINE** value to be the difference, in days, between **LINE_ACTIVATION_DATE** and the `now` variable. Indicate the average of **DURATION_LINE** -- what is that in years, approximately?</font>"
      ]
    },
    {
      "cell_type": "code",
      "source": [
        "# Convert LINE_ACTIVATION_DATE to datetime\n",
        "line_activation_date = pd.to_datetime(cleaned_dataset_3['LINE_ACTIVATION_DATE'], format='%Y%m%d')\n",
        "\n",
        "# Calculate the difference in days between 'now' and 'line_activation_date'\n",
        "cleaned_dataset_3['DURATION_LINE'] = (now - line_activation_date).dt.days\n",
        "\n",
        "# Calculate the average DURATION_LINE\n",
        "average_duration_days = cleaned_dataset_3['DURATION_LINE'].mean()\n",
        "\n",
        "# Convert average duration from days to years\n",
        "average_duration_years = average_duration_days / 365\n",
        "\n",
        "# Print the average duration in years\n",
        "print(f\"Average DURATION_LINE: {average_duration_days} days, which is approximately {average_duration_years:.2f} years.\")\n"
      ],
      "metadata": {
        "colab": {
          "base_uri": "https://localhost:8080/"
        },
        "id": "jjpehVrSlkUw",
        "outputId": "8e89a5ce-8d51-4325-faae-55f42f739747"
      },
      "execution_count": null,
      "outputs": [
        {
          "output_type": "stream",
          "name": "stdout",
          "text": [
            "Average DURATION_LINE: 2018.5996376811595 days, which is approximately 5.53 years.\n"
          ]
        }
      ]
    },
    {
      "cell_type": "markdown",
      "metadata": {
        "id": "5cfvwQvEKCeG"
      },
      "source": [
        "\n",
        "## 2.4. Standarization and scaling of numerical variables"
      ]
    },
    {
      "cell_type": "markdown",
      "metadata": {
        "id": "bXHpawCNKCeG"
      },
      "source": [
        "Scaling a series involves changing the values. Standardization involves ensuring that the mean is 0 and the standard deviation is 1, while min-max scaling requires that the maximum is 1, the minimum is 0, and all remaining values are linearly interpolated.\n",
        "\n",
        "You can use [StandardScaler()](https://scikit-learn.org/stable/modules/generated/sklearn.preprocessing.StandardScaler.html) to standarize a variable, and [MinMaxScaler()](https://scikit-learn.org/stable/modules/generated/sklearn.preprocessing.MinMaxScaler.html) to perform min-max scaling.\n",
        "\n",
        "The following example shows how to use these:\n",
        "\n",
        "```python\n",
        "test_data = [{'x': -1.0}, {'x': 2.0}, {'x': 3.0}, {'x': 6.0}]\n",
        "test_df = pd.DataFrame(test_data)\n",
        "display(test_df)\n",
        "\n",
        "test_df['x_standardized'] = StandardScaler().fit_transform(test_df[['x']])\n",
        "test_df['x_minmaxscaled'] = MinMaxScaler().fit_transform(test_df[['x']])\n",
        "display(test_df)\n",
        "```\n",
        "\n",
        "<font size=\"-1\" color=\"gray\">(Remove this cell when delivering.)</font>"
      ]
    },
    {
      "cell_type": "markdown",
      "metadata": {
        "id": "C_nInSPKKCeG"
      },
      "source": [
        "<font size=\"+1\" color=\"red\">Replace this cell with code to standardize and min-max scale the **DATA_TRAFFIC_MONTH_1**, **VOICE_TRAFFIC_MONTH_1**, **BILLING_MONTH_1** and **DEVICE_COST_MONTH_1** columns. Save the results in new colums with the same name followed by **_STANDARD** and **_MINMAX** (e.g., DATA\\_TRAFFIC\\_MONTH\\_1\\_STAND, DATA\\_TRAFFIC\\_MONTH\\_1\\_MINMAX). Plot a histogram for each new variable.</font>\n",
        "\n"
      ]
    },
    {
      "cell_type": "code",
      "source": [
        "from sklearn.preprocessing import StandardScaler, MinMaxScaler\n",
        "\n",
        "# Standardize and Min-Max scale specified columns\n",
        "columns_to_scale = ['DATA_TRAFFIC_MONTH_1', 'VOICE_TRAFFIC_MONTH_1', 'BILLING_MONTH_1', 'DEVICE_COST_MONTH_1']\n",
        "\n",
        "for column in columns_to_scale:\n",
        "    # Standardization\n",
        "    cleaned_dataset_3[column + '_STANDARD'] = StandardScaler().fit_transform(cleaned_dataset_3[[column]])\n",
        "\n",
        "    # Min-Max Scaling\n",
        "    cleaned_dataset_3[column + '_MINMAX'] = MinMaxScaler().fit_transform(cleaned_dataset_3[[column]])\n",
        "\n",
        "# Plot histograms for each new variable\n",
        "fig, axes = plt.subplots(nrows=4, ncols=2, figsize=(12, 12))\n",
        "\n",
        "for i, column in enumerate(columns_to_scale):\n",
        "    # Histogram for standardized\n",
        "    axes[i, 0].hist(cleaned_dataset_3[column + '_STANDARD'], bins=20, color='blue', alpha=0.7)\n",
        "    axes[i, 0].set_title(f'Histogram of {column} (Standardized)')\n",
        "    axes[i, 0].set_xlabel('Value')\n",
        "    axes[i, 0].set_ylabel('Frequency')\n",
        "\n",
        "    # Histogram for Min-Max scaled\n",
        "    axes[i, 1].hist(cleaned_dataset_3[column + '_MINMAX'], bins=20, color='orange', alpha=0.7)\n",
        "    axes[i, 1].set_title(f'Histogram of {column} (Min-Max Scaled)')\n",
        "    axes[i, 1].set_xlabel('Value')\n",
        "    axes[i, 1].set_ylabel('Frequency')\n",
        "\n",
        "\n",
        "plt.show()\n"
      ],
      "metadata": {
        "colab": {
          "base_uri": "https://localhost:8080/",
          "height": 1000
        },
        "id": "UWl7PyPyl6ve",
        "outputId": "fd87e28c-70fb-4a35-e54d-dcc13159c714"
      },
      "execution_count": null,
      "outputs": [
        {
          "output_type": "display_data",
          "data": {
            "text/plain": [
              "<Figure size 1200x1200 with 8 Axes>"
            ],
            "image/png": "[encoded data removed]"
          },
          "metadata": {}
        }
      ]
    },
    {
      "cell_type": "markdown",
      "metadata": {
        "id": "F6-amRB1KCeH"
      },
      "source": [
        "## 2.5. Convert categorical columns to dummy binary variables"
      ]
    },
    {
      "cell_type": "markdown",
      "metadata": {
        "id": "FmgynQyFKCeH"
      },
      "source": [
        "Categorical variables usually need to be transformed into numerical values to apply some machine learning methods.\n",
        "\n",
        "Use [LabelEncoder()](https://scikit-learn.org/stable/modules/generated/sklearn.preprocessing.LabelEncoder.html) to transform a categorical variable to integer values. Example:\n",
        "\n",
        "```python\n",
        "colors_data = [{'color': 'Blue'}, {'color': 'Red'}, {'color': 'Orange'},\n",
        "               {'color': 'Blue'}, {'color': 'Orange'}, {'color': 'Blue'}]\n",
        "colors_df = pd.DataFrame(colors_data, columns=['color'])\n",
        "\n",
        "colors_df['colors_int_encoded'] = LabelEncoder().fit_transform(colors_df['color'])\n",
        "display(colors_df)\n",
        "```\n",
        "\n",
        "<font size=\"-1\" color=\"gray\">(Remove this cell when delivering.)</font>"
      ]
    },
    {
      "cell_type": "markdown",
      "metadata": {
        "id": "C9V4gJOwKCeH"
      },
      "source": [
        "<font size=\"+1\" color=\"red\">Create variable **PREVIOUS_DEVICE_BRAND_INT_ENCODED** containing an integer encoding of variable **PREVIOUS_DEVICE_BRAND**.</font>"
      ]
    },
    {
      "cell_type": "code",
      "source": [
        "# Create a LabelEncoder instance\n",
        "label_encoder = LabelEncoder()\n",
        "\n",
        "# Transform the PREVIOUS_DEVICE_BRAND categorical variable to integer values\n",
        "cleaned_dataset_3['PREVIOUS_DEVICE_BRAND_INT_ENCODED'] = label_encoder.fit_transform(cleaned_dataset_3['PREVIOUS_DEVICE_BRAND'])\n",
        "\n",
        "# Display the updated DataFrame\n",
        "print(cleaned_dataset_3[['PREVIOUS_DEVICE_BRAND', 'PREVIOUS_DEVICE_BRAND_INT_ENCODED']].head())"
      ],
      "metadata": {
        "colab": {
          "base_uri": "https://localhost:8080/"
        },
        "id": "Kx8ip8yAovCU",
        "outputId": "ff8da7ab-4e34-40f5-b44f-7adbda1d14a0"
      },
      "execution_count": null,
      "outputs": [
        {
          "output_type": "stream",
          "name": "stdout",
          "text": [
            "  PREVIOUS_DEVICE_BRAND  PREVIOUS_DEVICE_BRAND_INT_ENCODED\n",
            "0              Motorola                                  2\n",
            "1               Samsung                                  4\n",
            "2              Motorola                                  2\n",
            "3                 Apple                                  0\n",
            "4                Outros                                  3\n"
          ]
        }
      ]
    },
    {
      "cell_type": "markdown",
      "metadata": {
        "id": "5aElGat5KCeH"
      },
      "source": [
        "You can use [get_dummies()](https://pandas.pydata.org/pandas-docs/stable/reference/api/pandas.get_dummies.html) to convert a categorical variable to multiple columns using one-hot encoding. Example:\n",
        "\n",
        "```\n",
        "colors_data = [{'color': 'Blue'}, {'color': 'Red'}, {'color': 'Orange'},\n",
        "               {'color': 'Blue'}, {'color': 'Orange'}, {'color': 'Blue'}]\n",
        "colors_df = pd.DataFrame(colors_data, columns=['color'])\n",
        "\n",
        "color_dummies = pd.get_dummies(colors_df['color'], prefix='color_')\n",
        "colors_df_with_dummies = colors_df.join(color_dummies)\n",
        "display(colors_df_with_dummies)\n",
        "```\n",
        "\n",
        "\n",
        "<font size=\"-1\" color=\"gray\">(Remove this cell when delivering.)</font>"
      ]
    },
    {
      "cell_type": "markdown",
      "metadata": {
        "id": "XJ1nAC_IKCeH"
      },
      "source": [
        "<font size=\"+1\" color=\"red\">Replace this cell with code to convert **PREVIOUS_DEVICE_MANUF** to dummy binary variables.</font>"
      ]
    },
    {
      "cell_type": "code",
      "source": [
        "# Create dummy binary variables for the PREVIOUS_DEVICE_MANUF column\n",
        "previous_device_manuf_dummies = pd.get_dummies(cleaned_dataset_3['PREVIOUS_DEVICE_MANUF'], prefix='manuf_')\n",
        "\n",
        "# Join the dummy variables with the original DataFrame\n",
        "input_dataset_with_dummies = cleaned_dataset_3.join(previous_device_manuf_dummies)\n",
        "\n",
        "# Display the updated DataFrame with the new dummy variables\n",
        "print(input_dataset_with_dummies.head())\n"
      ],
      "metadata": {
        "colab": {
          "base_uri": "https://localhost:8080/"
        },
        "id": "DQXks2wcpD83",
        "outputId": "4b957a46-d049-473d-8ee8-bab2228fd8ca",
        "collapsed": true
      },
      "execution_count": null,
      "outputs": [
        {
          "output_type": "stream",
          "name": "stdout",
          "text": [
            "                                    PURCHASED_DEVICE  DEVICE_VALUE  \\\n",
            "0  TGLG29162000_LG X210BMW SMARTPHONE PRETO PPB/P...        393.00   \n",
            "1  TGLG29162000_LG X210BMW SMARTPHONE PRETO PPB/P...        345.00   \n",
            "2     TGMO35912000_MOTOROLA XT1922 SMARTPHONE INDIGO        875.00   \n",
            "3  TGLG29162000_LG X210BMW SMARTPHONE PRETO PPB/P...        345.00   \n",
            "4     TGMO35912000_MOTOROLA XT1922 SMARTPHONE INDIGO        609.00   \n",
            "\n",
            "   LAST_DEVICE_CHANGE  DATA_TRAFFIC_MONTH_1  DATA_TRAFFIC_MONTH_2  \\\n",
            "0                 NaN                465.25                530.81   \n",
            "1         20170401.00                232.24                272.26   \n",
            "2                 NaN                484.62                264.14   \n",
            "3         20171001.00               4255.46                836.12   \n",
            "4         20190101.00               5014.10               2659.05   \n",
            "\n",
            "   DATA_TRAFFIC_MONTH_3  DATA_TRAFFIC_MONTH_4  DATA_TRAFFIC_MONTH_5  \\\n",
            "0                530.81                781.13                398.99   \n",
            "1                272.26                704.89                412.72   \n",
            "2                264.14                348.50                380.44   \n",
            "3                836.12                691.56                146.77   \n",
            "4               2659.05               2435.04               2053.98   \n",
            "\n",
            "   DATA_TRAFFIC_MONTH_6  VOICE_TRAFFIC_MONTH_1  ...  \\\n",
            "0               1169.40                  47.50  ...   \n",
            "1                365.14                   3.70  ...   \n",
            "2                250.74                  26.10  ...   \n",
            "3                302.49                 175.70  ...   \n",
            "4               1553.12                 383.90  ...   \n",
            "\n",
            "   manuf__Telit Communications SpA  manuf__Topmax Glory Limited  \\\n",
            "0                            False                        False   \n",
            "1                            False                        False   \n",
            "2                            False                        False   \n",
            "3                            False                        False   \n",
            "4                            False                        False   \n",
            "\n",
            "   manuf__Umi Network Technology Co Limited  manuf__United Mobile  \\\n",
            "0                                     False                 False   \n",
            "1                                     False                 False   \n",
            "2                                     False                 False   \n",
            "3                                     False                 False   \n",
            "4                                     False                 False   \n",
            "\n",
            "   manuf__United Time Hong Kong Ltd  \\\n",
            "0                             False   \n",
            "1                             False   \n",
            "2                             False   \n",
            "3                             False   \n",
            "4                             False   \n",
            "\n",
            "   manuf__Vikin Communication Technology Co Limited  \\\n",
            "0                                             False   \n",
            "1                                             False   \n",
            "2                                             False   \n",
            "3                                             False   \n",
            "4                                             False   \n",
            "\n",
            "   manuf__Vogtec (H.K) Co Ltd  manuf__Xiaomi Communications Co Ltd  \\\n",
            "0                       False                                False   \n",
            "1                       False                                False   \n",
            "2                       False                                False   \n",
            "3                       False                                False   \n",
            "4                       False                                False   \n",
            "\n",
            "   manuf__ZTE Corporation  manuf__u-blox AG  \n",
            "0                   False             False  \n",
            "1                   False             False  \n",
            "2                   False             False  \n",
            "3                   False             False  \n",
            "4                   False             False  \n",
            "\n",
            "[5 rows x 110 columns]\n"
          ]
        }
      ]
    },
    {
      "cell_type": "markdown",
      "metadata": {
        "id": "sBSet-h8KCeH"
      },
      "source": [
        "## 2.6. Feature generation"
      ]
    },
    {
      "cell_type": "markdown",
      "metadata": {
        "id": "2GaLGLDdKCeH"
      },
      "source": [
        "In the current dataset we have a historic of 6 months for data traffic, voice traffic, billing and device cost. Feature generation consists of creating new attributes from the current dataset that can help us to create, e.g., better predictive models.\n",
        "\n",
        "<font size=\"-1\" color=\"gray\">(Remove this cell when delivering.)</font>"
      ]
    },
    {
      "cell_type": "markdown",
      "metadata": {
        "id": "RQNhbupYKCeI"
      },
      "source": [
        "<font size=\"+1\" color=\"red\">Replace this cell with code to create from the 6 months of **DATA_TRAFFIC\\_MONTH\\_[1-6]**, **VOICE_TRAFFIC\\_MONTH\\_[1-6]**, **BILLING\\_MONTH\\_[1-6]** and **DEVICE_COST\\_MONTH\\_[1-6]**, new columns with the mean, maximum, minimum, range (i.e., difference between maximum and minimum) for each element. For instance, column **DATA_TRAFFIC_MEAN** should contain the average of these six numbers: **DATA_TRAFFIC_MONTH_1**, **DATA_TRAFFIC_MONTH_2**, ..., **DATA_TRAFFIC_MONTH_6**.</font>"
      ]
    },
    {
      "cell_type": "code",
      "source": [
        "# We define the columnes to use to compute the new columns\n",
        "groups = ['DATA_TRAFFIC', 'VOICE_TRAFFIC', 'BILLING', 'DEVICE_COST']\n",
        "\n",
        "for group in groups:\n",
        "    new_columns = [f'{group}_MONTH_{i}' for i in range(1, 7)]\n",
        "\n",
        "    # Compute the stadistics and store the new columns with the results\n",
        "    cleaned_dataset_3[f'{group}_MEAN'] = cleaned_dataset_3[new_columns].mean(axis=1)\n",
        "    cleaned_dataset_3[f'{group}_MAX'] = cleaned_dataset_3[new_columns].max(axis=1)\n",
        "    cleaned_dataset_3[f'{group}_MIN'] = cleaned_dataset_3[new_columns].min(axis=1)\n",
        "    cleaned_dataset_3[f'{group}_RANGE'] = cleaned_dataset_3[f'{group}_MAX'] - cleaned_dataset_3[f'{group}_MIN']\n"
      ],
      "metadata": {
        "id": "BGDMvS6BXNhB"
      },
      "execution_count": null,
      "outputs": []
    },
    {
      "cell_type": "markdown",
      "metadata": {
        "id": "bCjEraqHKCeI"
      },
      "source": [
        "<font size=\"+1\" color=\"red\">Replace this cell with code create an additional column **DEVICE_COST_TO_BILLING_RATIO** containing the ratio between **DEVICE_COST_MEAN** and **BILLING_MEAN** and plot its distribution.</font>"
      ]
    },
    {
      "cell_type": "code",
      "source": [
        "# Create DEVICE_COST_TO_BILLING_RATIO column\n",
        "cleaned_dataset_3['DEVICE_COST_TO_BILLING_RATIO'] = cleaned_dataset_3['DEVICE_COST_MEAN'] / cleaned_dataset_3['BILLING_MEAN']\n",
        "\n",
        "# Plot the distribution of DEVICE_COST_TO_BILLING_RATIO\n",
        "sns.histplot(data=cleaned_dataset_3, x='DEVICE_COST_TO_BILLING_RATIO', bins=20, kde=True)\n",
        "plt.title('Distribution of DEVICE_COST_TO_BILLING_RATIO')\n",
        "plt.xlabel('DEVICE_COST_TO_BILLING_RATIO')\n",
        "plt.ylabel('Frequency')\n",
        "plt.yscale('log')\n",
        "plt.show()"
      ],
      "metadata": {
        "colab": {
          "base_uri": "https://localhost:8080/",
          "height": 472
        },
        "id": "krtmr5dHr2na",
        "outputId": "b1e8e992-6420-469c-9982-7c7584bc27ca"
      },
      "execution_count": null,
      "outputs": [
        {
          "output_type": "display_data",
          "data": {
            "text/plain": [
              "<Figure size 640x480 with 1 Axes>"
            ],
            "image/png": "[encoded data removed]"
          },
          "metadata": {}
        }
      ]
    },
    {
      "cell_type": "markdown",
      "metadata": {
        "id": "Dx5jbKPaKCeI"
      },
      "source": [
        "<font size=\"+1\" color=\"red\">Replace this cell with a brief commentary on the distribution of the variable **DEVICE_COST_TO_BILLING_RATIO**. Can you recognize its distribution?</font>"
      ]
    },
    {
      "cell_type": "markdown",
      "source": [
        "The distribution of the DEVICE_COST_TO_BILLING_RATIO appears to be nonsymetric with high frequency to the left and a bit to the right, a significant concentration of values close to [0-8]. This type of distribution looks like an exponential distribution or a log distribution because The majority of data points are in low ratio (0-5), close to lower values. And the fall in the histogram is abrupt. There is an exception in the number 34, because there is case where device cost is higher than billing."
      ],
      "metadata": {
        "id": "UqkkrNhEtX3i"
      }
    },
    {
      "cell_type": "markdown",
      "metadata": {
        "id": "XfcPj3HJKCeI"
      },
      "source": [
        "## 2.7. Text parsing/processing"
      ]
    },
    {
      "cell_type": "markdown",
      "metadata": {
        "id": "5nCA9rrnKCeI"
      },
      "source": [
        "In machine learning, text processing is a very useful tool that can be used to improve datasets. In some use cases, for instance customer care applications using digital channels as Whatsapp, Facebook, etc..., data scientist teams mainly work with text data.\n",
        "\n",
        "One of the text processing technique is to extract concrete words or tokens from a sentence or documents. Regular expressions are a great tool to extract data trough these patterns.\n",
        "\n",
        "In this dataset, note that **PURCHASED_DEVICE** is a variable that is formed by a \"**device_code**\"+\"**_**\"+\"**manufacture name**\"+\"**  **\"+\"**device model**\". We want to split this variable into its components.\n",
        "\n",
        "Tip: use [str.split](https://pandas.pydata.org/pandas-docs/stable/reference/api/pandas.Series.str.split.html) to separate a string into several parts.\n",
        "\n",
        "<font size=\"-1\" color=\"gray\">(Remove this cell when delivering.)</font>"
      ]
    },
    {
      "cell_type": "markdown",
      "metadata": {
        "id": "Q_0-nossKCeI"
      },
      "source": [
        "<font size=\"+1\" color=\"red\">Replace this cell with code to use the **PURCHASED_DEVICE** variable to create 3 new columns with the following variables names: **PURCHASED_DEVICE_CODE**, **PURCHASED_DEVICE_MANUFACTURER** and **PURCHASED_DEVICE_MODEL**.</font>"
      ]
    },
    {
      "cell_type": "code",
      "source": [
        "\n",
        "# Splitting the PURCHASED_DEVICE variable into 3 parts\n",
        "split_columns = cleaned_dataset_3['PURCHASED_DEVICE'].str.split('_', expand=True)\n",
        "\n",
        "# Assigning each part to a new column\n",
        "cleaned_dataset_3['PURCHASED_DEVICE_CODE'] = split_columns[0]\n",
        "cleaned_dataset_3['PURCHASED_DEVICE_MANUFACTURER_MODEL'] = split_columns[1]\n",
        "\n",
        "# Further split the manufacturer and model\n",
        "manufacturer_model_split = cleaned_dataset_3['PURCHASED_DEVICE_MANUFACTURER_MODEL'].str.split(' ', n=1, expand=True)\n",
        "cleaned_dataset_3['PURCHASED_DEVICE_MANUFACTURER'] = manufacturer_model_split[0]\n",
        "cleaned_dataset_3['PURCHASED_DEVICE_MODEL'] = manufacturer_model_split[1]\n",
        "\n",
        "# Drop the intermediate column if no longer needed\n",
        "cleaned_dataset_3.drop(columns=['PURCHASED_DEVICE_MANUFACTURER_MODEL'], inplace=True)\n",
        "\n",
        "# Display the final DataFrame\n",
        "cleaned_dataset_3[['PURCHASED_DEVICE_CODE', 'PURCHASED_DEVICE_MANUFACTURER', 'PURCHASED_DEVICE_MODEL']].head()"
      ],
      "metadata": {
        "colab": {
          "base_uri": "https://localhost:8080/",
          "height": 206
        },
        "id": "ylsx-ry49XIj",
        "outputId": "92ff3766-874e-4f4d-efc4-9b796e2ed517"
      },
      "execution_count": null,
      "outputs": [
        {
          "output_type": "execute_result",
          "data": {
            "text/plain": [
              "  PURCHASED_DEVICE_CODE PURCHASED_DEVICE_MANUFACTURER  \\\n",
              "0          TGLG29162000                            LG   \n",
              "1          TGLG29162000                            LG   \n",
              "2          TGMO35912000                      MOTOROLA   \n",
              "3          TGLG29162000                            LG   \n",
              "4          TGMO35912000                      MOTOROLA   \n",
              "\n",
              "                  PURCHASED_DEVICE_MODEL  \n",
              "0  X210BMW SMARTPHONE PRETO PPB/P1769/07  \n",
              "1  X210BMW SMARTPHONE PRETO PPB/P1769/07  \n",
              "2               XT1922 SMARTPHONE INDIGO  \n",
              "3  X210BMW SMARTPHONE PRETO PPB/P1769/07  \n",
              "4               XT1922 SMARTPHONE INDIGO  "
            ],
            "text/html": [
              "\n",
              "  <div id=\"df-f03d62e6-cbee-408e-8fb8-1b77fc634536\" class=\"colab-df-container\">\n",
              "    <div>\n",
              "<style scoped>\n",
              "    .dataframe tbody tr th:only-of-type {\n",
              "        vertical-align: middle;\n",
              "    }\n",
              "\n",
              "    .dataframe tbody tr th {\n",
              "        vertical-align: top;\n",
              "    }\n",
              "\n",
              "    .dataframe thead th {\n",
              "        text-align: right;\n",
              "    }\n",
              "</style>\n",
              "<table border=\"1\" class=\"dataframe\">\n",
              "  <thead>\n",
              "    <tr style=\"text-align: right;\">\n",
              "      <th></th>\n",
              "      <th>PURCHASED_DEVICE_CODE</th>\n",
              "      <th>PURCHASED_DEVICE_MANUFACTURER</th>\n",
              "      <th>PURCHASED_DEVICE_MODEL</th>\n",
              "    </tr>\n",
              "  </thead>\n",
              "  <tbody>\n",
              "    <tr>\n",
              "      <th>0</th>\n",
              "      <td>TGLG29162000</td>\n",
              "      <td>LG</td>\n",
              "      <td>X210BMW SMARTPHONE PRETO PPB/P1769/07</td>\n",
              "    </tr>\n",
              "    <tr>\n",
              "      <th>1</th>\n",
              "      <td>TGLG29162000</td>\n",
              "      <td>LG</td>\n",
              "      <td>X210BMW SMARTPHONE PRETO PPB/P1769/07</td>\n",
              "    </tr>\n",
              "    <tr>\n",
              "      <th>2</th>\n",
              "      <td>TGMO35912000</td>\n",
              "      <td>MOTOROLA</td>\n",
              "      <td>XT1922 SMARTPHONE INDIGO</td>\n",
              "    </tr>\n",
              "    <tr>\n",
              "      <th>3</th>\n",
              "      <td>TGLG29162000</td>\n",
              "      <td>LG</td>\n",
              "      <td>X210BMW SMARTPHONE PRETO PPB/P1769/07</td>\n",
              "    </tr>\n",
              "    <tr>\n",
              "      <th>4</th>\n",
              "      <td>TGMO35912000</td>\n",
              "      <td>MOTOROLA</td>\n",
              "      <td>XT1922 SMARTPHONE INDIGO</td>\n",
              "    </tr>\n",
              "  </tbody>\n",
              "</table>\n",
              "</div>\n",
              "    <div class=\"colab-df-buttons\">\n",
              "\n",
              "  <div class=\"colab-df-container\">\n",
              "    <button class=\"colab-df-convert\" onclick=\"convertToInteractive('df-f03d62e6-cbee-408e-8fb8-1b77fc634536')\"\n",
              "            title=\"Convert this dataframe to an interactive table.\"\n",
              "            style=\"display:none;\">\n",
              "\n",
              "  <svg xmlns=\"http://www.w3.org/2000/svg\" height=\"24px\" viewBox=\"0 -960 960 960\">\n",
              "    <path d=\"M120-120v-720h720v720H120Zm60-500h600v-160H180v160Zm220 220h160v-160H400v160Zm0 220h160v-160H400v160ZM180-400h160v-160H180v160Zm440 0h160v-160H620v160ZM180-180h160v-160H180v160Zm440 0h160v-160H620v160Z\"/>\n",
              "  </svg>\n",
              "    </button>\n",
              "\n",
              "  <style>\n",
              "    .colab-df-container {\n",
              "      display:flex;\n",
              "      gap: 12px;\n",
              "    }\n",
              "\n",
              "    .colab-df-convert {\n",
              "      background-color: #E8F0FE;\n",
              "      border: none;\n",
              "      border-radius: 50%;\n",
              "      cursor: pointer;\n",
              "      display: none;\n",
              "      fill: #1967D2;\n",
              "      height: 32px;\n",
              "      padding: 0 0 0 0;\n",
              "      width: 32px;\n",
              "    }\n",
              "\n",
              "    .colab-df-convert:hover {\n",
              "      background-color: #E2EBFA;\n",
              "      box-shadow: 0px 1px 2px rgba(60, 64, 67, 0.3), 0px 1px 3px 1px rgba(60, 64, 67, 0.15);\n",
              "      fill: #174EA6;\n",
              "    }\n",
              "\n",
              "    .colab-df-buttons div {\n",
              "      margin-bottom: 4px;\n",
              "    }\n",
              "\n",
              "    [theme=dark] .colab-df-convert {\n",
              "      background-color: #3B4455;\n",
              "      fill: #D2E3FC;\n",
              "    }\n",
              "\n",
              "    [theme=dark] .colab-df-convert:hover {\n",
              "      background-color: #434B5C;\n",
              "      box-shadow: 0px 1px 3px 1px rgba(0, 0, 0, 0.15);\n",
              "      filter: drop-shadow(0px 1px 2px rgba(0, 0, 0, 0.3));\n",
              "      fill: #FFFFFF;\n",
              "    }\n",
              "  </style>\n",
              "\n",
              "    <script>\n",
              "      const buttonEl =\n",
              "        document.querySelector('#df-f03d62e6-cbee-408e-8fb8-1b77fc634536 button.colab-df-convert');\n",
              "      buttonEl.style.display =\n",
              "        google.colab.kernel.accessAllowed ? 'block' : 'none';\n",
              "\n",
              "      async function convertToInteractive(key) {\n",
              "        const element = document.querySelector('#df-f03d62e6-cbee-408e-8fb8-1b77fc634536');\n",
              "        const dataTable =\n",
              "          await google.colab.kernel.invokeFunction('convertToInteractive',\n",
              "                                                    [key], {});\n",
              "        if (!dataTable) return;\n",
              "\n",
              "        const docLinkHtml = 'Like what you see? Visit the ' +\n",
              "          '<a target=\"_blank\" href=https://colab.research.google.com/notebooks/data_table.ipynb>data table notebook</a>'\n",
              "          + ' to learn more about interactive tables.';\n",
              "        element.innerHTML = '';\n",
              "        dataTable['output_type'] = 'display_data';\n",
              "        await google.colab.output.renderOutput(dataTable, element);\n",
              "        const docLink = document.createElement('div');\n",
              "        docLink.innerHTML = docLinkHtml;\n",
              "        element.appendChild(docLink);\n",
              "      }\n",
              "    </script>\n",
              "  </div>\n",
              "\n",
              "\n",
              "<div id=\"df-5e69a6c3-7668-4839-8618-3440c1e39088\">\n",
              "  <button class=\"colab-df-quickchart\" onclick=\"quickchart('df-5e69a6c3-7668-4839-8618-3440c1e39088')\"\n",
              "            title=\"Suggest charts\"\n",
              "            style=\"display:none;\">\n",
              "\n",
              "<svg xmlns=\"http://www.w3.org/2000/svg\" height=\"24px\"viewBox=\"0 0 24 24\"\n",
              "     width=\"24px\">\n",
              "    <g>\n",
              "        <path d=\"M19 3H5c-1.1 0-2 .9-2 2v14c0 1.1.9 2 2 2h14c1.1 0 2-.9 2-2V5c0-1.1-.9-2-2-2zM9 17H7v-7h2v7zm4 0h-2V7h2v10zm4 0h-2v-4h2v4z\"/>\n",
              "    </g>\n",
              "</svg>\n",
              "  </button>\n",
              "\n",
              "<style>\n",
              "  .colab-df-quickchart {\n",
              "      --bg-color: #E8F0FE;\n",
              "      --fill-color: #1967D2;\n",
              "      --hover-bg-color: #E2EBFA;\n",
              "      --hover-fill-color: #174EA6;\n",
              "      --disabled-fill-color: #AAA;\n",
              "      --disabled-bg-color: #DDD;\n",
              "  }\n",
              "\n",
              "  [theme=dark] .colab-df-quickchart {\n",
              "      --bg-color: #3B4455;\n",
              "      --fill-color: #D2E3FC;\n",
              "      --hover-bg-color: #434B5C;\n",
              "      --hover-fill-color: #FFFFFF;\n",
              "      --disabled-bg-color: #3B4455;\n",
              "      --disabled-fill-color: #666;\n",
              "  }\n",
              "\n",
              "  .colab-df-quickchart {\n",
              "    background-color: var(--bg-color);\n",
              "    border: none;\n",
              "    border-radius: 50%;\n",
              "    cursor: pointer;\n",
              "    display: none;\n",
              "    fill: var(--fill-color);\n",
              "    height: 32px;\n",
              "    padding: 0;\n",
              "    width: 32px;\n",
              "  }\n",
              "\n",
              "  .colab-df-quickchart:hover {\n",
              "    background-color: var(--hover-bg-color);\n",
              "    box-shadow: 0 1px 2px rgba(60, 64, 67, 0.3), 0 1px 3px 1px rgba(60, 64, 67, 0.15);\n",
              "    fill: var(--button-hover-fill-color);\n",
              "  }\n",
              "\n",
              "  .colab-df-quickchart-complete:disabled,\n",
              "  .colab-df-quickchart-complete:disabled:hover {\n",
              "    background-color: var(--disabled-bg-color);\n",
              "    fill: var(--disabled-fill-color);\n",
              "    box-shadow: none;\n",
              "  }\n",
              "\n",
              "  .colab-df-spinner {\n",
              "    border: 2px solid var(--fill-color);\n",
              "    border-color: transparent;\n",
              "    border-bottom-color: var(--fill-color);\n",
              "    animation:\n",
              "      spin 1s steps(1) infinite;\n",
              "  }\n",
              "\n",
              "  @keyframes spin {\n",
              "    0% {\n",
              "      border-color: transparent;\n",
              "      border-bottom-color: var(--fill-color);\n",
              "      border-left-color: var(--fill-color);\n",
              "    }\n",
              "    20% {\n",
              "      border-color: transparent;\n",
              "      border-left-color: var(--fill-color);\n",
              "      border-top-color: var(--fill-color);\n",
              "    }\n",
              "    30% {\n",
              "      border-color: transparent;\n",
              "      border-left-color: var(--fill-color);\n",
              "      border-top-color: var(--fill-color);\n",
              "      border-right-color: var(--fill-color);\n",
              "    }\n",
              "    40% {\n",
              "      border-color: transparent;\n",
              "      border-right-color: var(--fill-color);\n",
              "      border-top-color: var(--fill-color);\n",
              "    }\n",
              "    60% {\n",
              "      border-color: transparent;\n",
              "      border-right-color: var(--fill-color);\n",
              "    }\n",
              "    80% {\n",
              "      border-color: transparent;\n",
              "      border-right-color: var(--fill-color);\n",
              "      border-bottom-color: var(--fill-color);\n",
              "    }\n",
              "    90% {\n",
              "      border-color: transparent;\n",
              "      border-bottom-color: var(--fill-color);\n",
              "    }\n",
              "  }\n",
              "</style>\n",
              "\n",
              "  <script>\n",
              "    async function quickchart(key) {\n",
              "      const quickchartButtonEl =\n",
              "        document.querySelector('#' + key + ' button');\n",
              "      quickchartButtonEl.disabled = true;  // To prevent multiple clicks.\n",
              "      quickchartButtonEl.classList.add('colab-df-spinner');\n",
              "      try {\n",
              "        const charts = await google.colab.kernel.invokeFunction(\n",
              "            'suggestCharts', [key], {});\n",
              "      } catch (error) {\n",
              "        console.error('Error during call to suggestCharts:', error);\n",
              "      }\n",
              "      quickchartButtonEl.classList.remove('colab-df-spinner');\n",
              "      quickchartButtonEl.classList.add('colab-df-quickchart-complete');\n",
              "    }\n",
              "    (() => {\n",
              "      let quickchartButtonEl =\n",
              "        document.querySelector('#df-5e69a6c3-7668-4839-8618-3440c1e39088 button');\n",
              "      quickchartButtonEl.style.display =\n",
              "        google.colab.kernel.accessAllowed ? 'block' : 'none';\n",
              "    })();\n",
              "  </script>\n",
              "</div>\n",
              "\n",
              "    </div>\n",
              "  </div>\n"
            ],
            "application/vnd.google.colaboratory.intrinsic+json": {
              "type": "dataframe",
              "summary": "{\n  \"name\": \"cleaned_dataset_3[['PURCHASED_DEVICE_CODE', 'PURCHASED_DEVICE_MANUFACTURER', 'PURCHASED_DEVICE_MODEL']]\",\n  \"rows\": 5,\n  \"fields\": [\n    {\n      \"column\": \"PURCHASED_DEVICE_CODE\",\n      \"properties\": {\n        \"dtype\": \"category\",\n        \"num_unique_values\": 2,\n        \"samples\": [\n          \"TGMO35912000\",\n          \"TGLG29162000\"\n        ],\n        \"semantic_type\": \"\",\n        \"description\": \"\"\n      }\n    },\n    {\n      \"column\": \"PURCHASED_DEVICE_MANUFACTURER\",\n      \"properties\": {\n        \"dtype\": \"category\",\n        \"num_unique_values\": 2,\n        \"samples\": [\n          \"MOTOROLA\",\n          \"LG\"\n        ],\n        \"semantic_type\": \"\",\n        \"description\": \"\"\n      }\n    },\n    {\n      \"column\": \"PURCHASED_DEVICE_MODEL\",\n      \"properties\": {\n        \"dtype\": \"category\",\n        \"num_unique_values\": 2,\n        \"samples\": [\n          \"XT1922 SMARTPHONE INDIGO\",\n          \"X210BMW SMARTPHONE PRETO PPB/P1769/07\"\n        ],\n        \"semantic_type\": \"\",\n        \"description\": \"\"\n      }\n    }\n  ]\n}"
            }
          },
          "metadata": {},
          "execution_count": 28
        }
      ]
    },
    {
      "cell_type": "markdown",
      "metadata": {
        "id": "PkvI2QPBKCeI"
      },
      "source": [
        "<font size=\"+1\" color=\"red\">Replace this cell with code to create two tables: one with the number of devices per manufacturer in **PURCHASED_DEVICE_MANUFACTURER** and one with the number of devices per manufacturer in  **PREVIOUS_DEVICE_MANUF**."
      ]
    },
    {
      "cell_type": "code",
      "source": [
        "# Table 1: Number of devices per manufacturer in PURCHASED_DEVICE_MANUFACTURER\n",
        "devices_per_manufacturer_purchased = cleaned_dataset_3['PURCHASED_DEVICE_MANUFACTURER'].value_counts().reset_index()\n",
        "devices_per_manufacturer_purchased.columns = ['Manufacturer', 'Number of Devices']\n",
        "\n",
        "# Table 2: Number of devices per manufacturer in PREVIOUS_DEVICE_MANUF\n",
        "devices_per_manufacturer_previous = cleaned_dataset_3['PREVIOUS_DEVICE_MANUF'].value_counts().reset_index()\n",
        "devices_per_manufacturer_previous.columns = ['Manufacturer', 'Number of Devices']"
      ],
      "metadata": {
        "id": "toQ54zJHyplf"
      },
      "execution_count": null,
      "outputs": []
    },
    {
      "cell_type": "code",
      "source": [
        "# Print the table\n",
        "print(\"Number of devices per manufacturer in PURCHASED_DEVICE_MANUFACTURER:\")\n",
        "print(devices_per_manufacturer_purchased)"
      ],
      "metadata": {
        "colab": {
          "base_uri": "https://localhost:8080/"
        },
        "id": "4gOD084QvL3Q",
        "outputId": "530276b1-8fe5-458e-a906-ca9867631ab2"
      },
      "execution_count": null,
      "outputs": [
        {
          "output_type": "stream",
          "name": "stdout",
          "text": [
            "Number of devices per manufacturer in PURCHASED_DEVICE_MANUFACTURER:\n",
            "  Manufacturer  Number of Devices\n",
            "0           LG               3556\n",
            "1      SAMSUNG               1094\n",
            "2     MOTOROLA                630\n",
            "3        APPLE                448\n",
            "4      ALCATEL                258\n",
            "5         ASUS                  2\n"
          ]
        }
      ]
    },
    {
      "cell_type": "code",
      "source": [
        "# Print the table\n",
        "print(\"\\nNumber of devices per manufacturer in PREVIOUS_DEVICE_MANUF:\")\n",
        "print(devices_per_manufacturer_previous)"
      ],
      "metadata": {
        "colab": {
          "base_uri": "https://localhost:8080/"
        },
        "id": "BmXg6jcpvIAk",
        "outputId": "dcc25f87-3c77-41fe-8155-ecc52c80ecec"
      },
      "execution_count": null,
      "outputs": [
        {
          "output_type": "stream",
          "name": "stdout",
          "text": [
            "\n",
            "Number of devices per manufacturer in PREVIOUS_DEVICE_MANUF:\n",
            "                                     Manufacturer  Number of Devices\n",
            "0                                   Samsung Korea               1879\n",
            "1                                       Apple Inc               1495\n",
            "2         Motorola Mobility LLC, a Lenovo Company                849\n",
            "3                             LG Electronics Inc.                506\n",
            "4                           TCL Communication Ltd                279\n",
            "..                                            ...                ...\n",
            "62          Lanxun Technology (Hong Kong) Limited                  1\n",
            "63  Beijing Flyscale Technologies Company Limited                  1\n",
            "64                        Meizu Technology Co Ltd                  1\n",
            "65                    TP-Link Technologies Co Ltd                  1\n",
            "66                            Vogtec (H.K) Co Ltd                  1\n",
            "\n",
            "[67 rows x 2 columns]\n"
          ]
        }
      ]
    },
    {
      "cell_type": "markdown",
      "metadata": {
        "id": "6WDCS_71KCeI"
      },
      "source": [
        "## 2.8. Splitting and sampling a dataset"
      ]
    },
    {
      "cell_type": "markdown",
      "metadata": {
        "id": "rkFicxJKKCeJ"
      },
      "source": [
        "Splitting and sampling dataset are techniques that distribute the original dataset in n-parts. One of the most interesting application of these tools is to separate the dataset to train and test a machine learning model. Meanwhile sampling guarantees same type of data (i.e. distributions), splitting will separate the dataset with the ratio we need. Usually, 80%-20% or 70%-30% splitting ratios are the most common used.\n",
        "\n",
        "Once again, Sklearn library helps to us to cover this necessity through the function [sklearn.model_selection.train_test_split](https://scikit-learn.org/stable/modules/generated/sklearn.model_selection.train_test_split.html) which splits a dataset into two parts, which usually will be used for training and testing.\n",
        "\n",
        "<font size=\"-1\" color=\"gray\">(Remove this cell when delivering.)</font>"
      ]
    },
    {
      "cell_type": "markdown",
      "metadata": {
        "id": "EpE7bo4aKCeJ"
      },
      "source": [
        "<font size=\"+1\" color=\"red\">Replace this cell with code to split the dataset in two separate datasets: one with 70% of the rows and the other with 30% of rows</font>"
      ]
    },
    {
      "cell_type": "code",
      "source": [
        "train_df, test_df = train_test_split(cleaned_dataset_3, test_size=0.30, random_state=42)"
      ],
      "metadata": {
        "id": "f82J3dM-gLgG"
      },
      "execution_count": null,
      "outputs": []
    },
    {
      "cell_type": "markdown",
      "metadata": {
        "id": "iQEGoPCqKCeJ"
      },
      "source": [
        "<font size=\"+1\" color=\"red\">Replace this cell with code to compute the main statistics (mean, standard deviation, min, max, 25%, 50%, 75%) for the variables **DATA_TRAFFIC_MONTH_1**, **VOICE_TRAFFIC_MONTH_1** and **BILLING_MONTH_1** in both training and testing parts of the dataset.</font>\n",
        "\n",
        "<font size=\"+1\" color=\"red\">Replace this cell with a brief commentary indicating if you find these statistics match between the two splits, or do not match between them.</font>"
      ]
    },
    {
      "cell_type": "code",
      "source": [
        "# Compute the statistics for the variables in the training dataset\n",
        "train_stats = train_df[['DATA_TRAFFIC_MONTH_1', 'VOICE_TRAFFIC_MONTH_1', 'BILLING_MONTH_1']].describe()\n",
        "\n",
        "# Compute the statistics for the variables in the testing dataset\n",
        "test_stats = test_df[['DATA_TRAFFIC_MONTH_1', 'VOICE_TRAFFIC_MONTH_1', 'BILLING_MONTH_1']].describe()\n",
        "\n",
        "# Display the statistics\n",
        "print(\"Training dataset statistics:\")\n",
        "print(train_stats)\n",
        "\n",
        "print(\"\\nTesting dataset statistics:\")\n",
        "print(test_stats)"
      ],
      "metadata": {
        "colab": {
          "base_uri": "https://localhost:8080/"
        },
        "id": "giAFL2qHEn7r",
        "outputId": "b459856b-a204-40ed-f44f-d40c39c0e78f"
      },
      "execution_count": null,
      "outputs": [
        {
          "output_type": "stream",
          "name": "stdout",
          "text": [
            "Training dataset statistics:\n",
            "       DATA_TRAFFIC_MONTH_1  VOICE_TRAFFIC_MONTH_1  BILLING_MONTH_1\n",
            "count               4191.00                4191.00          4191.00\n",
            "mean                2549.41                 132.02           100.03\n",
            "std                 5612.93                 203.67            65.03\n",
            "min                    0.00                   0.00          -124.49\n",
            "25%                    0.00                  10.20            63.36\n",
            "50%                  399.50                  64.20            92.99\n",
            "75%                 2842.26                 171.55           121.14\n",
            "max               112421.17                4113.00           911.72\n",
            "\n",
            "Testing dataset statistics:\n",
            "       DATA_TRAFFIC_MONTH_1  VOICE_TRAFFIC_MONTH_1  BILLING_MONTH_1\n",
            "count               1797.00                1797.00          1797.00\n",
            "mean                2567.66                 127.12            98.42\n",
            "std                 6135.75                 191.84            64.83\n",
            "min                    0.00                   0.00           -21.03\n",
            "25%                    0.00                   9.20            63.00\n",
            "50%                  346.78                  58.70            92.69\n",
            "75%                 2419.70                 165.20           120.84\n",
            "max                97074.62                2377.90           926.41\n"
          ]
        }
      ]
    },
    {
      "cell_type": "markdown",
      "source": [
        "The statistics for both the training and testing datasets reveal some patterns:\n",
        "\n",
        "**1. DATA_TRAFFIC_MONTH_1:**\n",
        "- **Training Dataset:** It has a mean of 2549.41 MB and a standard deviation of 5612.93 MB. A significant number of users have zero data usage (for instance: 25th percentile). The maximum value of 112.421 MB is so higher compared to mean.\n",
        "- **Testing Dataset:** The mean is similar, but the standard deviation is higher at 6135,75 MB. The maximum value of 97074.62 MB is lower than in the training set.\n",
        "\n",
        "**2. VOICE_TRAFFIC_MONTH_1:**\n",
        "- **Training Dataset:** The mean voice traffic is 132.02 minutes, with a high standard deviation of 203.67 minutes. Similar to data traffic, 25% of the users have very low voice traffic (0 minutes at the 25th percentile). The maximum value is high at 4113 minutes.\n",
        "- **Testing Dataset:** The mean (127.12 minutes) and standard deviation (191.84 minutes) are lower than in the training dataset.\n",
        "The maximum value is 2377.90 minutes, which is less compared to the training dat.\n",
        "\n",
        "**3. BILLING_MONTH_1:**\n",
        "- **Training Dataset:** The average bill is around 100.03. There are some mistakes that not mach. For instance, the minimum value (-124.49) is negative.  The upper quartile (75th percentile) is 121.14, and the maximum bill is 911.72.\n",
        "- **Testing Dataset:** The mean bill is slightly lower at 98.42, and the standard deviation is comparable to the training set.\n",
        "There is a negative minimum value (-21.03), which again suggests errors.\n",
        "The maximum bill is 926.41, which is consistent with the training dataset."
      ],
      "metadata": {
        "id": "iliBQaioFJFr"
      }
    },
    {
      "cell_type": "markdown",
      "metadata": {
        "id": "Fpb9gxC7KCeJ"
      },
      "source": [
        "# 3. Comparing iPhone and Samsung J series users"
      ]
    },
    {
      "cell_type": "markdown",
      "metadata": {
        "id": "gmssN__wKCeJ"
      },
      "source": [
        "Finally, find some features that are different between users of an Apple iPhone and users of a Samsung J series phone (this includes J410G, J610G, J415G, and all other models by Samsung that start with a *J*).\n",
        "\n",
        "<font size=\"-1\" color=\"gray\">(Remove this cell when delivering.)</font>"
      ]
    },
    {
      "cell_type": "markdown",
      "metadata": {
        "id": "mA4S_DGKKCeJ"
      },
      "source": [
        "<font size=\"+1\" color=\"red\">Replace this cell with code to create two dataframes: one with all the attributes of Apple iPhone users and one with all the attributes of Samsung J series users.</font>"
      ]
    },
    {
      "cell_type": "code",
      "source": [
        "# Create dataframe for Apple iPhone users\n",
        "iphone_users_df=cleaned_dataset_3.copy()\n",
        "iphone_users_df = iphone_users_df[iphone_users_df['PURCHASED_DEVICE_MANUFACTURER'].str.contains('Apple', case=False, na=False)]\n",
        "\n",
        "# Create dataframe for Samsung J series users\n",
        "samsung_j_series_users_df=cleaned_dataset_3.copy()\n",
        "samsung_j_series_users_df = samsung_j_series_users_df[samsung_j_series_users_df['PURCHASED_DEVICE_MANUFACTURER'].str.contains('Samsung', case=False, na=False)]\n",
        "\n",
        "# Print the number of users in each group\n",
        "print(f\"Number of Apple iPhone users: {iphone_users_df.shape[0]}\")\n",
        "print(f\"Number of Samsung J series users: {samsung_j_series_users_df.shape[0]}\")\n"
      ],
      "metadata": {
        "colab": {
          "base_uri": "https://localhost:8080/"
        },
        "id": "Dozjzv8GHwiL",
        "outputId": "0d9d33b3-576c-4eb9-8ed8-124aa52438a4"
      },
      "execution_count": null,
      "outputs": [
        {
          "output_type": "stream",
          "name": "stdout",
          "text": [
            "Number of Apple iPhone users: 448\n",
            "Number of Samsung J series users: 1094\n"
          ]
        }
      ]
    },
    {
      "cell_type": "markdown",
      "metadata": {
        "id": "1zelSHoeKCeK"
      },
      "source": [
        "<font size=\"+1\" color=\"red\">Replace this cell with code to compare some variables between the two datasets. Consider 2 or 3 variables, plot together the histograms of each variable in both datasets (including a legend).</font>"
      ]
    },
    {
      "cell_type": "code",
      "source": [
        "variables = ['DATA_TRAFFIC_MONTH_1', 'VOICE_TRAFFIC_MONTH_1', 'BILLING_MONTH_1']\n",
        "\n",
        "# Plot histograms for the variables\n",
        "for var in variables:\n",
        "    plt.figure(figsize=(8, 6))\n",
        "\n",
        "    sns.histplot(iphone_users_df[var], color='blue', label='Apple iPhone', kde=False, bins=20)\n",
        "\n",
        "    # Histogram for Samsung J series users\n",
        "    sns.histplot(samsung_j_series_users_df[var], color='green', label='Samsung J series', kde=False, bins=20)\n",
        "\n",
        "    # Add labels and title\n",
        "    plt.title(f'Comparison of {var} between Apple iPhone and Samsung J series users')\n",
        "    plt.xlabel(var)\n",
        "    plt.ylabel('Density')\n",
        "\n",
        "    # Add legend\n",
        "    plt.legend()\n",
        "    plt.yscale('log')\n",
        "\n",
        "    # Show the plot\n",
        "    plt.show()\n"
      ],
      "metadata": {
        "colab": {
          "base_uri": "https://localhost:8080/",
          "height": 1000
        },
        "id": "6VuHXCfKQj9M",
        "outputId": "0508ca05-9125-4c1a-ef15-05a17ff493bb"
      },
      "execution_count": null,
      "outputs": [
        {
          "output_type": "stream",
          "name": "stderr",
          "text": [
            "WARNING:matplotlib.legend:No artists with labels found to put in legend.  Note that artists whose label start with an underscore are ignored when legend() is called with no argument.\n"
          ]
        },
        {
          "output_type": "display_data",
          "data": {
            "text/plain": [
              "<Figure size 800x600 with 1 Axes>"
            ],
            "image/png": "[encoded data removed]"
          },
          "metadata": {}
        },
        {
          "output_type": "stream",
          "name": "stderr",
          "text": [
            "WARNING:matplotlib.legend:No artists with labels found to put in legend.  Note that artists whose label start with an underscore are ignored when legend() is called with no argument.\n"
          ]
        },
        {
          "output_type": "display_data",
          "data": {
            "text/plain": [
              "<Figure size 800x600 with 1 Axes>"
            ],
            "image/png": "[encoded data removed]"
          },
          "metadata": {}
        },
        {
          "output_type": "stream",
          "name": "stderr",
          "text": [
            "WARNING:matplotlib.legend:No artists with labels found to put in legend.  Note that artists whose label start with an underscore are ignored when legend() is called with no argument.\n"
          ]
        },
        {
          "output_type": "display_data",
          "data": {
            "text/plain": [
              "<Figure size 800x600 with 1 Axes>"
            ],
            "image/png": "[encoded data removed]"
          },
          "metadata": {}
        }
      ]
    },
    {
      "cell_type": "markdown",
      "metadata": {
        "id": "xlDJTJUCKCeK"
      },
      "source": [
        "<font size=\"+1\" color=\"red\">Replace this cell with a brief commentary on the differences you found between these two groups of users.</font>"
      ]
    },
    {
      "cell_type": "markdown",
      "source": [
        "- **BILLING_MONTH_1:** The Samsung J series users tend to have higher densities at the lower billing amounts (0-200 range) compared to iPhone users. However, both distributions are right-skewed, with most users having low billing amounts.\n",
        "\n",
        "\n",
        "- **VOICE_TRAFFIC_MONTH_1:** Both Apple and Samsung users has a similar pattern, with most of users falling within the lower ranges (0-400 range). Samsung users have a higher density for moderate usage, whereas Apple users have a small group with higher voice traffic values (e.g., 1000-1600).\n",
        "\n",
        "\n",
        "- **DATA_TRAFFIC_MONTH_1:** The Samsung J series users tend to have high densities at the data traffic amounts (0-20000 range), the same case with iPhone users. But iPhone users has a higher density at the data traffic amount than Samsung J series users. There is 1 iPhone user close to 100,000 data traffic and is the biggest one, meanwhile the tail is more composed of Samsung J users and fewer iPhone users."
      ],
      "metadata": {
        "id": "GIeFRgx7Qxwb"
      }
    },
    {
      "cell_type": "markdown",
      "metadata": {
        "id": "A8sYXFePKCeK"
      },
      "source": [
        "# DELIVER (individually)\n",
        "\n",
        "Remember to read the section on \"delivering your code\" in the [course evaluation guidelines](https://github.com/chatox/data-mining-course/blob/master/upf/upf-evaluation.md).\n",
        "\n",
        "Deliver a zip file containing:\n",
        "\n",
        "* This notebook\n",
        "\n",
        "## Extra points available\n",
        "\n",
        "For more learning and extra points, remember what you learned in machine learning and create a simple [decision tree model](https://scikit-learn.org/stable/modules/tree.html) having as input variables:\n",
        "\n",
        "1. PREVIOUS\\_DEVICE\\_MODEL\n",
        "1. PREVIOUS\\_DEVICE\\_BRAND\n",
        "1. MONTHS\\_LAST\\_DEVICE\n",
        "\n",
        "And as output variable `PURCHASED_DEVICE_MANUFACTURER`. Measure the accuracy of this 3-variables model. Then, add two more variables, of your own choice, that improve the classification accuracy. Measure the accuracy of this 5-variables model.\n",
        "\n",
        "\n",
        "**Note:** if you go for the extra points, add ``<font size=\"+2\" color=\"blue\">Additional results: model purchased device</font>`` at the top of your notebook.\n",
        "\n",
        "<font size=\"-1\" color=\"gray\">(Remove this cell when delivering.)</font>"
      ]
    },
    {
      "cell_type": "code",
      "source": [
        "import pandas as pd\n",
        "from sklearn.tree import DecisionTreeClassifier\n",
        "from sklearn.metrics import accuracy_score\n",
        "from sklearn.model_selection import train_test_split\n"
      ],
      "metadata": {
        "id": "oZZavjzcA9oD"
      },
      "execution_count": null,
      "outputs": []
    },
    {
      "cell_type": "code",
      "source": [
        "input_variables = ['PREVIOUS_DEVICE_MODEL', 'PREVIOUS_DEVICE_BRAND', 'MONTHS_LAST_DEVICE']\n",
        "output_variable = 'PURCHASED_DEVICE_MANUFACTURER'\n",
        "\n",
        "# One-hot encode the dataset\n",
        "all_variables_1=input_variables + [output_variable]\n",
        "df_encoded_dummies_1 = pd.get_dummies(cleaned_dataset_3[all_variables_1], drop_first=False)\n",
        "\n",
        "# Split the dataset into features and target variable\n",
        "y_columns=[col for col in df_encoded_dummies_1.columns if col.startswith(output_variable)]\n",
        "X = df_encoded_dummies_1.drop(y_columns, axis=1)\n",
        "y = df_encoded_dummies_1[y_columns]\n",
        "\n",
        "# Split the dataset into training and testing sets\n",
        "X_train, X_test, y_train, y_test = train_test_split(X, y, test_size=0.3, random_state=42)\n",
        "\n",
        "# Train a decision tree classifier\n",
        "tree_model_3 = DecisionTreeClassifier(random_state=42)\n",
        "tree_model_3.fit(X_train, y_train)\n",
        "\n",
        "# Predict on the test set\n",
        "y_pred_3 = tree_model_3.predict(X_test)\n",
        "\n",
        "# Measure accuracy\n",
        "accuracy_3_variables = accuracy_score(y_test, y_pred_3)\n",
        "print(f'Accuracy with 3 variables: {accuracy_3_variables:.2f}')\n"
      ],
      "metadata": {
        "colab": {
          "base_uri": "https://localhost:8080/"
        },
        "id": "qluI-dii0UBT",
        "outputId": "5d6ee099-c14b-4e53-888e-08f2fbe710f1"
      },
      "execution_count": null,
      "outputs": [
        {
          "output_type": "stream",
          "name": "stdout",
          "text": [
            "Accuracy with 3 variables: 0.48\n"
          ]
        }
      ]
    },
    {
      "cell_type": "code",
      "source": [
        "# Add two more variables\n",
        "new_input_variables = input_variables + ['LAST_DEVICE_CHANGE', 'DURATION_LINE']\n",
        "\n",
        "# One-hot encode the dataset\n",
        "all_variables_2=new_input_variables+[output_variable]\n",
        "df_encoded_dummies_2 = pd.get_dummies(cleaned_dataset_3[all_variables_2], drop_first=False)\n",
        "\n",
        "# Split the dataset into features and target variable\n",
        "X = df_encoded_dummies_2.drop(y_columns, axis=1)\n",
        "y = df_encoded_dummies_2[y_columns]\n",
        "\n",
        "# Split the dataset into training and testing sets\n",
        "X_train, X_test, y_train, y_test = train_test_split(X, y, test_size=0.3, random_state=42)\n",
        "\n",
        "# Train a decision tree classifier\n",
        "tree_model_3 = DecisionTreeClassifier(random_state=42)\n",
        "tree_model_3.fit(X_train, y_train)\n",
        "\n",
        "# Predict on the test set\n",
        "y_pred_3 = tree_model_3.predict(X_test)\n",
        "\n",
        "# Measure accuracy\n",
        "accuracy_3_variables = accuracy_score(y_test, y_pred_3)\n",
        "print(f'Accuracy with 3 variables: {accuracy_3_variables:.2f}')"
      ],
      "metadata": {
        "id": "d4cFYbAz0Yc3",
        "colab": {
          "base_uri": "https://localhost:8080/"
        },
        "outputId": "bd071e06-a6e3-408f-98f3-4ba9ccfe9a0a"
      },
      "execution_count": null,
      "outputs": [
        {
          "output_type": "stream",
          "name": "stdout",
          "text": [
            "Accuracy with 3 variables: 0.55\n"
          ]
        }
      ]
    },
    {
      "cell_type": "markdown",
      "metadata": {
        "id": "kkFgmNoVKCeK"
      },
      "source": [
        "<font size=\"+2\" color=\"#003300\">I hereby declare that, except for the code provided by the course instructors, all of my code, report, and figures were produced by myself.</font>"
      ]
    }
  ],
  "metadata": {
    "kernelspec": {
      "display_name": "Python 3",
      "language": "python",
      "name": "python3"
    },
    "language_info": {
      "codemirror_mode": {
        "name": "ipython",
        "version": 3
      },
      "file_extension": ".py",
      "mimetype": "text/x-python",
      "name": "python",
      "nbconvert_exporter": "python",
      "pygments_lexer": "ipython3",
      "version": "3.10.12"
    },
    "colab": {
      "provenance": []
    }
  },
  "nbformat": 4,
  "nbformat_minor": 0
}