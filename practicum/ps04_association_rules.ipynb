{
  "cells": [
    {
      "cell_type": "markdown",
      "source": [
        "<font size=\"+2\" color=\"blue\">Additional results: experiments on cross-department association rules</font>"
      ],
      "metadata": {
        "id": "BNJiNz2_uyYb"
      }
    },
    {
      "cell_type": "markdown",
      "metadata": {
        "id": "v8fs56dt6BdS"
      },
      "source": [
        "# Practice Session 04: Basket analysis"
      ]
    },
    {
      "cell_type": "code",
      "source": [
        "!pip install apyori"
      ],
      "metadata": {
        "colab": {
          "base_uri": "https://localhost:8080/"
        },
        "id": "4Nv0v6Zw6dCO",
        "outputId": "c8857fee-5701-495c-913e-d6dbd9c5245c"
      },
      "execution_count": null,
      "outputs": [
        {
          "output_type": "stream",
          "name": "stdout",
          "text": [
            "Requirement already satisfied: apyori in /usr/local/lib/python3.10/dist-packages (1.1.2)\n"
          ]
        }
      ]
    },
    {
      "cell_type": "code",
      "execution_count": null,
      "metadata": {
        "id": "WHmvNmnH6BdV"
      },
      "outputs": [],
      "source": [
        "import numpy as np\n",
        "import matplotlib.pyplot as plt\n",
        "import pandas as pd\n",
        "import csv\n",
        "import gzip\n",
        "\n",
        "from apyori import apriori"
      ]
    },
    {
      "cell_type": "markdown",
      "metadata": {
        "id": "RZYSwsyi6BdW"
      },
      "source": [
        "# 1. Playing with apyori"
      ]
    },
    {
      "cell_type": "code",
      "execution_count": null,
      "metadata": {
        "id": "zXQBXQk66BdW"
      },
      "outputs": [],
      "source": [
        "# LEAVE AS-IS\n",
        "\n",
        "def print_apyori_output (association_results, info=False, info_key=False):\n",
        "    for relation_record in association_results:\n",
        "        itemset = list(relation_record.items)\n",
        "\n",
        "        # Consider only itemsets of two elements\n",
        "        if len(itemset) > 1:\n",
        "\n",
        "            print(\"Rules involving itemset %s\" % itemset)\n",
        "            support = relation_record.support\n",
        "\n",
        "            for rules in relation_record.ordered_statistics:\n",
        "                antecedent = list(rules.items_base)\n",
        "                consequent = list(rules.items_add)\n",
        "\n",
        "                if info_key:\n",
        "                    antecedent = [info.loc[x][info_key] for x in antecedent]\n",
        "                    consequent = [info.loc[x][info_key] for x in consequent]\n",
        "\n",
        "                confidence = rules.confidence\n",
        "                lift = rules.lift\n",
        "\n",
        "                print(\"%s => %s (support=%.4f, confidence=%.2f, lift=%.2f)\" %\n",
        "                      (antecedent, consequent, support, confidence, lift))\n",
        "            print()"
      ]
    },
    {
      "cell_type": "markdown",
      "metadata": {
        "id": "Pd5tKo5m6BdW"
      },
      "source": [
        "<font size=\"+1\" color=\"red\">Replace this cell with your own example of transactions (at least 20 transactions). Execute the apriori algorithm, in which you should obtain at least <strong>two</strong> rules of the form ['A', 'B'] => ['C'], i.e., at least two rules having a 2-itemset in the antecedent and a 1-itemset in the consequent. Modify the transactions until you obtain such rules.</font>"
      ]
    },
    {
      "cell_type": "code",
      "source": [
        "transactions = [\n",
        "    ['Harry Potter', 'Hermione Granger', 'Ron Weasley'],\n",
        "    ['Hermione Granger', 'Ron Weasley', 'Harry Potter', 'Neville Longbottom'],\n",
        "    ['Draco Malfoy', 'Pansy Parkinson'],\n",
        "    ['Harry Potter', 'Hermione Granger'],\n",
        "    ['Ron Weasley', 'Harry Potter', 'Ginny Weasley'],\n",
        "    ['Hermione Granger', 'Neville Longbottom'],\n",
        "    ['Albus Dumbledore', 'Severus Snape'],\n",
        "    ['Harry Potter', 'Albus Dumbledore'],\n",
        "    ['Voldemort', 'Bellatrix Lestrange', 'Draco Malfoy'],\n",
        "    ['Luna Lovegood', 'Harry Potter', 'Neville Longbottom'],\n",
        "    ['Ginny Weasley', 'Ron Weasley', 'Hermione Granger'],\n",
        "    ['Albus Dumbledore', 'Harry Potter'],\n",
        "    ['Severus Snape', 'Lily Potter'],\n",
        "    ['Hagrid', 'Harry Potter', 'Hermione Granger'],\n",
        "    ['Voldemort', 'Nagini'],\n",
        "    ['Neville Longbottom', 'Luna Lovegood', 'Harry Potter'],\n",
        "    ['Fred Weasley', 'George Weasley', 'Ron Weasley'],\n",
        "    ['Hermione Granger', 'Ginny Weasley', 'Luna Lovegood'],\n",
        "    ['Harry Potter', 'Hagrid', 'Ron Weasley'],\n",
        "    ['Bellatrix Lestrange', 'Draco Malfoy', 'Voldemort'],\n",
        "    ['Hermione Granger', 'Harry Potter', 'Neville Longbottom'],\n",
        "]\n"
      ],
      "metadata": {
        "id": "B4V15fgUxa5B"
      },
      "execution_count": null,
      "outputs": []
    },
    {
      "cell_type": "markdown",
      "metadata": {
        "id": "DSNmf7--6BdX"
      },
      "source": [
        "<font size=\"+1\" color=\"red\">Replace this cell with a markdown cell containing (1) a printout of the rules you have obtained, and (2) for each of those rules, indicate clearly how the support, confidence, and lift is calculated. Do not merely repeat the formula: indicate how each number is computed based on the transactions you provided, as if you were trying to verify that the numbers are correct.</font>"
      ]
    },
    {
      "cell_type": "code",
      "source": [
        "results = list(apriori(transactions, min_support=0.01, min_confidence=0.4, min_lift=1.0))\n",
        "print_apyori_output(results)"
      ],
      "metadata": {
        "colab": {
          "base_uri": "https://localhost:8080/"
        },
        "id": "B3NPXwd58QYC",
        "outputId": "d21edcb5-3bd2-46a6-b71f-fba72982dc3d"
      },
      "execution_count": null,
      "outputs": [
        {
          "output_type": "stream",
          "name": "stdout",
          "text": [
            "Rules involving itemset ['Harry Potter', 'Albus Dumbledore']\n",
            "['Albus Dumbledore'] => ['Harry Potter'] (support=0.0952, confidence=0.67, lift=1.27)\n",
            "\n",
            "Rules involving itemset ['Severus Snape', 'Albus Dumbledore']\n",
            "['Severus Snape'] => ['Albus Dumbledore'] (support=0.0476, confidence=0.50, lift=3.50)\n",
            "\n",
            "Rules involving itemset ['Bellatrix Lestrange', 'Draco Malfoy']\n",
            "['Bellatrix Lestrange'] => ['Draco Malfoy'] (support=0.0952, confidence=1.00, lift=7.00)\n",
            "['Draco Malfoy'] => ['Bellatrix Lestrange'] (support=0.0952, confidence=0.67, lift=7.00)\n",
            "\n",
            "Rules involving itemset ['Voldemort', 'Bellatrix Lestrange']\n",
            "['Bellatrix Lestrange'] => ['Voldemort'] (support=0.0952, confidence=1.00, lift=7.00)\n",
            "['Voldemort'] => ['Bellatrix Lestrange'] (support=0.0952, confidence=0.67, lift=7.00)\n",
            "\n",
            "Rules involving itemset ['Pansy Parkinson', 'Draco Malfoy']\n",
            "['Pansy Parkinson'] => ['Draco Malfoy'] (support=0.0476, confidence=1.00, lift=7.00)\n",
            "\n",
            "Rules involving itemset ['Voldemort', 'Draco Malfoy']\n",
            "['Draco Malfoy'] => ['Voldemort'] (support=0.0952, confidence=0.67, lift=4.67)\n",
            "['Voldemort'] => ['Draco Malfoy'] (support=0.0952, confidence=0.67, lift=4.67)\n",
            "\n",
            "Rules involving itemset ['Fred Weasley', 'George Weasley']\n",
            "['Fred Weasley'] => ['George Weasley'] (support=0.0476, confidence=1.00, lift=21.00)\n",
            "['George Weasley'] => ['Fred Weasley'] (support=0.0476, confidence=1.00, lift=21.00)\n",
            "\n",
            "Rules involving itemset ['Fred Weasley', 'Ron Weasley']\n",
            "['Fred Weasley'] => ['Ron Weasley'] (support=0.0476, confidence=1.00, lift=3.50)\n",
            "\n",
            "Rules involving itemset ['Ron Weasley', 'George Weasley']\n",
            "['George Weasley'] => ['Ron Weasley'] (support=0.0476, confidence=1.00, lift=3.50)\n",
            "\n",
            "Rules involving itemset ['Ginny Weasley', 'Hermione Granger']\n",
            "['Ginny Weasley'] => ['Hermione Granger'] (support=0.0952, confidence=0.67, lift=1.75)\n",
            "\n",
            "Rules involving itemset ['Ron Weasley', 'Ginny Weasley']\n",
            "['Ginny Weasley'] => ['Ron Weasley'] (support=0.0952, confidence=0.67, lift=2.33)\n",
            "\n",
            "Rules involving itemset ['Harry Potter', 'Hagrid']\n",
            "['Hagrid'] => ['Harry Potter'] (support=0.0952, confidence=1.00, lift=1.91)\n",
            "\n",
            "Rules involving itemset ['Hermione Granger', 'Hagrid']\n",
            "['Hagrid'] => ['Hermione Granger'] (support=0.0476, confidence=0.50, lift=1.31)\n",
            "\n",
            "Rules involving itemset ['Ron Weasley', 'Hagrid']\n",
            "['Hagrid'] => ['Ron Weasley'] (support=0.0476, confidence=0.50, lift=1.75)\n",
            "\n",
            "Rules involving itemset ['Harry Potter', 'Hermione Granger']\n",
            "['Harry Potter'] => ['Hermione Granger'] (support=0.2381, confidence=0.45, lift=1.19)\n",
            "['Hermione Granger'] => ['Harry Potter'] (support=0.2381, confidence=0.62, lift=1.19)\n",
            "\n",
            "Rules involving itemset ['Harry Potter', 'Luna Lovegood']\n",
            "['Luna Lovegood'] => ['Harry Potter'] (support=0.0952, confidence=0.67, lift=1.27)\n",
            "\n",
            "Rules involving itemset ['Harry Potter', 'Neville Longbottom']\n",
            "['Neville Longbottom'] => ['Harry Potter'] (support=0.1905, confidence=0.80, lift=1.53)\n",
            "\n",
            "Rules involving itemset ['Harry Potter', 'Ron Weasley']\n",
            "['Ron Weasley'] => ['Harry Potter'] (support=0.1905, confidence=0.67, lift=1.27)\n",
            "\n",
            "Rules involving itemset ['Neville Longbottom', 'Hermione Granger']\n",
            "['Neville Longbottom'] => ['Hermione Granger'] (support=0.1429, confidence=0.60, lift=1.57)\n",
            "\n",
            "Rules involving itemset ['Ron Weasley', 'Hermione Granger']\n",
            "['Ron Weasley'] => ['Hermione Granger'] (support=0.1429, confidence=0.50, lift=1.31)\n",
            "\n",
            "Rules involving itemset ['Lily Potter', 'Severus Snape']\n",
            "['Lily Potter'] => ['Severus Snape'] (support=0.0476, confidence=1.00, lift=10.50)\n",
            "['Severus Snape'] => ['Lily Potter'] (support=0.0476, confidence=0.50, lift=10.50)\n",
            "\n",
            "Rules involving itemset ['Neville Longbottom', 'Luna Lovegood']\n",
            "['Luna Lovegood'] => ['Neville Longbottom'] (support=0.0952, confidence=0.67, lift=2.80)\n",
            "['Neville Longbottom'] => ['Luna Lovegood'] (support=0.0952, confidence=0.40, lift=2.80)\n",
            "\n",
            "Rules involving itemset ['Nagini', 'Voldemort']\n",
            "['Nagini'] => ['Voldemort'] (support=0.0476, confidence=1.00, lift=7.00)\n",
            "\n",
            "Rules involving itemset ['Voldemort', 'Bellatrix Lestrange', 'Draco Malfoy']\n",
            "['Bellatrix Lestrange'] => ['Voldemort', 'Draco Malfoy'] (support=0.0952, confidence=1.00, lift=10.50)\n",
            "['Draco Malfoy'] => ['Bellatrix Lestrange', 'Voldemort'] (support=0.0952, confidence=0.67, lift=7.00)\n",
            "['Voldemort'] => ['Bellatrix Lestrange', 'Draco Malfoy'] (support=0.0952, confidence=0.67, lift=7.00)\n",
            "['Bellatrix Lestrange', 'Draco Malfoy'] => ['Voldemort'] (support=0.0952, confidence=1.00, lift=7.00)\n",
            "['Voldemort', 'Bellatrix Lestrange'] => ['Draco Malfoy'] (support=0.0952, confidence=1.00, lift=7.00)\n",
            "['Voldemort', 'Draco Malfoy'] => ['Bellatrix Lestrange'] (support=0.0952, confidence=1.00, lift=10.50)\n",
            "\n",
            "Rules involving itemset ['Fred Weasley', 'Ron Weasley', 'George Weasley']\n",
            "['Fred Weasley'] => ['Ron Weasley', 'George Weasley'] (support=0.0476, confidence=1.00, lift=21.00)\n",
            "['George Weasley'] => ['Fred Weasley', 'Ron Weasley'] (support=0.0476, confidence=1.00, lift=21.00)\n",
            "['Fred Weasley', 'George Weasley'] => ['Ron Weasley'] (support=0.0476, confidence=1.00, lift=3.50)\n",
            "['Fred Weasley', 'Ron Weasley'] => ['George Weasley'] (support=0.0476, confidence=1.00, lift=21.00)\n",
            "['Ron Weasley', 'George Weasley'] => ['Fred Weasley'] (support=0.0476, confidence=1.00, lift=21.00)\n",
            "\n",
            "Rules involving itemset ['Harry Potter', 'Ron Weasley', 'Ginny Weasley']\n",
            "['Harry Potter', 'Ginny Weasley'] => ['Ron Weasley'] (support=0.0476, confidence=1.00, lift=3.50)\n",
            "\n",
            "Rules involving itemset ['Ginny Weasley', 'Hermione Granger', 'Luna Lovegood']\n",
            "['Ginny Weasley', 'Hermione Granger'] => ['Luna Lovegood'] (support=0.0476, confidence=0.50, lift=3.50)\n",
            "['Ginny Weasley', 'Luna Lovegood'] => ['Hermione Granger'] (support=0.0476, confidence=1.00, lift=2.62)\n",
            "['Hermione Granger', 'Luna Lovegood'] => ['Ginny Weasley'] (support=0.0476, confidence=1.00, lift=7.00)\n",
            "\n",
            "Rules involving itemset ['Ron Weasley', 'Ginny Weasley', 'Hermione Granger']\n",
            "['Ginny Weasley', 'Hermione Granger'] => ['Ron Weasley'] (support=0.0476, confidence=0.50, lift=1.75)\n",
            "['Ron Weasley', 'Ginny Weasley'] => ['Hermione Granger'] (support=0.0476, confidence=0.50, lift=1.31)\n",
            "\n",
            "Rules involving itemset ['Harry Potter', 'Hermione Granger', 'Hagrid']\n",
            "['Hagrid'] => ['Harry Potter', 'Hermione Granger'] (support=0.0476, confidence=0.50, lift=2.10)\n",
            "['Harry Potter', 'Hagrid'] => ['Hermione Granger'] (support=0.0476, confidence=0.50, lift=1.31)\n",
            "['Hermione Granger', 'Hagrid'] => ['Harry Potter'] (support=0.0476, confidence=1.00, lift=1.91)\n",
            "\n",
            "Rules involving itemset ['Harry Potter', 'Ron Weasley', 'Hagrid']\n",
            "['Hagrid'] => ['Harry Potter', 'Ron Weasley'] (support=0.0476, confidence=0.50, lift=2.62)\n",
            "['Harry Potter', 'Hagrid'] => ['Ron Weasley'] (support=0.0476, confidence=0.50, lift=1.75)\n",
            "['Ron Weasley', 'Hagrid'] => ['Harry Potter'] (support=0.0476, confidence=1.00, lift=1.91)\n",
            "\n",
            "Rules involving itemset ['Harry Potter', 'Neville Longbottom', 'Hermione Granger']\n",
            "['Neville Longbottom'] => ['Harry Potter', 'Hermione Granger'] (support=0.0952, confidence=0.40, lift=1.68)\n",
            "['Harry Potter', 'Hermione Granger'] => ['Neville Longbottom'] (support=0.0952, confidence=0.40, lift=1.68)\n",
            "['Harry Potter', 'Neville Longbottom'] => ['Hermione Granger'] (support=0.0952, confidence=0.50, lift=1.31)\n",
            "['Neville Longbottom', 'Hermione Granger'] => ['Harry Potter'] (support=0.0952, confidence=0.67, lift=1.27)\n",
            "\n",
            "Rules involving itemset ['Harry Potter', 'Ron Weasley', 'Hermione Granger']\n",
            "['Harry Potter', 'Hermione Granger'] => ['Ron Weasley'] (support=0.0952, confidence=0.40, lift=1.40)\n",
            "['Harry Potter', 'Ron Weasley'] => ['Hermione Granger'] (support=0.0952, confidence=0.50, lift=1.31)\n",
            "['Ron Weasley', 'Hermione Granger'] => ['Harry Potter'] (support=0.0952, confidence=0.67, lift=1.27)\n",
            "\n",
            "Rules involving itemset ['Harry Potter', 'Neville Longbottom', 'Luna Lovegood']\n",
            "['Luna Lovegood'] => ['Harry Potter', 'Neville Longbottom'] (support=0.0952, confidence=0.67, lift=3.50)\n",
            "['Neville Longbottom'] => ['Harry Potter', 'Luna Lovegood'] (support=0.0952, confidence=0.40, lift=4.20)\n",
            "['Harry Potter', 'Luna Lovegood'] => ['Neville Longbottom'] (support=0.0952, confidence=1.00, lift=4.20)\n",
            "['Harry Potter', 'Neville Longbottom'] => ['Luna Lovegood'] (support=0.0952, confidence=0.50, lift=3.50)\n",
            "['Neville Longbottom', 'Luna Lovegood'] => ['Harry Potter'] (support=0.0952, confidence=1.00, lift=1.91)\n",
            "\n",
            "Rules involving itemset ['Ron Weasley', 'Harry Potter', 'Neville Longbottom']\n",
            "['Ron Weasley', 'Neville Longbottom'] => ['Harry Potter'] (support=0.0476, confidence=1.00, lift=1.91)\n",
            "\n",
            "Rules involving itemset ['Ron Weasley', 'Neville Longbottom', 'Hermione Granger']\n",
            "['Ron Weasley', 'Neville Longbottom'] => ['Hermione Granger'] (support=0.0476, confidence=1.00, lift=2.62)\n",
            "\n",
            "Rules involving itemset ['Ron Weasley', 'Harry Potter', 'Neville Longbottom', 'Hermione Granger']\n",
            "['Ron Weasley', 'Neville Longbottom'] => ['Harry Potter', 'Hermione Granger'] (support=0.0476, confidence=1.00, lift=4.20)\n",
            "['Harry Potter', 'Neville Longbottom', 'Hermione Granger'] => ['Ron Weasley'] (support=0.0476, confidence=0.50, lift=1.75)\n",
            "['Harry Potter', 'Ron Weasley', 'Hermione Granger'] => ['Neville Longbottom'] (support=0.0476, confidence=0.50, lift=2.10)\n",
            "['Ron Weasley', 'Harry Potter', 'Neville Longbottom'] => ['Hermione Granger'] (support=0.0476, confidence=1.00, lift=2.62)\n",
            "['Ron Weasley', 'Neville Longbottom', 'Hermione Granger'] => ['Harry Potter'] (support=0.0476, confidence=1.00, lift=1.91)\n",
            "\n"
          ]
        }
      ]
    },
    {
      "cell_type": "markdown",
      "metadata": {
        "id": "EHvltru96BdX"
      },
      "source": [
        "# 2. Load and prepare the shopping baskets"
      ]
    },
    {
      "cell_type": "code",
      "execution_count": null,
      "metadata": {
        "colab": {
          "base_uri": "https://localhost:8080/",
          "height": 455
        },
        "id": "k51Nqrxw6BdX",
        "outputId": "22108f85-75d2-4016-c8f2-e9b15e359793"
      },
      "outputs": [
        {
          "output_type": "execute_result",
          "data": {
            "text/plain": [
              "                                                 product_name  department_id\n",
              "product_id                                                                  \n",
              "1                                  Chocolate Sandwich Cookies             19\n",
              "2                                            All-Seasons Salt             13\n",
              "3                        Robust Golden Unsweetened Oolong Tea              7\n",
              "4           Smart Ones Classic Favorites Mini Rigatoni Wit...              1\n",
              "5                                   Green Chile Anytime Sauce             13\n",
              "...                                                       ...            ...\n",
              "96                    Sprinklez Confetti Fun Organic Toppings             13\n",
              "97                                Organic Chamomile Lemon Tea              7\n",
              "98                                  2% Yellow American Cheese             16\n",
              "99                                Local Living Butter Lettuce              4\n",
              "100                   Peanut Butter & Strawberry Jam Sandwich              1\n",
              "\n",
              "[100 rows x 2 columns]"
            ],
            "text/html": [
              "\n",
              "  <div id=\"df-e4add9b1-3b46-4052-ae6f-913d7f3dd522\" class=\"colab-df-container\">\n",
              "    <div>\n",
              "<style scoped>\n",
              "    .dataframe tbody tr th:only-of-type {\n",
              "        vertical-align: middle;\n",
              "    }\n",
              "\n",
              "    .dataframe tbody tr th {\n",
              "        vertical-align: top;\n",
              "    }\n",
              "\n",
              "    .dataframe thead th {\n",
              "        text-align: right;\n",
              "    }\n",
              "</style>\n",
              "<table border=\"1\" class=\"dataframe\">\n",
              "  <thead>\n",
              "    <tr style=\"text-align: right;\">\n",
              "      <th></th>\n",
              "      <th>product_name</th>\n",
              "      <th>department_id</th>\n",
              "    </tr>\n",
              "    <tr>\n",
              "      <th>product_id</th>\n",
              "      <th></th>\n",
              "      <th></th>\n",
              "    </tr>\n",
              "  </thead>\n",
              "  <tbody>\n",
              "    <tr>\n",
              "      <th>1</th>\n",
              "      <td>Chocolate Sandwich Cookies</td>\n",
              "      <td>19</td>\n",
              "    </tr>\n",
              "    <tr>\n",
              "      <th>2</th>\n",
              "      <td>All-Seasons Salt</td>\n",
              "      <td>13</td>\n",
              "    </tr>\n",
              "    <tr>\n",
              "      <th>3</th>\n",
              "      <td>Robust Golden Unsweetened Oolong Tea</td>\n",
              "      <td>7</td>\n",
              "    </tr>\n",
              "    <tr>\n",
              "      <th>4</th>\n",
              "      <td>Smart Ones Classic Favorites Mini Rigatoni Wit...</td>\n",
              "      <td>1</td>\n",
              "    </tr>\n",
              "    <tr>\n",
              "      <th>5</th>\n",
              "      <td>Green Chile Anytime Sauce</td>\n",
              "      <td>13</td>\n",
              "    </tr>\n",
              "    <tr>\n",
              "      <th>...</th>\n",
              "      <td>...</td>\n",
              "      <td>...</td>\n",
              "    </tr>\n",
              "    <tr>\n",
              "      <th>96</th>\n",
              "      <td>Sprinklez Confetti Fun Organic Toppings</td>\n",
              "      <td>13</td>\n",
              "    </tr>\n",
              "    <tr>\n",
              "      <th>97</th>\n",
              "      <td>Organic Chamomile Lemon Tea</td>\n",
              "      <td>7</td>\n",
              "    </tr>\n",
              "    <tr>\n",
              "      <th>98</th>\n",
              "      <td>2% Yellow American Cheese</td>\n",
              "      <td>16</td>\n",
              "    </tr>\n",
              "    <tr>\n",
              "      <th>99</th>\n",
              "      <td>Local Living Butter Lettuce</td>\n",
              "      <td>4</td>\n",
              "    </tr>\n",
              "    <tr>\n",
              "      <th>100</th>\n",
              "      <td>Peanut Butter &amp; Strawberry Jam Sandwich</td>\n",
              "      <td>1</td>\n",
              "    </tr>\n",
              "  </tbody>\n",
              "</table>\n",
              "<p>100 rows × 2 columns</p>\n",
              "</div>\n",
              "    <div class=\"colab-df-buttons\">\n",
              "\n",
              "  <div class=\"colab-df-container\">\n",
              "    <button class=\"colab-df-convert\" onclick=\"convertToInteractive('df-e4add9b1-3b46-4052-ae6f-913d7f3dd522')\"\n",
              "            title=\"Convert this dataframe to an interactive table.\"\n",
              "            style=\"display:none;\">\n",
              "\n",
              "  <svg xmlns=\"http://www.w3.org/2000/svg\" height=\"24px\" viewBox=\"0 -960 960 960\">\n",
              "    <path d=\"M120-120v-720h720v720H120Zm60-500h600v-160H180v160Zm220 220h160v-160H400v160Zm0 220h160v-160H400v160ZM180-400h160v-160H180v160Zm440 0h160v-160H620v160ZM180-180h160v-160H180v160Zm440 0h160v-160H620v160Z\"/>\n",
              "  </svg>\n",
              "    </button>\n",
              "\n",
              "  <style>\n",
              "    .colab-df-container {\n",
              "      display:flex;\n",
              "      gap: 12px;\n",
              "    }\n",
              "\n",
              "    .colab-df-convert {\n",
              "      background-color: #E8F0FE;\n",
              "      border: none;\n",
              "      border-radius: 50%;\n",
              "      cursor: pointer;\n",
              "      display: none;\n",
              "      fill: #1967D2;\n",
              "      height: 32px;\n",
              "      padding: 0 0 0 0;\n",
              "      width: 32px;\n",
              "    }\n",
              "\n",
              "    .colab-df-convert:hover {\n",
              "      background-color: #E2EBFA;\n",
              "      box-shadow: 0px 1px 2px rgba(60, 64, 67, 0.3), 0px 1px 3px 1px rgba(60, 64, 67, 0.15);\n",
              "      fill: #174EA6;\n",
              "    }\n",
              "\n",
              "    .colab-df-buttons div {\n",
              "      margin-bottom: 4px;\n",
              "    }\n",
              "\n",
              "    [theme=dark] .colab-df-convert {\n",
              "      background-color: #3B4455;\n",
              "      fill: #D2E3FC;\n",
              "    }\n",
              "\n",
              "    [theme=dark] .colab-df-convert:hover {\n",
              "      background-color: #434B5C;\n",
              "      box-shadow: 0px 1px 3px 1px rgba(0, 0, 0, 0.15);\n",
              "      filter: drop-shadow(0px 1px 2px rgba(0, 0, 0, 0.3));\n",
              "      fill: #FFFFFF;\n",
              "    }\n",
              "  </style>\n",
              "\n",
              "    <script>\n",
              "      const buttonEl =\n",
              "        document.querySelector('#df-e4add9b1-3b46-4052-ae6f-913d7f3dd522 button.colab-df-convert');\n",
              "      buttonEl.style.display =\n",
              "        google.colab.kernel.accessAllowed ? 'block' : 'none';\n",
              "\n",
              "      async function convertToInteractive(key) {\n",
              "        const element = document.querySelector('#df-e4add9b1-3b46-4052-ae6f-913d7f3dd522');\n",
              "        const dataTable =\n",
              "          await google.colab.kernel.invokeFunction('convertToInteractive',\n",
              "                                                    [key], {});\n",
              "        if (!dataTable) return;\n",
              "\n",
              "        const docLinkHtml = 'Like what you see? Visit the ' +\n",
              "          '<a target=\"_blank\" href=https://colab.research.google.com/notebooks/data_table.ipynb>data table notebook</a>'\n",
              "          + ' to learn more about interactive tables.';\n",
              "        element.innerHTML = '';\n",
              "        dataTable['output_type'] = 'display_data';\n",
              "        await google.colab.output.renderOutput(dataTable, element);\n",
              "        const docLink = document.createElement('div');\n",
              "        docLink.innerHTML = docLinkHtml;\n",
              "        element.appendChild(docLink);\n",
              "      }\n",
              "    </script>\n",
              "  </div>\n",
              "\n",
              "\n",
              "<div id=\"df-78c34100-e2c0-4611-a5b6-0d271c87dad5\">\n",
              "  <button class=\"colab-df-quickchart\" onclick=\"quickchart('df-78c34100-e2c0-4611-a5b6-0d271c87dad5')\"\n",
              "            title=\"Suggest charts\"\n",
              "            style=\"display:none;\">\n",
              "\n",
              "<svg xmlns=\"http://www.w3.org/2000/svg\" height=\"24px\"viewBox=\"0 0 24 24\"\n",
              "     width=\"24px\">\n",
              "    <g>\n",
              "        <path d=\"M19 3H5c-1.1 0-2 .9-2 2v14c0 1.1.9 2 2 2h14c1.1 0 2-.9 2-2V5c0-1.1-.9-2-2-2zM9 17H7v-7h2v7zm4 0h-2V7h2v10zm4 0h-2v-4h2v4z\"/>\n",
              "    </g>\n",
              "</svg>\n",
              "  </button>\n",
              "\n",
              "<style>\n",
              "  .colab-df-quickchart {\n",
              "      --bg-color: #E8F0FE;\n",
              "      --fill-color: #1967D2;\n",
              "      --hover-bg-color: #E2EBFA;\n",
              "      --hover-fill-color: #174EA6;\n",
              "      --disabled-fill-color: #AAA;\n",
              "      --disabled-bg-color: #DDD;\n",
              "  }\n",
              "\n",
              "  [theme=dark] .colab-df-quickchart {\n",
              "      --bg-color: #3B4455;\n",
              "      --fill-color: #D2E3FC;\n",
              "      --hover-bg-color: #434B5C;\n",
              "      --hover-fill-color: #FFFFFF;\n",
              "      --disabled-bg-color: #3B4455;\n",
              "      --disabled-fill-color: #666;\n",
              "  }\n",
              "\n",
              "  .colab-df-quickchart {\n",
              "    background-color: var(--bg-color);\n",
              "    border: none;\n",
              "    border-radius: 50%;\n",
              "    cursor: pointer;\n",
              "    display: none;\n",
              "    fill: var(--fill-color);\n",
              "    height: 32px;\n",
              "    padding: 0;\n",
              "    width: 32px;\n",
              "  }\n",
              "\n",
              "  .colab-df-quickchart:hover {\n",
              "    background-color: var(--hover-bg-color);\n",
              "    box-shadow: 0 1px 2px rgba(60, 64, 67, 0.3), 0 1px 3px 1px rgba(60, 64, 67, 0.15);\n",
              "    fill: var(--button-hover-fill-color);\n",
              "  }\n",
              "\n",
              "  .colab-df-quickchart-complete:disabled,\n",
              "  .colab-df-quickchart-complete:disabled:hover {\n",
              "    background-color: var(--disabled-bg-color);\n",
              "    fill: var(--disabled-fill-color);\n",
              "    box-shadow: none;\n",
              "  }\n",
              "\n",
              "  .colab-df-spinner {\n",
              "    border: 2px solid var(--fill-color);\n",
              "    border-color: transparent;\n",
              "    border-bottom-color: var(--fill-color);\n",
              "    animation:\n",
              "      spin 1s steps(1) infinite;\n",
              "  }\n",
              "\n",
              "  @keyframes spin {\n",
              "    0% {\n",
              "      border-color: transparent;\n",
              "      border-bottom-color: var(--fill-color);\n",
              "      border-left-color: var(--fill-color);\n",
              "    }\n",
              "    20% {\n",
              "      border-color: transparent;\n",
              "      border-left-color: var(--fill-color);\n",
              "      border-top-color: var(--fill-color);\n",
              "    }\n",
              "    30% {\n",
              "      border-color: transparent;\n",
              "      border-left-color: var(--fill-color);\n",
              "      border-top-color: var(--fill-color);\n",
              "      border-right-color: var(--fill-color);\n",
              "    }\n",
              "    40% {\n",
              "      border-color: transparent;\n",
              "      border-right-color: var(--fill-color);\n",
              "      border-top-color: var(--fill-color);\n",
              "    }\n",
              "    60% {\n",
              "      border-color: transparent;\n",
              "      border-right-color: var(--fill-color);\n",
              "    }\n",
              "    80% {\n",
              "      border-color: transparent;\n",
              "      border-right-color: var(--fill-color);\n",
              "      border-bottom-color: var(--fill-color);\n",
              "    }\n",
              "    90% {\n",
              "      border-color: transparent;\n",
              "      border-bottom-color: var(--fill-color);\n",
              "    }\n",
              "  }\n",
              "</style>\n",
              "\n",
              "  <script>\n",
              "    async function quickchart(key) {\n",
              "      const quickchartButtonEl =\n",
              "        document.querySelector('#' + key + ' button');\n",
              "      quickchartButtonEl.disabled = true;  // To prevent multiple clicks.\n",
              "      quickchartButtonEl.classList.add('colab-df-spinner');\n",
              "      try {\n",
              "        const charts = await google.colab.kernel.invokeFunction(\n",
              "            'suggestCharts', [key], {});\n",
              "      } catch (error) {\n",
              "        console.error('Error during call to suggestCharts:', error);\n",
              "      }\n",
              "      quickchartButtonEl.classList.remove('colab-df-spinner');\n",
              "      quickchartButtonEl.classList.add('colab-df-quickchart-complete');\n",
              "    }\n",
              "    (() => {\n",
              "      let quickchartButtonEl =\n",
              "        document.querySelector('#df-78c34100-e2c0-4611-a5b6-0d271c87dad5 button');\n",
              "      quickchartButtonEl.style.display =\n",
              "        google.colab.kernel.accessAllowed ? 'block' : 'none';\n",
              "    })();\n",
              "  </script>\n",
              "</div>\n",
              "\n",
              "    </div>\n",
              "  </div>\n"
            ],
            "application/vnd.google.colaboratory.intrinsic+json": {
              "type": "dataframe",
              "variable_name": "products",
              "summary": "{\n  \"name\": \"products\",\n  \"rows\": 49688,\n  \"fields\": [\n    {\n      \"column\": \"product_id\",\n      \"properties\": {\n        \"dtype\": \"number\",\n        \"std\": 14343,\n        \"min\": 1,\n        \"max\": 49688,\n        \"num_unique_values\": 49688,\n        \"samples\": [\n          33627,\n          18193,\n          47100\n        ],\n        \"semantic_type\": \"\",\n        \"description\": \"\"\n      }\n    },\n    {\n      \"column\": \"product_name\",\n      \"properties\": {\n        \"dtype\": \"string\",\n        \"num_unique_values\": 49688,\n        \"samples\": [\n          \"Mix Popcorn\",\n          \"Tangerine Lime Drink Tabs\",\n          \"Fire Roasted Diced Tomatoes With Seasonings\"\n        ],\n        \"semantic_type\": \"\",\n        \"description\": \"\"\n      }\n    },\n    {\n      \"column\": \"department_id\",\n      \"properties\": {\n        \"dtype\": \"number\",\n        \"std\": 5,\n        \"min\": 1,\n        \"max\": 21,\n        \"num_unique_values\": 21,\n        \"samples\": [\n          19,\n          5,\n          6\n        ],\n        \"semantic_type\": \"\",\n        \"description\": \"\"\n      }\n    }\n  ]\n}"
            }
          },
          "metadata": {},
          "execution_count": 31
        }
      ],
      "source": [
        "# LEAVE AS-IS\n",
        "\n",
        "# File names\n",
        "INPUT_PRODUCTS = \"instacart-products.csv\"\n",
        "INPUT_TRANSACTIONS = \"instacart-transactions.csv.gz\"\n",
        "\n",
        "# Read into a dataframe\n",
        "products = pd.read_csv(INPUT_PRODUCTS, delimiter=\",\")\n",
        "\n",
        "# Set product_id as index, and drop column aisle_id\n",
        "products = products.set_index('product_id').drop(columns=['aisle_id'])\n",
        "\n",
        "products.head(100)"
      ]
    },
    {
      "cell_type": "markdown",
      "metadata": {
        "id": "V3AZt_bM6BdX"
      },
      "source": [
        "## 2.1. Select by department"
      ]
    },
    {
      "cell_type": "code",
      "execution_count": null,
      "metadata": {
        "id": "6ldgfsdR6BdX"
      },
      "outputs": [],
      "source": [
        "# LEAVE AS-IS\n",
        "\n",
        "DEPT_BAKERY = 3\n",
        "DEPT_VEGGIES = 4\n",
        "DEPT_ALCOHOL = 5\n",
        "DEPT_WORLD = 6\n",
        "DEPT_DRINKS = 7\n",
        "DEPT_PETS = 8\n",
        "DEPT_PHARMACY = 11\n",
        "DEPT_CLEANING = 17\n",
        "DEPT_BABIES = 18"
      ]
    },
    {
      "cell_type": "markdown",
      "metadata": {
        "id": "_DuKF4Gx6BdX"
      },
      "source": [
        "<font size=\"+1\" color=\"red\">Replace this cell with your code for *select_from_departments*.</font>"
      ]
    },
    {
      "cell_type": "code",
      "source": [
        "def select_from_departments(dataframe, product_ids, department_ids):\n",
        "  selected_products = []\n",
        "\n",
        "  # Loop through each product ID in the provided list\n",
        "  for product_id in product_ids:\n",
        "        # Check if the product's department_id matches one of the department_ids\n",
        "        try:\n",
        "            if dataframe.loc[product_id].department_id in department_ids:\n",
        "                selected_products.append(product_id)\n",
        "        except KeyError:\n",
        "            # Handle case where product_id is not found in the dataframe\n",
        "            continue\n",
        "\n",
        "  return selected_products"
      ],
      "metadata": {
        "id": "FGEMbb7PC6OV"
      },
      "execution_count": null,
      "outputs": []
    },
    {
      "cell_type": "markdown",
      "metadata": {
        "id": "iGXxHS_u6BdX"
      },
      "source": [
        "<font size=\"+1\" color=\"red\">Replace this cell with code to test your function with three different test cases. Each test case is a list of items and a list of 1, 2, or 3 departments.</font>"
      ]
    },
    {
      "cell_type": "code",
      "source": [
        "def display_products_info(products, product_ids, header):\n",
        "    print(header)\n",
        "    for product_id in product_ids:\n",
        "        try:\n",
        "            product_info = products.loc[product_id]\n",
        "            print(f\"{product_id} {product_info['product_name']} (dept {product_info['department_id']})\")\n",
        "        except KeyError:\n",
        "            # Handle case where product_id is not found in the dataframe\n",
        "            print(f\"{product_id} Not Found\")\n",
        "\n",
        "# Example test case list of product IDs\n",
        "test_product_ids = [22, 26, 45, 54, 57, 71, 111, 112]\n",
        "\n",
        "# Departments to filter (e.g., DEPT_BAKERY and DEPT_CLEANING)\n",
        "department_ids = [3, 17]\n",
        "\n",
        "# Show input products information\n",
        "display_products_info(products, test_product_ids, \"Input products:\")\n",
        "\n",
        "# Run the selection function\n",
        "selected_products = select_from_departments(products, test_product_ids, department_ids)\n",
        "\n",
        "# Show selected products information\n",
        "display_products_info(products, selected_products, \"\\nSelected products:\")"
      ],
      "metadata": {
        "colab": {
          "base_uri": "https://localhost:8080/"
        },
        "id": "KvdsWHFTDadk",
        "outputId": "5dd8d532-6588-4e42-bce2-80fe197a5990"
      },
      "execution_count": null,
      "outputs": [
        {
          "output_type": "stream",
          "name": "stdout",
          "text": [
            "Input products:\n",
            "22 Fresh Breath Oral Rinse Mild Mint (dept 11)\n",
            "26 Fancy Feast Trout Feast Flaked Wet Cat Food (dept 8)\n",
            "45 European Cucumber (dept 4)\n",
            "54 24/7 Performance Cat Litter (dept 8)\n",
            "57 Flat Toothpicks (dept 17)\n",
            "71 Ultra 7 Inch Polypropylene Traditional Plates (dept 17)\n",
            "111 Fabric Softener, Geranium Scent (dept 17)\n",
            "112 Hot Tomatillo Salsa (dept 13)\n",
            "\n",
            "Selected products:\n",
            "57 Flat Toothpicks (dept 17)\n",
            "71 Ultra 7 Inch Polypropylene Traditional Plates (dept 17)\n",
            "111 Fabric Softener, Geranium Scent (dept 17)\n"
          ]
        }
      ]
    },
    {
      "cell_type": "markdown",
      "metadata": {
        "id": "ppuBt7RJ6BdX"
      },
      "source": [
        "## 2.2. Read and filter transactions"
      ]
    },
    {
      "cell_type": "markdown",
      "metadata": {
        "id": "KnnOq74z6BdX"
      },
      "source": [
        "<font size=\"+1\" color=\"red\">Replace this cell with your code to read transactions, keeping only items in DEPT_PHARMACY. Remember to stop after storing 5000 of the transactions read.</font>"
      ]
    },
    {
      "cell_type": "code",
      "source": [
        "import csv\n",
        "import gzip\n",
        "#We do a general function to get\n",
        "# Function to read transactions and filter by department\n",
        "def read_and_filter_transactions(input_transactions, products, dept_id, max_transactions=5000):\n",
        "    transactions = []\n",
        "    stored_count = 0\n",
        "    read_count = 0\n",
        "\n",
        "    # Open the compressed transactions file\n",
        "    with gzip.open(input_transactions, \"rt\") as inputfile:\n",
        "\n",
        "        # Create a CSV reader\n",
        "        reader = csv.reader(inputfile, delimiter=\",\")\n",
        "\n",
        "        # Iterate through each row (transaction) in the file\n",
        "        for row in reader:\n",
        "            read_count += 1\n",
        "\n",
        "            # Convert product IDs to integers\n",
        "            items = [int(x) for x in row]\n",
        "\n",
        "            # Filter the items by department\n",
        "            filtered_items = select_from_departments(products, items, dept_id)\n",
        "\n",
        "            # Store the transaction if it contains products from the selected department\n",
        "            if filtered_items:\n",
        "                transactions.append(filtered_items)\n",
        "                stored_count += 1\n",
        "\n",
        "            # Print progress every 1000 transactions read\n",
        "            if read_count % 1000 == 0:\n",
        "                print(f\"Transactions read: {read_count}, Transactions stored: {stored_count}\")\n",
        "\n",
        "            # Stop after storing 5000 transactions\n",
        "            if stored_count >= max_transactions:\n",
        "                break\n",
        "\n",
        "    return transactions"
      ],
      "metadata": {
        "id": "Z6zYUEECHcGJ"
      },
      "execution_count": null,
      "outputs": []
    },
    {
      "cell_type": "code",
      "source": [
        "transactions_1 = read_and_filter_transactions(INPUT_TRANSACTIONS, products, [DEPT_PHARMACY])"
      ],
      "metadata": {
        "colab": {
          "base_uri": "https://localhost:8080/"
        },
        "id": "NqiIildz91Rh",
        "outputId": "52b9b2e7-eba6-483b-a801-8b2101da5f4b"
      },
      "execution_count": null,
      "outputs": [
        {
          "output_type": "stream",
          "name": "stdout",
          "text": [
            "Transactions read: 1000, Transactions stored: 102\n",
            "Transactions read: 2000, Transactions stored: 219\n",
            "Transactions read: 3000, Transactions stored: 313\n",
            "Transactions read: 4000, Transactions stored: 422\n",
            "Transactions read: 5000, Transactions stored: 526\n",
            "Transactions read: 6000, Transactions stored: 619\n",
            "Transactions read: 7000, Transactions stored: 722\n",
            "Transactions read: 8000, Transactions stored: 810\n",
            "Transactions read: 9000, Transactions stored: 920\n",
            "Transactions read: 10000, Transactions stored: 1046\n",
            "Transactions read: 11000, Transactions stored: 1152\n",
            "Transactions read: 12000, Transactions stored: 1245\n",
            "Transactions read: 13000, Transactions stored: 1352\n",
            "Transactions read: 14000, Transactions stored: 1459\n",
            "Transactions read: 15000, Transactions stored: 1559\n",
            "Transactions read: 16000, Transactions stored: 1663\n",
            "Transactions read: 17000, Transactions stored: 1753\n",
            "Transactions read: 18000, Transactions stored: 1854\n",
            "Transactions read: 19000, Transactions stored: 1943\n",
            "Transactions read: 20000, Transactions stored: 2066\n",
            "Transactions read: 21000, Transactions stored: 2184\n",
            "Transactions read: 22000, Transactions stored: 2284\n",
            "Transactions read: 23000, Transactions stored: 2375\n",
            "Transactions read: 24000, Transactions stored: 2480\n",
            "Transactions read: 25000, Transactions stored: 2588\n",
            "Transactions read: 26000, Transactions stored: 2705\n",
            "Transactions read: 27000, Transactions stored: 2806\n",
            "Transactions read: 28000, Transactions stored: 2903\n",
            "Transactions read: 29000, Transactions stored: 2999\n",
            "Transactions read: 30000, Transactions stored: 3091\n",
            "Transactions read: 31000, Transactions stored: 3194\n",
            "Transactions read: 32000, Transactions stored: 3307\n",
            "Transactions read: 33000, Transactions stored: 3408\n",
            "Transactions read: 34000, Transactions stored: 3503\n",
            "Transactions read: 35000, Transactions stored: 3595\n",
            "Transactions read: 36000, Transactions stored: 3703\n",
            "Transactions read: 37000, Transactions stored: 3813\n",
            "Transactions read: 38000, Transactions stored: 3912\n",
            "Transactions read: 39000, Transactions stored: 4019\n",
            "Transactions read: 40000, Transactions stored: 4119\n",
            "Transactions read: 41000, Transactions stored: 4210\n",
            "Transactions read: 42000, Transactions stored: 4310\n",
            "Transactions read: 43000, Transactions stored: 4419\n",
            "Transactions read: 44000, Transactions stored: 4524\n",
            "Transactions read: 45000, Transactions stored: 4633\n",
            "Transactions read: 46000, Transactions stored: 4731\n",
            "Transactions read: 47000, Transactions stored: 4822\n",
            "Transactions read: 48000, Transactions stored: 4926\n"
          ]
        }
      ]
    },
    {
      "cell_type": "markdown",
      "metadata": {
        "id": "rj66xZZs6BdX"
      },
      "source": [
        "## 2.3. Extract association rules and comment on them"
      ]
    },
    {
      "cell_type": "markdown",
      "metadata": {
        "id": "3mLX8Ad86BdX"
      },
      "source": [
        "<font size=\"+1\" color=\"red\">Replace this cell with your code to extract association rules from the read transactions.</font>"
      ]
    },
    {
      "cell_type": "code",
      "source": [
        "results_1 = list(apriori(transactions_1, min_support=0.001, min_confidence=0.01, min_lift=5))\n",
        "print_apyori_output(results_1, products, 'product_name')"
      ],
      "metadata": {
        "id": "qnhdVPJUAtFZ",
        "colab": {
          "base_uri": "https://localhost:8080/"
        },
        "outputId": "d9d94b98-473c-479d-d984-450fc12078d9"
      },
      "execution_count": null,
      "outputs": [
        {
          "output_type": "stream",
          "name": "stdout",
          "text": [
            "Rules involving itemset [16825, 1406]\n",
            "['Vegan Nutritional Shake Sweet Vanilla Bean'] => ['Vegan Smooth Chocolate Nutritional Shake'] (support=0.0012, confidence=0.40, lift=80.00)\n",
            "['Vegan Smooth Chocolate Nutritional Shake'] => ['Vegan Nutritional Shake Sweet Vanilla Bean'] (support=0.0012, confidence=0.24, lift=80.00)\n",
            "\n",
            "Rules involving itemset [7976, 16019]\n",
            "['One Plant-Based Chocolate Flavor Nutritional Shake Drink Mix'] => ['All-In-One French Vanilla Nutritional Shake Sachet'] (support=0.0010, confidence=0.31, lift=97.66)\n",
            "['All-In-One French Vanilla Nutritional Shake Sachet'] => ['One Plant-Based Chocolate Flavor Nutritional Shake Drink Mix'] (support=0.0010, confidence=0.31, lift=97.66)\n",
            "\n",
            "Rules involving itemset [27544, 39162]\n",
            "['Lemon Verbena Hand Soap'] => ['Clean Day Basil Hand Soap'] (support=0.0018, confidence=0.12, lift=11.21)\n",
            "['Clean Day Basil Hand Soap'] => ['Lemon Verbena Hand Soap'] (support=0.0018, confidence=0.16, lift=11.21)\n",
            "\n"
          ]
        }
      ]
    },
    {
      "cell_type": "markdown",
      "metadata": {
        "id": "wtKyuFKz6BdX"
      },
      "source": [
        "<font size=\"+1\" color=\"red\">Replace this cell with a brief commentary on what you would recommend to the shopping app considering the extracted association rules.</font>"
      ]
    },
    {
      "cell_type": "markdown",
      "source": [
        "1. **Cross-Selling Opportunities:**\n",
        "\n",
        "  - **Vegan Nutritional Shakes:**\n",
        "  \n",
        "  The high lift value (80.00) between the Vegan Nutritional Shake Sweet Vanilla Bean and the Vegan Smooth Chocolate Nutritional Shake shows a good chance for cross-selling. Even though the confidence values (0.40 and 0.24) are not very high, the lift suggests that if a customer buys one of these products, they are much more likely to buy the other compared to random chance. The app could suggest the other flavor when one is added to the cart.\n",
        "  - **Plant-Based Nutritional Shakes:**\n",
        "  \n",
        "  For the One Plant-Based Chocolate Flavor Nutritional Shake Drink Mix and the All-In-One French Vanilla Nutritional Shake Sachet, the high lift (97.66) shows a strong connection between these products. The app could offer discounts to encourage customers to buy both products together.\n",
        "\n",
        "2. **Bundle Offers:**\n",
        "\n",
        "  - **Hand Soaps:**\n",
        "There is a link between Lemon Verbena Hand Soap and Clean Day Basil Hand Soap. While the confidence values (0.12 and 0.16) are low, the lift (11.21) suggests these products are more likely to be bought together. The app could offer a bundle deal for both hand soaps or suggest them as related products to increase sales.\n",
        "\n",
        "3. **Product Recommendations:**\n",
        "  - Use these rules to improve product recommendations. For example, when a customer adds the Vegan Nutritional Shake Sweet Vanilla Bean to their cart, the app can suggest the Vegan Smooth Chocolate Nutritional Shake as a related product. This increases the chance that the customer will buy both."
      ],
      "metadata": {
        "id": "inEDoEI76mg0"
      }
    },
    {
      "cell_type": "markdown",
      "metadata": {
        "id": "pbo5XpjL6BdX"
      },
      "source": [
        "## 2.4. Extract association rules and comment on them (other departments)"
      ]
    },
    {
      "cell_type": "markdown",
      "metadata": {
        "id": "D3C0itBh6BdX"
      },
      "source": [
        "<font size=\"+1\" color=\"red\">Replace this cell with code to select a different set of departments (at least two, not DEPT_PHARMACY) and extract transactions again. Avoid replicating code when possible.</font>"
      ]
    },
    {
      "cell_type": "code",
      "source": [
        "transactions_2 = read_and_filter_transactions(INPUT_TRANSACTIONS, products, [DEPT_VEGGIES,DEPT_BAKERY])"
      ],
      "metadata": {
        "colab": {
          "base_uri": "https://localhost:8080/"
        },
        "id": "UCnJ1qhg8_PC",
        "outputId": "94c430f1-e634-480a-d981-688915d021c4"
      },
      "execution_count": null,
      "outputs": [
        {
          "output_type": "stream",
          "name": "stdout",
          "text": [
            "Transactions read: 1000, Transactions stored: 817\n",
            "Transactions read: 2000, Transactions stored: 1600\n",
            "Transactions read: 3000, Transactions stored: 2400\n",
            "Transactions read: 4000, Transactions stored: 3193\n",
            "Transactions read: 5000, Transactions stored: 3971\n",
            "Transactions read: 6000, Transactions stored: 4749\n"
          ]
        }
      ]
    },
    {
      "cell_type": "code",
      "source": [
        "results_2 = list(apriori(transactions_2, min_support=0.001, min_confidence=0.8, min_lift=1))\n",
        "print_apyori_output(results_2, products, 'product_name')"
      ],
      "metadata": {
        "colab": {
          "base_uri": "https://localhost:8080/"
        },
        "id": "fRUd3c2s-Jlu",
        "outputId": "60356c0a-b3fc-4593-9d42-48ee0e5d8c64"
      },
      "execution_count": null,
      "outputs": [
        {
          "output_type": "stream",
          "name": "stdout",
          "text": [
            "Rules involving itemset [9387, 24852, 45007]\n",
            "['Granny Smith Apples', 'Organic Zucchini'] => ['Banana'] (support=0.0010, confidence=1.00, lift=5.24)\n",
            "\n",
            "Rules involving itemset [13176, 26369, 31717]\n",
            "['Organic Roma Tomato', 'Organic Cilantro'] => ['Bag of Organic Bananas'] (support=0.0010, confidence=0.83, lift=5.52)\n",
            "\n",
            "Rules involving itemset [13176, 26940, 27966]\n",
            "['Organic Large Green Asparagus', 'Organic Raspberries'] => ['Bag of Organic Bananas'] (support=0.0014, confidence=0.88, lift=5.79)\n",
            "\n",
            "Rules involving itemset [22935, 24964, 16759]\n",
            "['Organic Garlic', 'Organic Carrot Bunch'] => ['Organic Yellow Onion'] (support=0.0010, confidence=0.83, lift=18.68)\n",
            "\n",
            "Rules involving itemset [47209, 24964, 16759]\n",
            "['Organic Garlic', 'Organic Carrot Bunch'] => ['Organic Hass Avocado'] (support=0.0010, confidence=0.83, lift=9.80)\n",
            "\n",
            "Rules involving itemset [28985, 24852, 16797]\n",
            "['Michigan Organic Kale', 'Strawberries'] => ['Banana'] (support=0.0018, confidence=0.90, lift=4.71)\n",
            "\n",
            "Rules involving itemset [24852, 16797, 48679]\n",
            "['Strawberries', 'Organic Garnet Sweet Potato (Yam)'] => ['Banana'] (support=0.0010, confidence=0.83, lift=4.36)\n",
            "\n",
            "Rules involving itemset [21137, 27966, 38159]\n",
            "['Organic Raspberries', 'Organic Yellow Peaches'] => ['Organic Strawberries'] (support=0.0014, confidence=1.00, lift=9.54)\n",
            "\n",
            "Rules involving itemset [24964, 21405, 22935]\n",
            "['Organic Red Radish, Bunch', 'Organic Yellow Onion'] => ['Organic Garlic'] (support=0.0010, confidence=0.83, lift=18.27)\n",
            "\n",
            "Rules involving itemset [24184, 24852, 44142]\n",
            "['Red Peppers', 'Red Onion'] => ['Banana'] (support=0.0010, confidence=0.83, lift=4.36)\n",
            "\n",
            "Rules involving itemset [13176, 21137, 5077, 21903]\n",
            "['Bag of Organic Bananas', '100% Whole Wheat Bread', 'Organic Baby Spinach'] => ['Organic Strawberries'] (support=0.0010, confidence=0.83, lift=7.95)\n",
            "['Organic Strawberries', '100% Whole Wheat Bread', 'Organic Baby Spinach'] => ['Bag of Organic Bananas'] (support=0.0010, confidence=1.00, lift=6.62)\n",
            "\n",
            "Rules involving itemset [13176, 47209, 5876, 44359]\n",
            "['Bag of Organic Bananas', 'Organic Lemon', 'Organic Small Bunch Celery'] => ['Organic Hass Avocado'] (support=0.0010, confidence=0.83, lift=9.80)\n",
            "\n",
            "Rules involving itemset [13176, 47209, 8277, 27966]\n",
            "['Organic Hass Avocado', 'Apple Honeycrisp Organic', 'Organic Raspberries'] => ['Bag of Organic Bananas'] (support=0.0010, confidence=0.83, lift=5.52)\n",
            "\n",
            "Rules involving itemset [13176, 47209, 24964, 22935]\n",
            "['Organic Hass Avocado', 'Organic Garlic', 'Organic Yellow Onion'] => ['Bag of Organic Bananas'] (support=0.0010, confidence=0.83, lift=5.52)\n",
            "\n",
            "Rules involving itemset [13176, 30391, 44359, 22935]\n",
            "['Organic Cucumber', 'Organic Small Bunch Celery', 'Organic Yellow Onion'] => ['Bag of Organic Bananas'] (support=0.0010, confidence=0.83, lift=5.52)\n",
            "\n",
            "Rules involving itemset [13176, 30391, 47209, 22935]\n",
            "['Organic Cucumber', 'Organic Hass Avocado', 'Organic Yellow Onion'] => ['Bag of Organic Bananas'] (support=0.0010, confidence=0.83, lift=5.52)\n",
            "\n"
          ]
        }
      ]
    },
    {
      "cell_type": "markdown",
      "metadata": {
        "id": "VVfVWIBk6BdX"
      },
      "source": [
        "<font size=\"+1\" color=\"red\">Replace this cell with your commentary on the obtained rules.</font>"
      ]
    },
    {
      "cell_type": "markdown",
      "source": [
        "- Bananas, especially organic ones, appear frequently as consequent items in these rules, suggesting that customers who buy certain organic fruits and vegetables are highly likely to purchase bananas as well.\n",
        "- High lift values (ranging from 4.36 to 9.80) indicate strong associations and significant relationships between the itemsets, showing that these combinations are more likely to occur than random chance.\n",
        "- Organic products seem to have a particularly strong association in customers' purchasing patterns, especially when combined with other organic fruits or vegetables."
      ],
      "metadata": {
        "id": "sZ4C__G5--jK"
      }
    },
    {
      "cell_type": "code",
      "source": [
        "def print_apyori_output_diff_dept(association_results, info=False, info_key=False, dept_key='department_id'):\n",
        "    for relation_record in association_results:\n",
        "        itemset = list(relation_record.items)\n",
        "\n",
        "        # Consider only itemsets of two elements\n",
        "        if len(itemset) > 1:\n",
        "\n",
        "            print(\"Rules involving itemset %s\" % itemset)\n",
        "            support = relation_record.support\n",
        "\n",
        "            for rules in relation_record.ordered_statistics:\n",
        "                antecedent = list(rules.items_base)\n",
        "                consequent = list(rules.items_add)\n",
        "\n",
        "                # Retrieve departments for antecedent and consequent products\n",
        "                if info_key:\n",
        "                    antecedent = [info.loc[x][info_key] for x in antecedent]\n",
        "                    consequent = [info.loc[x][info_key] for x in consequent]\n",
        "\n",
        "                antecedent_depts = [info.loc[x][dept_key] for x in rules.items_base]\n",
        "                consequent_depts = [info.loc[x][dept_key] for x in rules.items_add]\n",
        "\n",
        "                # Check if any consequent product belongs to a different department from antecedent products\n",
        "                if any(c_dept not in antecedent_depts for c_dept in consequent_depts):\n",
        "                    confidence = rules.confidence\n",
        "                    lift = rules.lift\n",
        "\n",
        "                    print(\"%s => %s (support=%.4f, confidence=%.2f, lift=%.2f)\" %\n",
        "                          (antecedent, consequent, support, confidence, lift))\n",
        "            print()\n"
      ],
      "metadata": {
        "id": "eKYZ-Tf6Gs1b"
      },
      "execution_count": null,
      "outputs": []
    },
    {
      "cell_type": "code",
      "source": [
        "DEPT=[DEPT_BABIES, DEPT_PETS]\n",
        "transactions_3 = read_and_filter_transactions(INPUT_TRANSACTIONS, products, DEPT)"
      ],
      "metadata": {
        "colab": {
          "base_uri": "https://localhost:8080/"
        },
        "id": "qHPAf_qiojGs",
        "outputId": "9d7a290d-ca45-4877-a43e-56d47cb4414a"
      },
      "execution_count": null,
      "outputs": [
        {
          "output_type": "stream",
          "name": "stdout",
          "text": [
            "Transactions read: 1000, Transactions stored: 72\n",
            "Transactions read: 2000, Transactions stored: 143\n",
            "Transactions read: 3000, Transactions stored: 229\n",
            "Transactions read: 4000, Transactions stored: 300\n",
            "Transactions read: 5000, Transactions stored: 376\n",
            "Transactions read: 6000, Transactions stored: 452\n",
            "Transactions read: 7000, Transactions stored: 527\n",
            "Transactions read: 8000, Transactions stored: 594\n",
            "Transactions read: 9000, Transactions stored: 668\n",
            "Transactions read: 10000, Transactions stored: 753\n",
            "Transactions read: 11000, Transactions stored: 838\n",
            "Transactions read: 12000, Transactions stored: 902\n",
            "Transactions read: 13000, Transactions stored: 981\n",
            "Transactions read: 14000, Transactions stored: 1062\n",
            "Transactions read: 15000, Transactions stored: 1146\n",
            "Transactions read: 16000, Transactions stored: 1227\n",
            "Transactions read: 17000, Transactions stored: 1298\n",
            "Transactions read: 18000, Transactions stored: 1370\n",
            "Transactions read: 19000, Transactions stored: 1428\n",
            "Transactions read: 20000, Transactions stored: 1506\n",
            "Transactions read: 21000, Transactions stored: 1584\n",
            "Transactions read: 22000, Transactions stored: 1647\n",
            "Transactions read: 23000, Transactions stored: 1734\n",
            "Transactions read: 24000, Transactions stored: 1814\n",
            "Transactions read: 25000, Transactions stored: 1892\n",
            "Transactions read: 26000, Transactions stored: 1978\n",
            "Transactions read: 27000, Transactions stored: 2053\n",
            "Transactions read: 28000, Transactions stored: 2136\n",
            "Transactions read: 29000, Transactions stored: 2219\n",
            "Transactions read: 30000, Transactions stored: 2297\n",
            "Transactions read: 31000, Transactions stored: 2363\n",
            "Transactions read: 32000, Transactions stored: 2442\n",
            "Transactions read: 33000, Transactions stored: 2522\n",
            "Transactions read: 34000, Transactions stored: 2586\n",
            "Transactions read: 35000, Transactions stored: 2672\n",
            "Transactions read: 36000, Transactions stored: 2752\n",
            "Transactions read: 37000, Transactions stored: 2837\n",
            "Transactions read: 38000, Transactions stored: 2900\n",
            "Transactions read: 39000, Transactions stored: 2979\n",
            "Transactions read: 40000, Transactions stored: 3052\n",
            "Transactions read: 41000, Transactions stored: 3126\n",
            "Transactions read: 42000, Transactions stored: 3195\n",
            "Transactions read: 43000, Transactions stored: 3278\n",
            "Transactions read: 44000, Transactions stored: 3345\n",
            "Transactions read: 45000, Transactions stored: 3400\n",
            "Transactions read: 46000, Transactions stored: 3466\n",
            "Transactions read: 47000, Transactions stored: 3536\n",
            "Transactions read: 48000, Transactions stored: 3603\n",
            "Transactions read: 49000, Transactions stored: 3674\n",
            "Transactions read: 50000, Transactions stored: 3745\n",
            "Transactions read: 51000, Transactions stored: 3821\n",
            "Transactions read: 52000, Transactions stored: 3886\n",
            "Transactions read: 53000, Transactions stored: 3958\n",
            "Transactions read: 54000, Transactions stored: 4026\n",
            "Transactions read: 55000, Transactions stored: 4098\n",
            "Transactions read: 56000, Transactions stored: 4159\n",
            "Transactions read: 57000, Transactions stored: 4237\n",
            "Transactions read: 58000, Transactions stored: 4311\n",
            "Transactions read: 59000, Transactions stored: 4388\n",
            "Transactions read: 60000, Transactions stored: 4454\n",
            "Transactions read: 61000, Transactions stored: 4533\n",
            "Transactions read: 62000, Transactions stored: 4605\n",
            "Transactions read: 63000, Transactions stored: 4672\n",
            "Transactions read: 64000, Transactions stored: 4755\n",
            "Transactions read: 65000, Transactions stored: 4817\n",
            "Transactions read: 66000, Transactions stored: 4888\n",
            "Transactions read: 67000, Transactions stored: 4959\n"
          ]
        }
      ]
    },
    {
      "cell_type": "code",
      "source": [
        "results_3 = list(apriori(transactions_3, min_support=0.001, min_confidence=0.8, min_lift=1))\n",
        "print_apyori_output_diff_dept(results_3, products, \"product_name\")"
      ],
      "metadata": {
        "colab": {
          "base_uri": "https://localhost:8080/"
        },
        "id": "1U9Hk1uhHMbZ",
        "outputId": "d1d02f7d-7770-4796-a665-679aba8c868e"
      },
      "execution_count": null,
      "outputs": [
        {
          "output_type": "stream",
          "name": "stdout",
          "text": [
            "Rules involving itemset [48476, 8269]\n",
            "\n",
            "Rules involving itemset [9593, 47605]\n",
            "\n",
            "Rules involving itemset [15190, 12902]\n",
            "\n",
            "Rules involving itemset [30744, 49587]\n",
            "\n",
            "Rules involving itemset [9497, 8833, 1134]\n",
            "\n",
            "Rules involving itemset [12020, 2923, 10036]\n",
            "\n",
            "Rules involving itemset [5114, 14211, 29557]\n",
            "\n",
            "Rules involving itemset [38192, 34745, 5114]\n",
            "\n",
            "Rules involving itemset [25530, 14491, 6541]\n",
            "\n",
            "Rules involving itemset [47719, 6891, 32743]\n",
            "\n",
            "Rules involving itemset [7076, 17766, 10863]\n",
            "\n",
            "Rules involving itemset [12020, 10036, 15398]\n",
            "\n",
            "Rules involving itemset [18629, 11212, 12820]\n",
            "\n",
            "Rules involving itemset [12020, 32989, 15398]\n",
            "\n",
            "Rules involving itemset [22969, 46082, 12343]\n",
            "\n",
            "Rules involving itemset [23025, 46082, 12343]\n",
            "\n",
            "Rules involving itemset [32018, 38141, 12343]\n",
            "\n",
            "Rules involving itemset [45495, 32018, 12343]\n",
            "\n",
            "Rules involving itemset [32018, 46082, 12343]\n",
            "\n",
            "Rules involving itemset [49201, 32018, 12343]\n",
            "\n",
            "Rules involving itemset [45495, 38141, 12343]\n",
            "\n",
            "Rules involving itemset [46082, 38141, 12343]\n",
            "\n",
            "Rules involving itemset [45495, 46082, 12343]\n",
            "\n",
            "Rules involving itemset [32018, 12955, 45495]\n",
            "\n",
            "Rules involving itemset [14211, 19627, 34134]\n",
            "\n",
            "Rules involving itemset [38192, 14211, 29557]\n",
            "\n",
            "Rules involving itemset [46352, 16466, 40982]\n",
            "\n",
            "Rules involving itemset [38141, 16981, 45495]\n",
            "\n",
            "Rules involving itemset [25371, 19627, 27061]\n",
            "\n",
            "Rules involving itemset [22969, 32018, 38141]\n",
            "\n",
            "Rules involving itemset [22969, 32018, 45495]\n",
            "\n",
            "Rules involving itemset [22969, 38141, 45495]\n",
            "\n",
            "Rules involving itemset [23025, 32018, 45495]\n",
            "\n",
            "Rules involving itemset [43875, 23060, 34134]\n",
            "\n",
            "Rules involving itemset [38248, 48476, 23822]\n",
            "\n",
            "Rules involving itemset [31747, 24508, 32748]\n",
            "\n",
            "Rules involving itemset [32018, 24739, 38141]\n",
            "\n",
            "Rules involving itemset [30529, 46807, 32647]\n",
            "\n",
            "Rules involving itemset [31504, 37003, 49044]\n",
            "\n",
            "Rules involving itemset [32018, 42533, 38141]\n",
            "\n",
            "Rules involving itemset [32018, 38141, 45495]\n",
            "\n",
            "Rules involving itemset [32018, 46082, 38141]\n",
            "\n",
            "Rules involving itemset [49201, 32018, 38141]\n",
            "\n",
            "Rules involving itemset [32018, 46082, 45495]\n",
            "\n",
            "Rules involving itemset [38192, 34745, 43875]\n",
            "\n",
            "Rules involving itemset [42533, 38141, 45495]\n",
            "\n",
            "Rules involving itemset [45580, 38141, 45495]\n",
            "\n",
            "Rules involving itemset [46082, 38141, 45495]\n",
            "\n",
            "Rules involving itemset [49201, 38141, 45495]\n",
            "\n",
            "Rules involving itemset [12020, 2923, 10036, 32989]\n",
            "\n",
            "Rules involving itemset [2923, 10036, 32989, 15398]\n",
            "\n",
            "Rules involving itemset [30192, 31504, 4812, 49044]\n",
            "\n",
            "Rules involving itemset [28378, 5114, 43875, 34134]\n",
            "\n",
            "Rules involving itemset [12020, 10036, 32989, 15398]\n",
            "\n",
            "Rules involving itemset [22969, 32018, 38141, 12343]\n",
            "\n",
            "Rules involving itemset [45495, 32018, 38141, 12343]\n",
            "\n",
            "Rules involving itemset [32018, 46082, 38141, 12343]\n",
            "\n",
            "Rules involving itemset [49201, 32018, 38141, 12343]\n",
            "\n",
            "Rules involving itemset [45495, 32018, 46082, 12343]\n",
            "\n",
            "Rules involving itemset [45495, 46082, 38141, 12343]\n",
            "\n",
            "Rules involving itemset [30529, 46807, 12492, 32647]\n",
            "\n",
            "Rules involving itemset [23025, 32018, 12955, 45495]\n",
            "\n",
            "Rules involving itemset [32018, 12955, 38141, 45495]\n",
            "\n",
            "Rules involving itemset [28378, 14211, 43875, 34134]\n",
            "\n",
            "Rules involving itemset [22969, 32018, 38141, 45495]\n",
            "\n",
            "Rules involving itemset [23025, 32018, 38141, 45495]\n",
            "\n",
            "Rules involving itemset [30192, 31504, 37003, 49044]\n",
            "\n",
            "Rules involving itemset [32018, 46082, 38141, 45495]\n",
            "\n",
            "Rules involving itemset [46082, 32018, 12343, 45495, 38141]\n",
            "\n"
          ]
        }
      ]
    },
    {
      "cell_type": "markdown",
      "source": [
        "We don't find an itemset without departament_id in common."
      ],
      "metadata": {
        "id": "E3fucbDLxWYI"
      }
    },
    {
      "cell_type": "markdown",
      "metadata": {
        "id": "NsI8TWiy6BdY"
      },
      "source": [
        "<font size=\"+2\" color=\"#003300\">I hereby declare that, except for the code provided by the course instructors, all of my code, report, and figures were produced by myself.</font>"
      ]
    }
  ],
  "metadata": {
    "kernelspec": {
      "display_name": "Python 3",
      "language": "python",
      "name": "python3"
    },
    "language_info": {
      "codemirror_mode": {
        "name": "ipython",
        "version": 3
      },
      "file_extension": ".py",
      "mimetype": "text/x-python",
      "name": "python",
      "nbconvert_exporter": "python",
      "pygments_lexer": "ipython3",
      "version": "3.10.12"
    },
    "colab": {
      "provenance": []
    }
  },
  "nbformat": 4,
  "nbformat_minor": 0
}